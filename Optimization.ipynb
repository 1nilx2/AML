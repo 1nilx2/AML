{
  "nbformat": 4,
  "nbformat_minor": 0,
  "metadata": {
    "colab": {
      "name": "Optimization.ipynb",
      "provenance": [],
      "collapsed_sections": [],
      "authorship_tag": "ABX9TyO/hA+LnUI6JxWv/fGA4jlo",
      "include_colab_link": true
    },
    "kernelspec": {
      "name": "python3",
      "display_name": "Python 3"
    },
    "language_info": {
      "name": "python"
    }
  },
  "cells": [
    {
      "cell_type": "markdown",
      "metadata": {
        "id": "view-in-github",
        "colab_type": "text"
      },
      "source": [
        "<a href=\"https://colab.research.google.com/github/1nilx2/Mccombs/blob/main/Optimization.ipynb\" target=\"_parent\"><img src=\"https://colab.research.google.com/assets/colab-badge.svg\" alt=\"Open In Colab\"/></a>"
      ]
    },
    {
      "cell_type": "markdown",
      "source": [
        "# Optimization"
      ],
      "metadata": {
        "id": "u19wCzPYNddh"
      }
    },
    {
      "cell_type": "code",
      "execution_count": 2,
      "metadata": {
        "colab": {
          "base_uri": "https://localhost:8080/",
          "height": 0
        },
        "id": "NLktX21bNdGF",
        "outputId": "b48cf72a-d5b7-4ebc-df52-1cd266a54ff0"
      },
      "outputs": [
        {
          "output_type": "stream",
          "name": "stdout",
          "text": [
            "Looking in indexes: https://pypi.org/simple, https://us-python.pkg.dev/colab-wheels/public/simple/\n",
            "Requirement already satisfied: gurobipy in /usr/local/lib/python3.7/dist-packages (9.5.1)\n"
          ]
        }
      ],
      "source": [
        "!pip install gurobipy\n",
        "import gurobipy as gp\n",
        "import numpy as np\n",
        "import pandas as pd\n",
        "from scipy.optimize import minimize"
      ]
    },
    {
      "cell_type": "markdown",
      "source": [
        "# Linear Programming\n",
        "\n",
        "## LP1"
      ],
      "metadata": {
        "id": "zJj0Ao3jNhN4"
      }
    },
    {
      "cell_type": "code",
      "source": [
        "'''\n",
        "    6 oz  = X1\n",
        "    10 oz = X2 \n",
        "    num_constraint = 3\n",
        "    1) production hour\n",
        "    2) storage\n",
        "    3) demand on x1\n",
        "\n",
        "    * X1, X2 >= 0\n",
        "    This is already assumed in gurobi\n",
        "    When it's not the case, we can specify using 'lb' (lower bound)\n",
        "'''\n",
        "obj = np.array([5.0, 4.5])\n",
        "A = np.zeros((3,2))\n",
        "sense = np.array(['']*A.shape[0])\n",
        "rhs = np.zeros(len(sense))\n",
        "\n",
        "A[0,:] = np.array([3.6,3.0])\n",
        "sense[0] = '<' \n",
        "rhs[0] = 3600\n",
        "\n",
        "A[1,:]   = np.array([10,20])\n",
        "sense[1] = '<'\n",
        "rhs[1]   =  15000\n",
        "\n",
        "A[2,1] = 1\n",
        "sense[2] = '<'\n",
        "rhs[2] = 800"
      ],
      "metadata": {
        "id": "jOAsSAUXN2ZD"
      },
      "execution_count": null,
      "outputs": []
    },
    {
      "cell_type": "code",
      "source": [
        "ojModel = gp.Model() # initialize an empty model\n",
        "\n",
        "ojModX = ojModel.addMVar(2) # tell the model how many variables there are\n",
        "# must define the variables before adding constraints because variables go into the constraints\n",
        "ojModCon = ojModel.addMConstrs(A, ojModX, sense, rhs) # add the constraints to the model\n",
        "ojModel.setMObjective(None,obj,0,sense=gp.GRB.MAXIMIZE) # add the objective to the model...we'll talk about the None and the 0\n",
        "\n",
        "ojModel.Params.OutputFlag = 0 # tell gurobi to shut up!!\n",
        "ojModel.optimize()"
      ],
      "metadata": {
        "id": "h-t65ZbTQzuB"
      },
      "execution_count": null,
      "outputs": []
    },
    {
      "cell_type": "code",
      "source": [
        "ojModel.objval"
      ],
      "metadata": {
        "colab": {
          "base_uri": "https://localhost:8080/"
        },
        "id": "b7D8Ir8ERGvv",
        "outputId": "15244615-bf2d-4271-dafd-80556d824735"
      },
      "execution_count": null,
      "outputs": [
        {
          "output_type": "execute_result",
          "data": {
            "text/plain": [
              "5142.857142857143"
            ]
          },
          "metadata": {},
          "execution_count": 24
        }
      ]
    },
    {
      "cell_type": "code",
      "source": [
        "ojModX.x"
      ],
      "metadata": {
        "colab": {
          "base_uri": "https://localhost:8080/"
        },
        "id": "7s6dl60oQ28g",
        "outputId": "0bcc5d10-648c-42d5-ce18-021989908c46"
      },
      "execution_count": null,
      "outputs": [
        {
          "output_type": "execute_result",
          "data": {
            "text/plain": [
              "array([642.85714286, 428.57142857])"
            ]
          },
          "metadata": {},
          "execution_count": 25
        }
      ]
    },
    {
      "cell_type": "markdown",
      "source": [
        "### Maximization To Minimization\n",
        "\n",
        "$ From \\;\\; max_x \\; f(x) \\; $ \\\\\n",
        "$ To \\;\\; min_x -f(x) $  <br/>\n",
        "\n",
        "understand with simple quadratic equation"
      ],
      "metadata": {
        "id": "hxe6M-UUbQHs"
      }
    },
    {
      "cell_type": "markdown",
      "source": [
        "### Binding/Non-Binidng & Slack"
      ],
      "metadata": {
        "id": "cI0_3t0RcLzS"
      }
    },
    {
      "cell_type": "code",
      "source": [
        "'''\n",
        "    An ineqauiltiy constraint is binding if the solution makes it an equality\n",
        "    Otherwise, it is non-binidng\n",
        "\n",
        "    The positive difference between the two sides of the constraint\n",
        "    is called **Slack**\n",
        "\n",
        "    We does know that Slack occurs only for non-binding constraints\n",
        "'''"
      ],
      "metadata": {
        "id": "Oz-BNngRbfaF"
      },
      "execution_count": null,
      "outputs": []
    },
    {
      "cell_type": "markdown",
      "source": [
        "### How does the Simplex Method work?"
      ],
      "metadata": {
        "id": "h3qRqBiCd_VG"
      }
    },
    {
      "cell_type": "code",
      "source": [
        ""
      ],
      "metadata": {
        "id": "8tg4yB4SbS3u"
      },
      "execution_count": null,
      "outputs": []
    },
    {
      "cell_type": "code",
      "source": [
        ""
      ],
      "metadata": {
        "id": "W3FuQyM8dxHC"
      },
      "execution_count": null,
      "outputs": []
    },
    {
      "cell_type": "markdown",
      "source": [
        "## LP2"
      ],
      "metadata": {
        "id": "VzzscTLWeSsR"
      }
    },
    {
      "cell_type": "markdown",
      "source": [
        "| Train Wagon | Weight Capa | Space cap |\n",
        "| ---         |  -------    |   -----   |\n",
        "| w1          |      10     |     5000  |\n",
        "| w2          | 8           |     4000  |\n",
        "| w3          | 12          |     8000  |"
      ],
      "metadata": {
        "id": "g6Tr0gxheV5P"
      }
    },
    {
      "cell_type": "markdown",
      "source": [
        "| Cargo Type  | Available   | Volume      | Profit / tonne |\n",
        "| ---         |  -------    |   -----     | -------        |\n",
        "| c1          |      18     |     400     | 2000           |\n",
        "| c2          | 10          |     300     | 2500           |\n",
        "| c3          | 5           |     200     | 5000           |\n",
        "| c3          | 20          |     500     | 3500           |"
      ],
      "metadata": {
        "id": "Ua50_75BfVUF"
      }
    },
    {
      "cell_type": "code",
      "source": [
        "'''\n",
        "    How much of each cargo should be loaded on which wagon\n",
        "    >> We need 12 decision variables 3*4\n",
        "\n",
        "    generalized.\n",
        "    Xij = amount on wagon i with cargo j\n",
        "\n",
        "    Obejctive\n",
        "        2000X_1 + 2500X_2 + 5000X_3 + 3500X_4  < '_' contains all (wagon 1,2,3)\n",
        "\n",
        "    Constraints\n",
        "\n",
        "    1. Weight Capacity\n",
        "        sum(X1_) = 10\n",
        "        sum(X2_) = 8\n",
        "        sum(X3_) = 12\n",
        "\n",
        "    2. Space Cap\n",
        "        sum(X1_) = 5000\n",
        "        ...\n",
        "    \n",
        "    3. Available \n",
        "        sum(X_1) < 18\n",
        "        ...\n",
        "        sum(X_4) < 20\n",
        "'''"
      ],
      "metadata": {
        "id": "Z2seQDlueTZ4"
      },
      "execution_count": null,
      "outputs": []
    },
    {
      "cell_type": "code",
      "source": [
        "obj = np.array([2000,2500,5000,3500]*3) # 3 cars, each get same profit per ton of product in car\n",
        "\n",
        "A = np.zeros((10,12))\n",
        "A[0,0:4] = 1 # total tons in car 1\n",
        "A[1,4:8] = 1 # total tons in car 2\n",
        "A[2,8:12] = 1 # total tons in car 3\n",
        "A[3,0:4] = [400,300,200,500] # volume in car 1\n",
        "A[4,4:8] = [400,300,200,500] # volume in car 2\n",
        "A[5,8:12] = [400,300,200,500] # volume in car 3\n",
        "# sum tons in each car of each product to get tons available constraint\n",
        "A[6:10,0:4] = np.diag(np.ones(4)) \n",
        "A[6:10,4:8] = np.diag(np.ones(4))\n",
        "A[6:10,8:12] = np.diag(np.ones(4))\n",
        "print(A)\n",
        "b = np.array([10,8,12,5000,4000,8000,18,10,5,20])\n",
        "sense = np.array(['<']*10)"
      ],
      "metadata": {
        "colab": {
          "base_uri": "https://localhost:8080/"
        },
        "id": "gJ8dV9LeloV6",
        "outputId": "edd758c1-e4aa-4f09-e04f-e4e704a3d117"
      },
      "execution_count": null,
      "outputs": [
        {
          "output_type": "stream",
          "name": "stdout",
          "text": [
            "[[  1.   1.   1.   1.   0.   0.   0.   0.   0.   0.   0.   0.]\n",
            " [  0.   0.   0.   0.   1.   1.   1.   1.   0.   0.   0.   0.]\n",
            " [  0.   0.   0.   0.   0.   0.   0.   0.   1.   1.   1.   1.]\n",
            " [400. 300. 200. 500.   0.   0.   0.   0.   0.   0.   0.   0.]\n",
            " [  0.   0.   0.   0. 400. 300. 200. 500.   0.   0.   0.   0.]\n",
            " [  0.   0.   0.   0.   0.   0.   0.   0. 400. 300. 200. 500.]\n",
            " [  1.   0.   0.   0.   1.   0.   0.   0.   1.   0.   0.   0.]\n",
            " [  0.   1.   0.   0.   0.   1.   0.   0.   0.   1.   0.   0.]\n",
            " [  0.   0.   1.   0.   0.   0.   1.   0.   0.   0.   1.   0.]\n",
            " [  0.   0.   0.   1.   0.   0.   0.   1.   0.   0.   0.   1.]]\n"
          ]
        }
      ]
    },
    {
      "cell_type": "code",
      "source": [
        "trainMod = gp.Model()\n",
        "\n",
        "Trainx = trainMod.addMVar(len(obj)) # tell the model how many variables there are\n",
        "# must define the variables before adding constraints because variables go into the constraints\n",
        "TrainModCon = trainMod.addMConstrs(A, Trainx, sense, b) # add the constraints to the model\n",
        "trainMod.setMObjective(None,obj,0,sense=gp.GRB.MAXIMIZE) # add the objective to the model...we'll talk about the None and the 0\n",
        "\n",
        "trainMod.Params.OutputFlag = 0 # tell gurobi to shut up!!\n",
        "trainMod.optimize()"
      ],
      "metadata": {
        "id": "pierniUclr85"
      },
      "execution_count": null,
      "outputs": []
    },
    {
      "cell_type": "code",
      "source": [
        "print(f\"Objective value is  {trainMod.objVal} \")\n",
        "print(f\"Cargo for wagons are {Trainx.x}\")"
      ],
      "metadata": {
        "colab": {
          "base_uri": "https://localhost:8080/"
        },
        "id": "nfX26UxElt30",
        "outputId": "7c8da12a-da1d-468a-a0a3-fd8491537517"
      },
      "execution_count": null,
      "outputs": [
        {
          "output_type": "stream",
          "name": "stdout",
          "text": [
            "Objective value is  107500.0 \n",
            "Cargo for wagons are [ 0.  5.  5.  0.  0.  0.  0.  8.  0.  0.  0. 12.]\n"
          ]
        }
      ]
    },
    {
      "cell_type": "code",
      "source": [
        ""
      ],
      "metadata": {
        "id": "249IuyZYmN0i"
      },
      "execution_count": null,
      "outputs": []
    },
    {
      "cell_type": "markdown",
      "source": [
        "## LP3. Refinidng Problem"
      ],
      "metadata": {
        "id": "K3jZxfCTmNDl"
      }
    },
    {
      "cell_type": "code",
      "source": [
        "obj = np.array([20,15]) # barrels of Saudi and Ven oil\n",
        "\n",
        "A = np.zeros((3,2))\n",
        "A[0,] = [0.3,0.4] # gasoline constraint\n",
        "A[1,] = [0.4,0.2] # jet fuel constraint\n",
        "A[2,] = [0.2,0.3] # lube constraint\n",
        "\n",
        "ub = np.array([9000,6000]) # saudi and ven upper bound # We can also handle this in matrix A\n",
        "\n",
        "b = np.array([2000,1500,500])\n",
        "\n",
        "sense = np.array(['>','>','>'])\n"
      ],
      "metadata": {
        "id": "4SttL2bAmPMC"
      },
      "execution_count": null,
      "outputs": []
    },
    {
      "cell_type": "code",
      "source": [
        "refMod = gp.Model()\n",
        "refX = refMod.addMVar(len(obj),ub=ub)\n",
        "refModCon = refMod.addMConstrs(A, refX, sense, b)\n",
        "refMod.setMObjective(None,obj,0,sense=gp.GRB.MINIMIZE)\n",
        "refMod.Params.OutputFlag=0\n",
        "refMod.optimize()"
      ],
      "metadata": {
        "id": "sl4ANod6o5V7"
      },
      "execution_count": null,
      "outputs": []
    },
    {
      "cell_type": "code",
      "source": [
        "print(f\"Objective value is  {refMod.objVal} \")\n",
        "print(f\"Optimized amount of crude oil from each country are {refX.x}\")"
      ],
      "metadata": {
        "colab": {
          "base_uri": "https://localhost:8080/"
        },
        "id": "kAWafCJ3o8Wq",
        "outputId": "0dc3d170-4da7-4ce5-fc94-6a8a89ccfa2f"
      },
      "execution_count": null,
      "outputs": [
        {
          "output_type": "stream",
          "name": "stdout",
          "text": [
            "Objective value is  92500.0 \n",
            "Optimized amount of crude oil from each country are [2000. 3500.]\n"
          ]
        }
      ]
    },
    {
      "cell_type": "code",
      "source": [
        ""
      ],
      "metadata": {
        "id": "ArPl8StlpJsk"
      },
      "execution_count": null,
      "outputs": []
    },
    {
      "cell_type": "code",
      "source": [
        ""
      ],
      "metadata": {
        "id": "rnmAU8o7pJoq"
      },
      "execution_count": null,
      "outputs": []
    },
    {
      "cell_type": "markdown",
      "source": [
        "## Sensitivity Analysis\n",
        "\n",
        "We can imagine that if a constraint is binding, <br/>\n",
        "relaxing the condition might improve objective value and vice-versa\n",
        "\n",
        "**Shadow price or dual varialbe** associated with a particular constraint is <br/>\n",
        "the change in optimal value per unit increase in RHS for the constraint,<br/>\n",
        "while all others remain unchnaged\n",
        "\n",
        "Shadow prices remain constant over a particular range of the RHS"
      ],
      "metadata": {
        "id": "07Ie8LSLqLON"
      }
    },
    {
      "cell_type": "code",
      "source": [
        ""
      ],
      "metadata": {
        "id": "ITgca_ZRpJmm"
      },
      "execution_count": null,
      "outputs": []
    },
    {
      "cell_type": "markdown",
      "source": [
        "## Slack Variables\n",
        "\n",
        "Especially when their is lagging value from the previous time frame;\n",
        "or when inequallity is not desirable, we can add slack variables, which reduces tedious duplications. Actually Simplex method adopts this method."
      ],
      "metadata": {
        "id": "7B3XLX1r7T0E"
      }
    },
    {
      "cell_type": "code",
      "source": [
        ""
      ],
      "metadata": {
        "id": "SrpmE6SQ7xB0"
      },
      "execution_count": null,
      "outputs": []
    },
    {
      "cell_type": "markdown",
      "source": [
        "## Integer Programming\n",
        "\n",
        "Some or all variables are restricted to be integers. </br>\n",
        "Main difference with LP occurs in that IP </br>can impose speical types of conditions on our optimization solution. \n",
        "\n",
        "For example, only when project 1 is implemented, project 2 can be \n",
        "implemented </br></br> $X_1 < Y_1,  where \\; Y_1, X_1 ∈ [0,1]$\n",
        "</br></br>\n",
        "IP requires enumerations and is NP-hard problem. </br>\n",
        "What if we utilize LP?\n",
        "\n",
        "### Branch and Bound\n",
        "\n",
        "Solve problem as an LP</br>\n",
        "See if the optimal corner is non-integer\n",
        " - if so, add constraints and cut off that corner to make it integer-corner\n",
        "\n",
        "\n",
        "\n",
        "\n"
      ],
      "metadata": {
        "id": "hmmI1USY8Pu4"
      }
    },
    {
      "cell_type": "code",
      "source": [
        ""
      ],
      "metadata": {
        "id": "sRXGC7eO7xZz"
      },
      "execution_count": null,
      "outputs": []
    },
    {
      "cell_type": "code",
      "source": [
        ""
      ],
      "metadata": {
        "id": "c1umVzGSSMl9"
      },
      "execution_count": null,
      "outputs": []
    },
    {
      "cell_type": "markdown",
      "source": [
        "# Non-linear Programming \n",
        "\n",
        "we know that linear objective function and linear constraints are not always realistic. </br>\n",
        "With this realistic NLP, we might not find optimal solution using feasible corners. </br></br>\n",
        "\n",
        "One option can be find first-order derivatives and locate the point make it zero. </br>\n",
        " - But, what if the objective function is not deferentiable?\n",
        " - What if we don't know the what the objective function is\n",
        " - x that makes f(x)=0 can be maximum/minimum/saddle\n",
        "\n",
        "\n",
        " When is a local minimum guaranteed to be global minimum?</br>\n",
        " we need to know \n",
        "  - Convex/Concave function\n",
        "  - Convex sets\n"
      ],
      "metadata": {
        "id": "RZZK-A4IAVbP"
      }
    },
    {
      "cell_type": "markdown",
      "source": [
        "## Convex function\n",
        "\n",
        "if we draw a line between two points, every values of the function are located below the straight line.\n",
        "\n",
        "![Convex.png](data:image/png;base64,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)"
      ],
      "metadata": {
        "id": "3CMJCQk1B2Pe"
      }
    },
    {
      "cell_type": "markdown",
      "source": [
        "If we have a function that consists of differentiable variables, \n",
        "how do know know whether this is convex/concave?\n",
        "\n",
        "**Using Hessian Matrix**\n",
        "\n",
        "Why checking our problem is convex is important?\n",
        "Because we can make sure that our local minimum is global minimum and thus using the techniques for pinpointing local minima. \n",
        "\n",
        "Mathemetical Characteristics of Convex Problem\n",
        " - objective is convex\n",
        " - inequality constraints are convex\n",
        " - equality constraints are linear\n",
        " - local minima is global minima\n",
        "\n",
        "General Portraits\n",
        " - No analytical solutions\n",
        " - There are many algorithms/softwares to solve convex problem\n",
        " - Many tricks exists for altering non-convex problem to convex\n",
        " \n",
        "\n",
        "\n",
        "\n"
      ],
      "metadata": {
        "id": "O0g5nJw0GLw8"
      }
    },
    {
      "cell_type": "markdown",
      "source": [
        "## Python Packages for NLP\n",
        "\n",
        "scipy.optimize / pyomo / pysolnp\n",
        "\n",
        "#### For scipy.optimize, you must tell solver type\n",
        " - BFGS: for unconsrained problems\n",
        " - L-BFGS-B: for box constraints $(a≤x\\le b)$\n",
        " - SLSQP: for general constraints\n",
        "\n",
        " - These wokr well only for convex programs"
      ],
      "metadata": {
        "id": "lHXPvKuKA5wt"
      }
    },
    {
      "cell_type": "markdown",
      "source": [
        "#### Minimize $f \\; ≡  \\;$  Maximize $-f$\n",
        "#### Maximize $f \\; ≡  \\;$  Minimize $-f$"
      ],
      "metadata": {
        "id": "x_z7Ga5ECA0W"
      }
    },
    {
      "cell_type": "code",
      "source": [
        "# Scipy\n",
        "# 1)Def function to minimize\n",
        "\n",
        "def neg_profit(price):\n",
        "    demand = 3777178*(price[0]**(-2.154))\n",
        "    rev = price[0]*demand\n",
        "    cost = demand*50\n",
        "\n",
        "    profit = rev - cost\n",
        "    return (-profit)\n"
      ],
      "metadata": {
        "id": "iqfmS1PGB8IO"
      },
      "execution_count": 4,
      "outputs": []
    },
    {
      "cell_type": "code",
      "source": [
        "# 2)Run Sicpy with appropriate information for type of solver\n",
        "\n",
        "optProfit = minimize(neg_profit, [100], method='L-BFGS-B', bounds=[(0,1000)], tol=1e-8)\n",
        "print(optProfit.x)\n",
        "print(optProfit.fun)"
      ],
      "metadata": {
        "colab": {
          "base_uri": "https://localhost:8080/",
          "height": 0
        },
        "id": "TfBDUtv0DHkX",
        "outputId": "3b4f91f9-075c-4e8f-d779-ae144a28b8cd"
      },
      "execution_count": 5,
      "outputs": [
        {
          "output_type": "stream",
          "name": "stdout",
          "text": [
            "[93.32767827]\n",
            "-9343.946309318624\n"
          ]
        }
      ]
    },
    {
      "cell_type": "code",
      "source": [
        "# Scipy One more example\n",
        "# 1)def function to minimize\n",
        "\n",
        "def get_dist(xy):\n",
        "    dist1 = np.sqrt((5-xy[0])**2 + (10-xy[1])**2 )\n",
        "    dist2 = np.sqrt((10-xy[0])**2 + (5-xy[1])**2 ) \n",
        "    dist3 = np.sqrt((0-xy[0])**2 + (12-xy[1])**2 )\n",
        "    dist4 = np.sqrt((12-xy[0])**2 + (0-xy[1])**2 )\n",
        "\n",
        "    tot_dist = 2 * (dist1*200 + dist2*150 + dist3*200 + dist4*300)\n",
        "    return tot_dist\n",
        "\n",
        "# 2)run scipy with approp info\n",
        "\n",
        "optDist = minimize(get_dist, [200,100], method='BFGS')\n",
        "print(optDist.x)\n",
        "print(optDist.fun)\n"
      ],
      "metadata": {
        "colab": {
          "base_uri": "https://localhost:8080/",
          "height": 0
        },
        "id": "OBjmyBoZDvGG",
        "outputId": "5525e3a9-4cdd-4391-9c7a-275b194f0c18"
      },
      "execution_count": 8,
      "outputs": [
        {
          "output_type": "stream",
          "name": "stdout",
          "text": [
            "[9.31416525 5.0287053 ]\n",
            "10913.079375025736\n"
          ]
        }
      ]
    },
    {
      "cell_type": "markdown",
      "source": [
        "### What if we add more constraints for this problem?\n",
        "How we can form the constraints with Minimize function"
      ],
      "metadata": {
        "id": "urnxy8X2QbvX"
      }
    },
    {
      "cell_type": "code",
      "source": [
        "# Inequality constraints must be >= 0\n",
        "# So if we want to impose a constraint that\n",
        "# A river runs diagonally through town and \n",
        "# The warehouse needs to be on the north side of the river <=> Y>X\n",
        "\n",
        "# We can express like this: X[1] > X[0] \n",
        "# However, as we said, what can remain on the RHS is 0\n",
        "# Re-formulate this X[1] - X[0] >= 0\n",
        "\n",
        "# ' >=0 ' part can be ommited\n",
        "\n",
        "def confun(x):\n",
        "    return x[1] - x[0]\n",
        "\n",
        "constr1 = {'type': 'ineq', 'fun':confun}\n",
        "constraints = [constr1]\n",
        "\n",
        "best_loc_north = minimize( get_dist, [3,2], constraints=constraints )\n",
        "print(best_loc_north.x)\n",
        "print(best_loc_north.fun)"
      ],
      "metadata": {
        "colab": {
          "base_uri": "https://localhost:8080/",
          "height": 0
        },
        "id": "BDc5OfW0QkQa",
        "outputId": "de767531-74d9-4725-8796-885391b08f4b"
      },
      "execution_count": 9,
      "outputs": [
        {
          "output_type": "stream",
          "name": "stdout",
          "text": [
            "[6.93579245 6.93579245]\n",
            "11124.981578185989\n"
          ]
        }
      ]
    },
    {
      "cell_type": "markdown",
      "source": [
        "### Quirks of Non-Linear Solvers\n",
        "\n",
        "If you have an inequality constraint, it's usually best for your initial guess to be at a point that does not satisfy the inequality constraint\n",
        "\n",
        "If you have an equality constraint, you should start at a point that satisfies that constraint"
      ],
      "metadata": {
        "id": "x1SNlSLwR1nE"
      }
    },
    {
      "cell_type": "code",
      "source": [
        ""
      ],
      "metadata": {
        "id": "8_MEbnvISGqh"
      },
      "execution_count": null,
      "outputs": []
    },
    {
      "cell_type": "markdown",
      "metadata": {
        "id": "bMfOjNXOEoZc"
      },
      "source": [
        "### Jacobian\n",
        "If we can do a little calculus then we can do better!\n",
        "\n",
        "The jacobian is the vector of partial derivatives\n",
        "\n",
        "If we can calculate the jacobian of the objective and each constraint the solver will work better"
      ]
    },
    {
      "cell_type": "code",
      "execution_count": 10,
      "metadata": {
        "id": "2j299ukSEoZe"
      },
      "outputs": [],
      "source": [
        "def con_jac(xy):\n",
        "    return [-1,1]"
      ]
    },
    {
      "cell_type": "code",
      "execution_count": 11,
      "metadata": {
        "id": "JFgzaDcEEoZe"
      },
      "outputs": [],
      "source": [
        "con1 = constr1 = {'type':'ineq', 'fun': confun, 'jac': con_jac}\n",
        "con = [con1]"
      ]
    },
    {
      "cell_type": "code",
      "execution_count": 12,
      "metadata": {
        "id": "5n2CKxTUEoZe"
      },
      "outputs": [],
      "source": [
        "def obj_jac(xy):\n",
        "    dd1dx = 0.5/np.sqrt((5-xy[0])**2 + (10-xy[1])**2)*2*(xy[0]-5)\n",
        "    dd1dy = 0.5/np.sqrt((5-xy[0])**2 + (10-xy[1])**2)*2*(xy[1]-10)\n",
        "    dd2dx = 0.5/np.sqrt((10-xy[0])**2 + (5-xy[1])**2)*2*(xy[0]-10)\n",
        "    dd2dy = 0.5/np.sqrt((10-xy[0])**2 + (5-xy[1])**2)*2*(xy[1]-5)\n",
        "    dd3dx = 0.5/np.sqrt((0-xy[0])**2 + (12-xy[1])**2)*2*(xy[0]-0)\n",
        "    dd3dy = 0.5/np.sqrt((0-xy[0])**2 + (12-xy[1])**2)*2*(xy[1]-12)\n",
        "    dd4dx = 0.5/np.sqrt((12-xy[0])**2 + (0-xy[1])**2)*2*(xy[0]-12)\n",
        "    dd4dy = 0.5/np.sqrt((12-xy[0])**2 + (0-xy[1])**2)*2*(xy[1]-0)\n",
        "    \n",
        "    return [2*(dd1dx*200 + dd2dx*150 + dd3dx*200 + dd4dx*300), 2*(dd1dy*200 + dd2dy*150 + dd3dy*200 + dd4dy*300)]"
      ]
    },
    {
      "cell_type": "code",
      "execution_count": 15,
      "metadata": {
        "id": "I0eMynAeEoZf",
        "colab": {
          "base_uri": "https://localhost:8080/",
          "height": 0
        },
        "outputId": "8acd35f9-19fe-47bd-ebde-dfe81b22e4ff"
      },
      "outputs": [
        {
          "output_type": "stream",
          "name": "stdout",
          "text": [
            "[6.93579262 6.93579262]\n",
            "11124.981578187218\n"
          ]
        }
      ],
      "source": [
        "best_loc_north_withJacobian = minimize(get_dist,[3,2],constraints=con,jac=obj_jac)\n",
        "\n",
        "print(best_loc_north_withJacobian.x)\n",
        "print(best_loc_north_withJacobian.fun)"
      ]
    },
    {
      "cell_type": "code",
      "execution_count": null,
      "metadata": {
        "id": "JOemVxlVEoZf"
      },
      "outputs": [],
      "source": [
        ""
      ]
    },
    {
      "cell_type": "markdown",
      "source": [
        "## Quadratic Programming (QP)\n",
        "\n",
        " - A special type of NLP\n",
        "\n",
        " - The general form of QP is\n",
        "\n",
        "$$ min_x \\;  x^TQx + c^Tx $$ \\\\\n",
        "$$s.t. \\; Ax ≤ b, x ≥ 0$$\n",
        "\n",
        "In gurobi, the only step needed is \\\\\n",
        "to tell 'Q' to the objective. $X^T, X$ assumed automatically\n",
        "\n",
        "\n",
        "\n",
        "\n"
      ],
      "metadata": {
        "id": "RDlXTRQNTDUq"
      }
    },
    {
      "cell_type": "markdown",
      "source": [
        "### Portfolio Optimization\n",
        " - The goal is to minimize variance, maximizing return\n",
        "\n",
        "> $ min_{W} \\; W^T \\sum W $ </br>\n",
        "> $ s.t.$\n",
        ">> $ 1^TW = 1 $ \\\\\n",
        ">> $ r^TW ≥ R $ \\\\\n",
        ">> $ w \\ge 0 $\n",
        "\n",
        "$\\sum$ is a pairwise covariance matrix of stock returns\n",
        "\n",
        "\n",
        "\n",
        "\n",
        "\n"
      ],
      "metadata": {
        "id": "BK537gmbWuUO"
      }
    },
    {
      "cell_type": "code",
      "source": [
        "# R\n",
        "threshold_return = 0.09\n",
        "\n",
        "# r**T & Sigma\n",
        "meanvec = np.array([.1073,.0737,.0627])\n",
        "Sigma = np.zeros((3,3))\n",
        "Sigma[0,:] = [0.0278,0.00387,0.000207]\n",
        "Sigma[1,:] = [0.00387,0.0111,-0.000195]\n",
        "Sigma[2,:] = [0.000207,-0.000195,0.00116]\n",
        "\n",
        "w = np.ones(3)/3\n",
        "\n",
        "print(w @ Sigma @ w)\n",
        "\n",
        "print(w @ meanvec)"
      ],
      "metadata": {
        "colab": {
          "base_uri": "https://localhost:8080/",
          "height": 0
        },
        "id": "waBsYcV8T2nV",
        "outputId": "cb7351c9-ef75-4b52-9fdc-03ac9fcd05f6"
      },
      "execution_count": 17,
      "outputs": [
        {
          "output_type": "stream",
          "name": "stdout",
          "text": [
            "0.0053137777777777775\n",
            "0.08123333333333334\n"
          ]
        }
      ]
    },
    {
      "cell_type": "code",
      "source": [
        "# constraint0: weights sum to 1\n",
        "# constraint1: mean return is >= 9%\n",
        "\n",
        "A = np.ones((2,3)) # row 0 is all 1s already\n",
        "A[1,:] = meanvec # now change row 1\n",
        "\n",
        "b = np.ones(2) # row 0 is already 1\n",
        "b[1] = threshold_return # now change row 1\n",
        "\n",
        "sense = ['=','>'] \n"
      ],
      "metadata": {
        "id": "Sl3G65XYcMyH"
      },
      "execution_count": 18,
      "outputs": []
    },
    {
      "cell_type": "code",
      "source": [
        "portMod = gp.Model()\n",
        "portMod_x = portMod.addMVar(3,ub=np.array([1,1,1]))\n",
        "portMod_con = portMod.addMConstrs(A, portMod_x, sense, b)\n",
        "portMod.setMObjective(Sigma,None,0,sense=gp.GRB.MINIMIZE)\n",
        "\n",
        "portMod.Params.OutputFlag = 0 \n",
        "\n",
        "portMod.optimize()\n"
      ],
      "metadata": {
        "colab": {
          "base_uri": "https://localhost:8080/",
          "height": 0
        },
        "id": "Hqq8JJj0cTCY",
        "outputId": "a3b7942d-dbdc-443a-f5d5-dad9720ae96e"
      },
      "execution_count": 19,
      "outputs": [
        {
          "output_type": "stream",
          "name": "stdout",
          "text": [
            "Restricted license - for non-production use only - expires 2023-10-25\n"
          ]
        }
      ]
    },
    {
      "cell_type": "code",
      "source": [
        "print(portMod_x.x)\n",
        "print(portMod.objVal)"
      ],
      "metadata": {
        "colab": {
          "base_uri": "https://localhost:8080/",
          "height": 0
        },
        "id": "OVInq-EhcWSe",
        "outputId": "6beb846b-39e2-4384-d80d-c6e333ebef81"
      },
      "execution_count": 20,
      "outputs": [
        {
          "output_type": "stream",
          "name": "stdout",
          "text": [
            "[0.56328345 0.19795984 0.23875671]\n",
            "0.010222039472786854\n"
          ]
        }
      ]
    },
    {
      "cell_type": "code",
      "source": [
        ""
      ],
      "metadata": {
        "id": "Pu1XS_dzctLo"
      },
      "execution_count": null,
      "outputs": []
    },
    {
      "cell_type": "markdown",
      "metadata": {
        "id": "9vrn44xlYR8U"
      },
      "source": [
        "#### Now solve it as a general NLP"
      ]
    },
    {
      "cell_type": "code",
      "execution_count": 21,
      "metadata": {
        "id": "pwGGTDpWYR8V"
      },
      "outputs": [],
      "source": [
        "def obj_fun(x):\n",
        "    return x @ Sigma @ x"
      ]
    },
    {
      "cell_type": "code",
      "execution_count": 22,
      "metadata": {
        "id": "9i_pzGqaYR8V"
      },
      "outputs": [],
      "source": [
        "# inequality constraints must be >= 0\n",
        "def mean_con_fun(x):\n",
        "    return (x @ meanvec) - threshold_return"
      ]
    },
    {
      "cell_type": "code",
      "execution_count": 23,
      "metadata": {
        "id": "YkFbu7NFYR8W"
      },
      "outputs": [],
      "source": [
        "# equality constraints must be =0\n",
        "def all_invest_con(x):\n",
        "    return np.sum(x)-1"
      ]
    },
    {
      "cell_type": "code",
      "execution_count": 24,
      "metadata": {
        "id": "4fkukjAuYR8W"
      },
      "outputs": [],
      "source": [
        "con1 = {'type':'eq', 'fun': all_invest_con}\n",
        "con2 = {'type':'ineq', 'fun': mean_con_fun}\n",
        "cons = [con1,con2]\n",
        "bds = [(0,1),(0,1),(0,1)] # all weights must be between 0-1"
      ]
    },
    {
      "cell_type": "code",
      "execution_count": 28,
      "metadata": {
        "id": "QibXLhmSYR8X",
        "colab": {
          "base_uri": "https://localhost:8080/",
          "height": 0
        },
        "outputId": "0120f252-4967-4a4b-a576-3dd76edee69c"
      },
      "outputs": [
        {
          "output_type": "stream",
          "name": "stdout",
          "text": [
            "[0.56328343 0.19795991 0.23875666]\n",
            "0.01022203949243753\n"
          ]
        }
      ],
      "source": [
        "# if you don't tell it what method to use it will default to the correct method based on constraints/bounds\n",
        "\n",
        "opt_port = minimize(obj_fun,w,constraints=cons,bounds=bds) \n",
        "print(opt_port.x)\n",
        "print(opt_port.fun)"
      ]
    }
  ]
}