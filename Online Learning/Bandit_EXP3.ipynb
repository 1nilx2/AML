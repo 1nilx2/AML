{
  "nbformat": 4,
  "nbformat_minor": 0,
  "metadata": {
    "kernelspec": {
      "display_name": "Python 3",
      "language": "python",
      "name": "python3"
    },
    "language_info": {
      "codemirror_mode": {
        "name": "ipython",
        "version": 3
      },
      "file_extension": ".py",
      "mimetype": "text/x-python",
      "name": "python",
      "nbconvert_exporter": "python",
      "pygments_lexer": "ipython3",
      "version": "3.7.4"
    },
    "colab": {
      "name": "Q3_EXP3_EE381V.ipynb",
      "provenance": [],
      "collapsed_sections": []
    }
  },
  "cells": [
    {
      "cell_type": "markdown",
      "metadata": {
        "id": "xjvJ2u48yNM2"
      },
      "source": [
        "# EXP3\n",
        "\n",
        "## Setup\n",
        "\n",
        "Consider an unstructured bandit problem. Suppose that we have $k$ arms, each with random reward at time $t$ given by $rew[t] = avg[t] + \\epsilon[t]$ where $\\epsilon[t]$ is drawn from an i.i.d. standard Gaussian distribution.\n",
        "The following code should be implemented to capture this setup."
      ]
    },
    {
      "cell_type": "markdown",
      "metadata": {
        "id": "u_YYBfQGKSRD"
      },
      "source": [
        "# Reward function\n",
        "Implement the reward function described in the setup. Specifically, given a $k$- dimensional vector 'avg', return $k$- dimensional vector 'rew' such that $rew[t] = avg[t] + \\epsilon[t]$ where $\\epsilon[t] \\sim \\mathcal{N}(0,0.01 \\times I)$ where $I$ is the identity matrix of size $k \\times k$."
      ]
    },
    {
      "cell_type": "code",
      "metadata": {
        "id": "hSEJ-ZfXKSRD"
      },
      "source": [
        "def get_reward(avg, var):\n",
        "    \n",
        "    ## Your Code here\n",
        "    rew = avg + np.random.normal(loc = 0, scale = 0.01, size = avg.size)\n",
        "    \n",
        "    return rew"
      ],
      "execution_count": null,
      "outputs": []
    },
    {
      "cell_type": "markdown",
      "metadata": {
        "id": "o50UJFJ8zqNI"
      },
      "source": [
        "## Algorithm review\n",
        "\n",
        "\n",
        "Recall there are three parameters of interest in the EXP3 algoritm: $(n, k, \\eta),$ where $n$ is the time horizon, $k$ is the number of arms, and $\\eta$ is a learning rate. Please refer to the text book (Algorithm 9 page 152) for details.\n",
        "\n",
        "\n",
        "## Goal of this exercise\n",
        "\n",
        "Implement the following using the template provided below. Please use the variable names suggested in the comments.\n",
        "\n",
        "1. Basic EXP3 algorithm implementation\n",
        "2. Plot the expected cumulative regret of the EXP3 algorithm vs. horizon ($n$).\n",
        "3. The cumulative regret is expected to be logarithmic against the horizon. To check that this is case, plot the logarithm of the expected cumulative regret of the EXP3 algorithm vs. horizon ($n$). (Hint: use the semilogx function in matplotlib.pyplot) "
      ]
    },
    {
      "cell_type": "markdown",
      "metadata": {
        "id": "f88001UmKSQy"
      },
      "source": [
        "# Import Dependencies"
      ]
    },
    {
      "cell_type": "code",
      "metadata": {
        "id": "vVQUR4a1KSQ1"
      },
      "source": [
        "import numpy as np\n",
        "import pickle"
      ],
      "execution_count": null,
      "outputs": []
    },
    {
      "cell_type": "markdown",
      "metadata": {
        "id": "MquGHcbOKSQ7"
      },
      "source": [
        "## EXP3"
      ]
    },
    {
      "cell_type": "code",
      "metadata": {
        "id": "Tvp73SObKSQ8"
      },
      "source": [
        "class EXP3(object):\n",
        "    def __init__(self, avg, eta): ## Initialization\n",
        "        \n",
        "        self.means = avg\n",
        "        self.num_arms = avg.size\n",
        "        self.eta = eta\n",
        "        self.best_arm = np.argmax(self.means)\n",
        "        self.restart()\n",
        "\n",
        "        return None\n",
        "\n",
        "        ## variable names (most are self explanatory)\n",
        "        ## self.num_arms is the number of arms (k)\n",
        "        ## self.means[arm] is the vector of true means of the arms\n",
        "        ## self.time is the current time index\n",
        "        ## self.best_arm is the best arm given the true mean rewards\n",
        "        ## self.cum_reg is the cumulative regret\n",
        "        ## self.num_plays[arm] is the vector of number of times that arm k has been pulled\n",
        "        ## self.eta is the learning rate\n",
        "        ## self.probs_arr is the sampling distribution vector P_t\n",
        "        ## self.S is the vector of estimated reward by the end of time t\n",
        "    \n",
        "    def restart(self): ## Restart the algorithm: Reset self.time to zero (done)\n",
        "                       ## Set the values of the num_plays, S, and cum_reg to zero, \n",
        "                       ## and set probs_arr to be uniform\n",
        "        self.time = 0.0\n",
        "        self.num_plays = np.zeros(self.num_arms)\n",
        "        self.S = np.zeros(self.num_arms)\n",
        "        self.cum_regret = [0]\n",
        "        self.probs_arr = [1/self.num_arms] * self.num_arms # Multiple Uniform\n",
        "        ## Your Code here\n",
        "\n",
        "        return None\n",
        "    \n",
        "    def get_best_arm(self): ## For each time index, find the best arm according to EXP3\n",
        "                            ## Hint: use np.random.choice\n",
        "        ## Your code here\n",
        "        return np.random.choice(self.num_arms, 1, p=self.probs_arr)\n",
        "    \n",
        "    def update_exp3(self, arm, rew_vec): ## Compute probs_arr and update the total estimated reward for each arm\n",
        "        \n",
        "        ## Your Code here\n",
        "\n",
        "        self.probs_arr = (np.exp(self.eta*self.S))/np.sum(np.exp(self.eta*self.S))\n",
        "\n",
        "        #for i in range(self.num_arms):\n",
        "        #  if i == arm:\n",
        "        #    self.S[arm] = self.S[arm] + 1 - ((1-rew_vec[arm]) / self.probs_arr[arm])\n",
        "        #  else:\n",
        "        #    self.S[i] = self.S[i] + 1\n",
        "        self.S += 1\n",
        "        self.S[arm] -= ((1-rew_vec[arm])/self.probs_arr[arm])\n",
        "        \n",
        "        return None\n",
        "    \n",
        "    def update_reg(self, arm, rew_vec): ## Update the cumulative regret vector\n",
        "       \n",
        "       ## Your Code here\n",
        "       self.cum_regret.append(self.cum_regret[-1] + (rew_vec[self.best_arm] - rew_vec[arm]))\n",
        "\n",
        "       return None\n",
        "    \n",
        "    def iterate(self, rew_vec): ## Iterate the algorithm\n",
        "        self.time += 1.0\n",
        "        \n",
        "        ## Your Code here\n",
        "        arm = self.get_best_arm()\n",
        "\n",
        "        self.update_exp3(arm, rew_vec)\n",
        "        self.update_reg(arm,rew_vec)\n",
        "        \n",
        "        return None"
      ],
      "execution_count": null,
      "outputs": []
    },
    {
      "cell_type": "markdown",
      "metadata": {
        "id": "I10RrDSQKSRE"
      },
      "source": [
        "# Experiment Function\n",
        "\n",
        "The following code runs the EXP3 algorithm for multiple instances. In the code below, num_inst is the number of instances, and num_iter is the time at which we stop."
      ]
    },
    {
      "cell_type": "code",
      "metadata": {
        "id": "0Fx9jS8yKSRE"
      },
      "source": [
        "def run_algo(avg, eta, num_iter, num_inst, var):\n",
        "    \n",
        "    reg = np.zeros((num_inst, num_iter))\n",
        "    \n",
        "    algo = EXP3(avg, eta)\n",
        "    \n",
        "    \n",
        "    for k in range(num_inst):\n",
        "        algo.restart()\n",
        "        \n",
        "        if (k+1)%10 == 0:\n",
        "            print('Instance number = ', k+1)\n",
        "        \n",
        "        for t in range(num_iter-1):\n",
        "            rew_vec = get_reward(avg,var)\n",
        "            \n",
        "            algo.iterate(rew_vec)\n",
        "            \n",
        "        reg[k,:] = np.asarray(algo.cum_regret)\n",
        "        \n",
        "    return reg"
      ],
      "execution_count": null,
      "outputs": []
    },
    {
      "cell_type": "markdown",
      "metadata": {
        "id": "d7F-qmObKSRE"
      },
      "source": [
        "# Initializations\n",
        "Use the following to initialize your algorithm. The value of $k$ is implicitly set to $3$ in the initialization below. (This vector contains the actual mean rewards)."
      ]
    },
    {
      "cell_type": "code",
      "metadata": {
        "id": "wQ7a9BK5KSRF"
      },
      "source": [
        "avg = np.asarray([0.8,0.7,0.5])\n",
        "num_iter,num_inst = int(2e3),20\n",
        "eta = np.sqrt(np.log(avg.size) / (num_iter * avg.size))\n",
        "var = 0.01"
      ],
      "execution_count": null,
      "outputs": []
    },
    {
      "cell_type": "markdown",
      "metadata": {
        "id": "PwYSOBtKKSRF"
      },
      "source": [
        "# Run Experiment"
      ]
    },
    {
      "cell_type": "code",
      "metadata": {
        "id": "k-FGPjfcKSRF",
        "colab": {
          "base_uri": "https://localhost:8080/"
        },
        "outputId": "27e0bb1d-6976-4dbb-ddba-1e4b017dbb12"
      },
      "source": [
        "reg = run_algo(avg, eta, num_iter, num_inst, var)"
      ],
      "execution_count": null,
      "outputs": [
        {
          "output_type": "stream",
          "name": "stderr",
          "text": [
            "/usr/local/lib/python3.7/dist-packages/ipykernel_launcher.py:19: VisibleDeprecationWarning: Creating an ndarray from ragged nested sequences (which is a list-or-tuple of lists-or-tuples-or ndarrays with different lengths or shapes) is deprecated. If you meant to do this, you must specify 'dtype=object' when creating the ndarray.\n"
          ]
        },
        {
          "output_type": "stream",
          "name": "stdout",
          "text": [
            "Instance number =  10\n",
            "Instance number =  20\n"
          ]
        }
      ]
    },
    {
      "cell_type": "markdown",
      "metadata": {
        "id": "k6SzuIJf7KMD"
      },
      "source": [
        "## Plotting the Results\n",
        "\n",
        "1 - Compute the average regret over the number of instances and plot it against the number of iterations. Label the x-axis as time, and the y-axis as Cumulative Regret. Add a caption labeling this as 'Cumulative Regret with EXP3'.\n",
        "\n",
        "2 - Use the semilogx function in matplotlib to check that the regret is logarithmic against horizon."
      ]
    },
    {
      "cell_type": "code",
      "metadata": {
        "id": "OM7JbeOxKSRG",
        "colab": {
          "base_uri": "https://localhost:8080/",
          "height": 295
        },
        "outputId": "cfae7377-0166-4612-eb25-6f6e9ecccc97"
      },
      "source": [
        "## Your Code here\n",
        "import matplotlib.pyplot as plt\n",
        "\n",
        "reg_lst = [reg_sublst[-1] for reg_sublst in reg]\n",
        "avgreg_lst = np.mean(reg, 0)\n",
        "\n",
        "plt.plot(avgreg_lst)\n",
        "plt.xlabel('Time')\n",
        "plt.ylabel('Cumulative Regret')\n",
        "plt.title('Cumulative Regret with EXP3')\n",
        "plt.show()\n"
      ],
      "execution_count": null,
      "outputs": [
        {
          "output_type": "display_data",
          "data": {
            "text/plain": [
              "<Figure size 432x288 with 1 Axes>"
            ],
            "image/png": "[encoded data removed]"
          },
          "metadata": {
            "needs_background": "light"
          }
        }
      ]
    },
    {
      "cell_type": "code",
      "source": [
        "plt.semilogx(avgreg_lst)\n",
        "plt.show()"
      ],
      "metadata": {
        "colab": {
          "base_uri": "https://localhost:8080/",
          "height": 269
        },
        "id": "sa7Q2hMTQGbu",
        "outputId": "41628a81-c774-4236-b6c1-d7326e95deae"
      },
      "execution_count": null,
      "outputs": [
        {
          "output_type": "display_data",
          "data": {
            "text/plain": [
              "<Figure size 432x288 with 1 Axes>"
            ],
            "image/png": "[encoded data removed]"
          },
          "metadata": {
            "needs_background": "light"
          }
        }
      ]
    }
  ]
}