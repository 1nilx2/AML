{
  "nbformat": 4,
  "nbformat_minor": 0,
  "metadata": {
    "kernelspec": {
      "display_name": "Python 3",
      "language": "python",
      "name": "python3"
    },
    "language_info": {
      "codemirror_mode": {
        "name": "ipython",
        "version": 3
      },
      "file_extension": ".py",
      "mimetype": "text/x-python",
      "name": "python",
      "nbconvert_exporter": "python",
      "pygments_lexer": "ipython3",
      "version": "3.7.4"
    },
    "colab": {
      "name": "Q4_Thompson_Sampling_EE381V.ipynb",
      "provenance": [],
      "collapsed_sections": []
    }
  },
  "cells": [
    {
      "cell_type": "markdown",
      "metadata": {
        "id": "xFLVXPpgG1k2"
      },
      "source": [
        "# Thompson Sampling\n",
        "\n",
        "I will be experimenting with the Multi-armed bandit problem with the Thompson Sampling algorithm described in chapter 36 in the textbook.\n",
        "\n",
        "## Setup\n",
        "\n",
        "Suppose that we have $k$ arms, each with a random bernoulli reward at time $t$. The following code should be implemented to capture this setup."
      ]
    },
    {
      "cell_type": "markdown",
      "metadata": {
        "id": "f88001UmKSQy"
      },
      "source": [
        "# Import Dependencies"
      ]
    },
    {
      "cell_type": "code",
      "metadata": {
        "id": "vVQUR4a1KSQ1"
      },
      "source": [
        "import numpy as np\n",
        "import pickle"
      ],
      "execution_count": null,
      "outputs": []
    },
    {
      "cell_type": "markdown",
      "metadata": {
        "id": "u_YYBfQGKSRD"
      },
      "source": [
        "# Reward function\n",
        "Implement the reward function described in the setup. Specifically, given a $k$- dimensional vector 'avg' representing the true means, return a $k$- dimensional vector 'rew' such that $rew[i] = 1$ if $avg[i] > np.random.random()$ and $0$ otherwise."
      ]
    },
    {
      "cell_type": "code",
      "metadata": {
        "id": "yeLyobpT5lLI"
      },
      "source": [
        "def get_reward(avg):\n",
        "\n",
        "    ## Your Code here\n",
        "    rew = np.zeros(len(avg))\n",
        "\n",
        "    for i in range(len(avg)):\n",
        "      if avg[i] > np.random.random():\n",
        "        rew[i] = 1\n",
        "      else:\n",
        "        rew[i] = 0\n",
        "  \n",
        "    return rew"
      ],
      "execution_count": null,
      "outputs": []
    },
    {
      "cell_type": "markdown",
      "metadata": {
        "id": "mDJG9e-k6HN7"
      },
      "source": [
        "## Algorithm review\n",
        "\n",
        "\n",
        "Recall that the beta distribution is the conjugate prior probability distribution for the Bernoulli. Hence, in the algorithm we need to update the shape parameters alpha and beta. Check Algorithm 1 in: https://arxiv.org/pdf/1209.3353.pdf for more details. The algorithm is as follows:\n",
        "\n",
        "1. Choose the arm with the maximum sample from the beta distribution with parameters alpha and beta.\n",
        "3. Update these parameters and repeat.\n",
        "\n",
        "## Goals\n",
        "\n",
        "1. Basic Thompson Sampling algorithm implementation\n",
        "2. Plot the expected cumulative regret of the Thompson Sampling algorithm as a function of time.\n",
        "3. The cumulative regret is expected to be logarithmic against the horizon. To check that this is case, plot the logarithm of the expected cumulative regret of the Thompson Sampling algorithm. (Hint: use the semilogx function in matplotlib.pyplot) "
      ]
    },
    {
      "cell_type": "markdown",
      "metadata": {
        "id": "MquGHcbOKSQ7"
      },
      "source": [
        "## Thompson Sampling\n",
        "\n",
        "Implement Thompson Sampling algorithm using the skeleton below. The initialization part is done. Fill out the rest of the skeleton."
      ]
    },
    {
      "cell_type": "code",
      "metadata": {
        "id": "Tvp73SObKSQ8"
      },
      "source": [
        "class TS():    \n",
        "    import numpy as np\n",
        "\n",
        "    def __init__(self, avg):## Initialization\n",
        "        self.means = avg\n",
        "        self.num_arms = avg.size       \n",
        "        self.best_arm = np.argmax(self.means)\n",
        "        self.restart()\n",
        "\n",
        "        return None\n",
        "        ## variable names (most are self explanatory)\n",
        "        ## self.means[arm] is the vector of true means of the arms\n",
        "        ## self.num_arms is the number of arms (k)\n",
        "        ## self.best_arm is the best arm given the true mean rewards\n",
        "        ## self.alpha is the vector of alpha values that parameterize the beta distribution vector\n",
        "        ## self.beta is the vector of beta values that parameterizes the beta distribution vector\n",
        "        ## self.cum_reg is the cumulative regret\n",
        "        \n",
        "    def restart(self): ## Restart the algorithm: Reset the values of self.alpha and self.beta to ones (done). \n",
        "                       ## Reset the cumulative regret vector to zero.\n",
        "        self.alpha = np.ones(self.num_arms)\n",
        "        self.beta = np.ones(self.num_arms) \n",
        "        \n",
        "        ## Your Code here\n",
        "        self.cum_reg = [0]\n",
        "\n",
        "        return None\n",
        "    \n",
        "    def get_best_arm(self): ## For each time index, find the best arm according to Thompson Sampling\n",
        "        ## Your Code here\n",
        "\n",
        "        best_arm = np.argmax(np.random.beta(self.alpha, self.beta))\n",
        "        return best_arm\n",
        "    \n",
        "    def update(self, arm, rew): ## Update the alpha and beta vectors\n",
        "        \n",
        "        ## Your Code here\n",
        "\n",
        "        if rew == 1:\n",
        "          self.alpha[arm] += 1\n",
        "        else:\n",
        "          self.beta[arm] += 1\n",
        "\n",
        "        return None\n",
        "    \n",
        "    \n",
        "    def update_reg(self, arm, rew_vec): ## Update the cumulative regret vector\n",
        "        \n",
        "        ## Your Code here\n",
        "        self.cum_reg.append(self.cum_reg[-1] + (rew_vec[self.best_arm] - rew_vec[arm]))\n",
        "\n",
        "        return None\n",
        "    \n",
        "    def iterate(self, rew_vec):  ## Iterate the algorithm\n",
        "        \n",
        "        ## Your Code here\n",
        "\n",
        "        arm = self.get_best_arm()\n",
        "        rew = rew_vec[arm]\n",
        "        self.update(arm, rew)\n",
        "        self.update_reg(arm, rew_vec)\n",
        "\n",
        "        return None"
      ],
      "execution_count": null,
      "outputs": []
    },
    {
      "cell_type": "markdown",
      "metadata": {
        "id": "I10RrDSQKSRE"
      },
      "source": [
        "# Experiment Function\n",
        "\n",
        "The following code runs the Thompson Sampling algorithm for multiple instances. In the code below, num_inst is the number of instances, and num_iter is the time at which we stop."
      ]
    },
    {
      "cell_type": "code",
      "metadata": {
        "id": "0Fx9jS8yKSRE"
      },
      "source": [
        "def run_algo(avg, num_iter, num_inst):\n",
        "    \n",
        "    reg = np.zeros((num_inst, num_iter))\n",
        "    \n",
        "    algo = TS(avg)\n",
        "    \n",
        "    \n",
        "    for k in range(num_inst):\n",
        "        algo.restart()\n",
        "        \n",
        "        if (k+1)%10 == 0:\n",
        "            print('Instance number = ', k+1)\n",
        "        \n",
        "        for t in range(num_iter-1):\n",
        "            rew_vec = get_reward(avg)\n",
        "            \n",
        "            algo.iterate(rew_vec)\n",
        "            \n",
        "        reg[k,:] = np.asarray(algo.cum_reg)\n",
        "        \n",
        "    return reg"
      ],
      "execution_count": null,
      "outputs": []
    },
    {
      "cell_type": "markdown",
      "metadata": {
        "id": "d7F-qmObKSRE"
      },
      "source": [
        "# Initializations\n",
        "Use the following to initialize your algorithm. (This vector contains the actual mean rewards)."
      ]
    },
    {
      "cell_type": "code",
      "metadata": {
        "id": "wQ7a9BK5KSRF"
      },
      "source": [
        "avg = np.asarray([0.30, 0.25, 0.20, 0.15, 0.10])\n",
        "num_iter,num_inst = int(1e4), 200 # << K might handle the fluctuation  << Law of Large Number "
      ],
      "execution_count": null,
      "outputs": []
    },
    {
      "cell_type": "markdown",
      "metadata": {
        "id": "PwYSOBtKKSRF"
      },
      "source": [
        "# Run Experiment\n",
        "\n",
        "\n"
      ]
    },
    {
      "cell_type": "code",
      "metadata": {
        "id": "k-FGPjfcKSRF",
        "colab": {
          "base_uri": "https://localhost:8080/"
        },
        "outputId": "78c17788-f083-4658-b470-75e99ab2d40b"
      },
      "source": [
        "reg = run_algo(avg, num_iter, num_inst)"
      ],
      "execution_count": null,
      "outputs": [
        {
          "output_type": "stream",
          "name": "stdout",
          "text": [
            "Instance number =  10\n",
            "Instance number =  20\n",
            "Instance number =  30\n",
            "Instance number =  40\n",
            "Instance number =  50\n",
            "Instance number =  60\n",
            "Instance number =  70\n",
            "Instance number =  80\n",
            "Instance number =  90\n",
            "Instance number =  100\n",
            "Instance number =  110\n",
            "Instance number =  120\n",
            "Instance number =  130\n",
            "Instance number =  140\n",
            "Instance number =  150\n",
            "Instance number =  160\n",
            "Instance number =  170\n",
            "Instance number =  180\n",
            "Instance number =  190\n",
            "Instance number =  200\n"
          ]
        }
      ]
    },
    {
      "cell_type": "markdown",
      "metadata": {
        "id": "-YRpvPqE_ex2"
      },
      "source": [
        "## Plotting the Results\n",
        "\n",
        "1 - Compute the average regret over the number of instances and plot it against the number of iterations. Label the x-axis as time, and the y-axis as Cumulative Regret. Add a caption labeling this as 'Cumulative Regret with Thompson Sampling'.\n",
        "\n",
        "2 - Use the semilogx function in matplotlib to check that the regret is logarithmic against horizon."
      ]
    },
    {
      "cell_type": "code",
      "metadata": {
        "id": "OM7JbeOxKSRG",
        "colab": {
          "base_uri": "https://localhost:8080/",
          "height": 295
        },
        "outputId": "b4f0fc7b-5df5-4f19-8dc0-60dd1f1709e7"
      },
      "source": [
        "## Your Code here\n",
        "\n",
        "## Your Code here\n",
        "import matplotlib.pyplot as plt\n",
        "\n",
        "reg_lst = [reg_sublst[-1] for reg_sublst in reg]\n",
        "avgreg_lst = np.mean(reg, 0)\n",
        "\n",
        "plt.plot(avgreg_lst)\n",
        "plt.xlabel('Time')\n",
        "plt.ylabel('Cumulative Regret')\n",
        "plt.title('Cumulative Regret with Thompson')\n",
        "plt.show()"
      ],
      "execution_count": null,
      "outputs": [
        {
          "output_type": "display_data",
          "data": {
            "text/plain": [
              "<Figure size 432x288 with 1 Axes>"
            ],
            "image/png": "[encoded data removed]"
          },
          "metadata": {
            "needs_background": "light"
          }
        }
      ]
    },
    {
      "cell_type": "code",
      "source": [
        "plt.semilogx(avgreg_lst)\n",
        "plt.show()"
      ],
      "metadata": {
        "colab": {
          "base_uri": "https://localhost:8080/",
          "height": 269
        },
        "id": "YjKYDAcbofN6",
        "outputId": "f7bf98d9-4ffc-43ab-8325-e81a099d9f8d"
      },
      "execution_count": null,
      "outputs": [
        {
          "output_type": "display_data",
          "data": {
            "text/plain": [
              "<Figure size 432x288 with 1 Axes>"
            ],
            "image/png": "[encoded data removed]"
          },
          "metadata": {
            "needs_background": "light"
          }
        }
      ]
    }
  ]
}