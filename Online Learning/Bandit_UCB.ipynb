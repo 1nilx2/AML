{
  "nbformat": 4,
  "nbformat_minor": 0,
  "metadata": {
    "kernelspec": {
      "display_name": "Python 3",
      "language": "python",
      "name": "python3"
    },
    "language_info": {
      "codemirror_mode": {
        "name": "ipython",
        "version": 3
      },
      "file_extension": ".py",
      "mimetype": "text/x-python",
      "name": "python",
      "nbconvert_exporter": "python",
      "pygments_lexer": "ipython3",
      "version": "3.7.4"
    },
    "colab": {
      "name": "Q2_UCB_EE381V-1.ipynb",
      "provenance": [],
      "collapsed_sections": [],
      "machine_shape": "hm"
    }
  },
  "cells": [
    {
      "cell_type": "markdown",
      "metadata": {
        "id": "xFLVXPpgG1k2"
      },
      "source": [
        "# Upper Confidence Bound (UCB)\n",
        "\n",
        "In this exercise, we will be experimenting with the Multi-armed bandit problem with the Upper Confidence Bound (UCB) algorithm described in chapter 8 in the textbook (UCB asymptotic optimality).\n",
        "\n",
        "## Setup\n",
        "\n",
        "Consider an unstructured bandit problem. Suppose that we have $k$ arms, each with a random reward at time $t$ given by $rew[t] = avg[t] + \\epsilon[t]$ where $\\epsilon[t]$ is drawn from an i.i.d. standard Gaussian distribution. Note that we only require $\\epsilon[t]$ to be sub-Gaussian for the analysis to go through.\n",
        "\n",
        "The following code should be implemented to capture this setup."
      ]
    },
    {
      "cell_type": "markdown",
      "metadata": {
        "id": "u_YYBfQGKSRD"
      },
      "source": [
        "# Reward function\n",
        "Implement the reward function described in the setup. Specifically, given a $k$- dimensional vector 'avg', return $k$- dimensional vector 'rew' such that $rew[t] = avg[t] + \\epsilon[t]$ where $\\epsilon[t] \\sim \\mathcal{N}(0,I)$ where $I$ is the identity matrix of size $k \\times k$."
      ]
    },
    {
      "cell_type": "code",
      "metadata": {
        "id": "yeLyobpT5lLI"
      },
      "source": [
        "def get_reward(avg):\n",
        "\n",
        "    reward = avg + np.random.normal(loc=0, scale=1, size=len(avg))\n",
        "    \n",
        "    return reward"
      ],
      "execution_count": null,
      "outputs": []
    },
    {
      "cell_type": "markdown",
      "metadata": {
        "id": "mDJG9e-k6HN7"
      },
      "source": [
        "## Algorithm review\n",
        "\n",
        "\n",
        "Recall that there is only one parameter of interest in the UCB algoritm that is $k$ which is the number of arms. Please refer to the lecture notes and the textbook for details (Check algorithm 6 on page 116). The algorithm is as follows:\n",
        "\n",
        "1. First choose each arm once.\n",
        "2. Subsequently, choose the arm with the highest upper confidence bound.\n",
        "3. Observe the reward and update the upper confidence bounds and repeat.\n",
        "\n",
        "## Goal of this exercise\n",
        "\n",
        "Implement the following using the template provided below. Please use the variable names suggested in the comments.\n",
        "\n",
        "1. Basic UCB algorithm implementation\n",
        "2. Plot the expected cumulative regret of the UCB algorithm as a function of time.\n",
        "3. The cumulative regret is expected to be logarithmic against the horizon. To check that this is case, plot the logarithm of the expected cumulative regret of the UCB algorithm. (Hint: use the semilogx function in matplotlib.pyplot) "
      ]
    },
    {
      "cell_type": "markdown",
      "metadata": {
        "id": "f88001UmKSQy"
      },
      "source": [
        "# Import Dependencies"
      ]
    },
    {
      "cell_type": "code",
      "metadata": {
        "id": "vVQUR4a1KSQ1"
      },
      "source": [
        "import numpy as np\n",
        "import pickle"
      ],
      "execution_count": null,
      "outputs": []
    },
    {
      "cell_type": "markdown",
      "metadata": {
        "id": "MquGHcbOKSQ7"
      },
      "source": [
        "## UCB"
      ]
    },
    {
      "cell_type": "code",
      "metadata": {
        "id": "Tvp73SObKSQ8"
      },
      "source": [
        "class UCB(object):\n",
        "    def __init__(self, avg):## Initialization\n",
        "        \n",
        "        self.means = avg\n",
        "        self.num_arms = avg.size        \n",
        "        self.best_arm = np.argmax(self.means)\n",
        "        self.restart()\n",
        "\n",
        "        return None\n",
        "        ## variable names (most are self explanatory)\n",
        "        ## self.num_arms is the number of arms (k)\n",
        "        ## self.means[arm] is the vector of true means of the arms\n",
        "        ## self.time is the current time index (this is t in the description at the top of this page)\n",
        "        ## self.best_arm is the best arm given the true mean rewards\n",
        "        ## self.cum_regret is the cumulative regret\n",
        "        ## self.emp_means[arm] is the vector of empirical means of arms\n",
        "        ## self.num_pulls[arm] is the vector of number of times that arm k has been pulled\n",
        "        ## self.ucb_arr[arm] is the vector containing the upper confidence bounds\n",
        "\n",
        "    def restart(self): ## Restart the algorithm: Reset the time index to zero and the upper confidence values to high values (done),\n",
        "                       ## Set the values of the empirical means, number of pulls, and cumulative regret vector to zero.\n",
        "        self.time = 0.0\n",
        "        self.ucb_arr = 1e5*np.ones(self.num_arms)\n",
        "        self.emp_means = np.zeros(self.num_arms)\n",
        "        self.num_pulls = np.zeros(self.num_arms)\n",
        "        self.cum_regret = [0]\n",
        "        \n",
        "        ## Your code here\n",
        "\n",
        "        return None\n",
        "    \n",
        "    def get_best_arm(self): ## For each time index, find the best arm according to UCB\n",
        "        \n",
        "        ## Your code here\n",
        "        best_arm = np.argmax(self.emp_means + self.ucb_arr)\n",
        "        return best_arm\n",
        "    \n",
        "    def update_stats(self, arm, rew): ## Update the empirical means, the number of pulls, and increment the time index\n",
        "\n",
        "        # Update Empirical Means First        \n",
        "        self.emp_means[arm] = (self.emp_means[arm]*self.num_pulls[arm] + rew) / (self.num_pulls[arm] + 1)\n",
        "        \n",
        "        # Then increase the indices\n",
        "        self.num_pulls[arm] += 1\n",
        "        self.time += 1\n",
        "\n",
        "        return None\n",
        "    \n",
        "    def update_ucb(self): ## Update the vector of upper confidence bounds\n",
        "        \n",
        "        ## Your code here\n",
        "        f_t = 1 + (self.time*(np.log(self.time))**2)\n",
        "        action = np.sqrt((2*np.log(f_t))/self.num_pulls) \n",
        "        self.ucb_arr = action \n",
        "\n",
        "        return None\n",
        "    \n",
        "    def update_reg(self, rew_vec, arm): ## Update the cumulative regret vector\n",
        "    #regret = best - current arm \n",
        "    # Best means True. \n",
        "        \n",
        "        ## Your code here\n",
        "        self.cum_regret.append(self.cum_regret[-1] + (rew_vec[self.best_arm] - rew_vec[arm]))\n",
        "\n",
        "        return None\n",
        "    \n",
        "    def iterate(self, rew_vec):  ## Iterate the algorithm\n",
        "        \n",
        "        ## Your code here\n",
        "        arm = self.get_best_arm()\n",
        "        rew = rew_vec[arm]\n",
        "\n",
        "        self.update_stats(arm, rew)\n",
        "        self.update_ucb()\n",
        "        self.update_reg(rew_vec, arm)\n",
        "\n",
        "        return None"
      ],
      "execution_count": null,
      "outputs": []
    },
    {
      "cell_type": "markdown",
      "source": [
        ""
      ],
      "metadata": {
        "id": "cP26SHUumkGR"
      }
    },
    {
      "cell_type": "markdown",
      "metadata": {
        "id": "I10RrDSQKSRE"
      },
      "source": [
        "# Experiment Function\n",
        "\n",
        "The following code runs the UCB algorithm for multiple instances. In the code below, num_inst is the number of instances, and num_iter is the time at which we stop."
      ]
    },
    {
      "cell_type": "code",
      "metadata": {
        "id": "0Fx9jS8yKSRE"
      },
      "source": [
        "def run_algo(avg, num_iter, num_inst):\n",
        "    \n",
        "    reg = np.zeros((num_inst, num_iter))\n",
        "    \n",
        "    algo = UCB(avg)\n",
        "    \n",
        "    \n",
        "    for k in range(num_inst):\n",
        "        algo.restart()\n",
        "        \n",
        "        if (k+1)%10 == 0:\n",
        "            print('Instance number = ', k+1)\n",
        "        \n",
        "        for t in range(num_iter-1):\n",
        "            rew_vec = get_reward(avg)\n",
        "            \n",
        "            algo.iterate(rew_vec)\n",
        "            \n",
        "        reg[k,:] = np.asarray(algo.cum_regret)\n",
        "        \n",
        "    return reg"
      ],
      "execution_count": null,
      "outputs": []
    },
    {
      "cell_type": "markdown",
      "metadata": {
        "id": "d7F-qmObKSRE"
      },
      "source": [
        "# Initializations\n",
        "Use the following to initialize your algorithm. The value of $k$ is implicitly set to $6$ in the initialization below. (This vector contains the actual mean rewards)."
      ]
    },
    {
      "cell_type": "code",
      "metadata": {
        "id": "wQ7a9BK5KSRF"
      },
      "source": [
        "avg = np.asarray([0.8, 0.96,0.7,0.5, 0.4, 0.3])\n",
        "num_iter,num_inst = int(5e4),30"
      ],
      "execution_count": null,
      "outputs": []
    },
    {
      "cell_type": "markdown",
      "metadata": {
        "id": "PwYSOBtKKSRF"
      },
      "source": [
        "# Run Experiment\n",
        "\n"
      ]
    },
    {
      "cell_type": "code",
      "metadata": {
        "id": "k-FGPjfcKSRF",
        "colab": {
          "base_uri": "https://localhost:8080/"
        },
        "outputId": "2ef72abd-66ae-4b6b-b802-9ada45cb1be7"
      },
      "source": [
        "reg = run_algo(avg, num_iter, num_inst)"
      ],
      "execution_count": null,
      "outputs": [
        {
          "output_type": "stream",
          "name": "stderr",
          "text": [
            "/usr/local/lib/python3.7/dist-packages/ipykernel_launcher.py:53: RuntimeWarning: invalid value encountered in true_divide\n",
            "/usr/local/lib/python3.7/dist-packages/ipykernel_launcher.py:53: RuntimeWarning: divide by zero encountered in true_divide\n"
          ]
        },
        {
          "output_type": "stream",
          "name": "stdout",
          "text": [
            "Instance number =  10\n",
            "Instance number =  20\n",
            "Instance number =  30\n"
          ]
        }
      ]
    },
    {
      "cell_type": "markdown",
      "metadata": {
        "id": "-YRpvPqE_ex2"
      },
      "source": [
        "## Plotting the Results\n",
        "\n",
        "1. Compute the average regret over the number of instances and plot it against the number of iterations. Label the x-axis as time, and the y-axis as Cumulative Regret. Add a caption labeling this as 'Cumulative Regret with UCB'.\n",
        "\n",
        "2. Use the semilogx function in matplotlib to check that the regret is logarithmic against horizon."
      ]
    },
    {
      "cell_type": "code",
      "metadata": {
        "id": "OM7JbeOxKSRG",
        "colab": {
          "base_uri": "https://localhost:8080/",
          "height": 313
        },
        "outputId": "414b079d-6f0c-4e8e-ba26-b04bb1ab8e84"
      },
      "source": [
        "import matplotlib.pyplot as plt\n",
        "\n",
        "## Your code here\n",
        "reg_lst = [reg_sublst[-1] for reg_sublst in reg]\n",
        "avgreg_lst = np.mean(reg, 0)\n",
        "\n",
        "plt.plot(avgreg_lst)\n",
        "plt.xlabel('Time')\n",
        "plt.ylabel('Cumulative Regret')\n",
        "plt.title('Cumfulative Regret with UCB')"
      ],
      "execution_count": null,
      "outputs": [
        {
          "output_type": "execute_result",
          "data": {
            "text/plain": [
              "Text(0.5, 1.0, 'Cumfulative Regret with UCB')"
            ]
          },
          "metadata": {},
          "execution_count": 30
        },
        {
          "output_type": "display_data",
          "data": {
            "text/plain": [
              "<Figure size 432x288 with 1 Axes>"
            ],
            "image/png": "[encoded data removed]"
          },
          "metadata": {
            "needs_background": "light"
          }
        }
      ]
    },
    {
      "cell_type": "code",
      "source": [
        "plt.semilogx(avgreg_lst)"
      ],
      "metadata": {
        "colab": {
          "base_uri": "https://localhost:8080/",
          "height": 286
        },
        "id": "PqVA-l5HPJ99",
        "outputId": "d9bb9005-2819-42ab-9ff5-9e519d583747"
      },
      "execution_count": null,
      "outputs": [
        {
          "output_type": "execute_result",
          "data": {
            "text/plain": [
              "[<matplotlib.lines.Line2D at 0x7f02bbbfcc90>]"
            ]
          },
          "metadata": {},
          "execution_count": 31
        },
        {
          "output_type": "display_data",
          "data": {
            "text/plain": [
              "<Figure size 432x288 with 1 Axes>"
            ],
            "image/png": "[encoded data removed]"
          },
          "metadata": {
            "needs_background": "light"
          }
        }
      ]
    },
    {
      "cell_type": "markdown",
      "source": [
        ""
      ],
      "metadata": {
        "id": "PvPyTFf5PJ0x"
      }
    }
  ]
}