{
 "cells": [
  {
   "cell_type": "code",
   "execution_count": 1,
   "metadata": {},
   "outputs": [
    {
     "name": "stdout",
     "output_type": "stream",
     "text": [
      "Populating the interactive namespace from numpy and matplotlib\n"
     ]
    }
   ],
   "source": [
    "from pandas import Series, DataFrame\n",
    "import pandas as pd\n",
    "%pylab inline"
   ]
  },
  {
   "cell_type": "code",
   "execution_count": 2,
   "metadata": {
    "scrolled": true
   },
   "outputs": [],
   "source": [
    "df = pd.read_csv('winequality-red.csv')"
   ]
  },
  {
   "cell_type": "code",
   "execution_count": 3,
   "metadata": {},
   "outputs": [],
   "source": [
    "df.sort_values(by = 'quality', ascending = False, inplace = True)"
   ]
  },
  {
   "cell_type": "code",
   "execution_count": 4,
   "metadata": {},
   "outputs": [
    {
     "data": {
      "text/html": [
       "<div>\n",
       "<style scoped>\n",
       "    .dataframe tbody tr th:only-of-type {\n",
       "        vertical-align: middle;\n",
       "    }\n",
       "\n",
       "    .dataframe tbody tr th {\n",
       "        vertical-align: top;\n",
       "    }\n",
       "\n",
       "    .dataframe thead th {\n",
       "        text-align: right;\n",
       "    }\n",
       "</style>\n",
       "<table border=\"1\" class=\"dataframe\">\n",
       "  <thead>\n",
       "    <tr style=\"text-align: right;\">\n",
       "      <th></th>\n",
       "      <th>fixed acidity</th>\n",
       "      <th>volatile acidity</th>\n",
       "      <th>citric acid</th>\n",
       "      <th>residual sugar</th>\n",
       "      <th>chlorides</th>\n",
       "      <th>free sulfur dioxide</th>\n",
       "      <th>total sulfur dioxide</th>\n",
       "      <th>density</th>\n",
       "      <th>pH</th>\n",
       "      <th>sulphates</th>\n",
       "      <th>alcohol</th>\n",
       "      <th>quality</th>\n",
       "    </tr>\n",
       "  </thead>\n",
       "  <tbody>\n",
       "    <tr>\n",
       "      <th>495</th>\n",
       "      <td>10.7</td>\n",
       "      <td>0.35</td>\n",
       "      <td>0.53</td>\n",
       "      <td>2.6</td>\n",
       "      <td>0.070</td>\n",
       "      <td>5.0</td>\n",
       "      <td>16.0</td>\n",
       "      <td>0.99720</td>\n",
       "      <td>3.15</td>\n",
       "      <td>0.65</td>\n",
       "      <td>11.0</td>\n",
       "      <td>8</td>\n",
       "    </tr>\n",
       "    <tr>\n",
       "      <th>1403</th>\n",
       "      <td>7.2</td>\n",
       "      <td>0.33</td>\n",
       "      <td>0.33</td>\n",
       "      <td>1.7</td>\n",
       "      <td>0.061</td>\n",
       "      <td>3.0</td>\n",
       "      <td>13.0</td>\n",
       "      <td>0.99600</td>\n",
       "      <td>3.23</td>\n",
       "      <td>1.10</td>\n",
       "      <td>10.0</td>\n",
       "      <td>8</td>\n",
       "    </tr>\n",
       "    <tr>\n",
       "      <th>390</th>\n",
       "      <td>5.6</td>\n",
       "      <td>0.85</td>\n",
       "      <td>0.05</td>\n",
       "      <td>1.4</td>\n",
       "      <td>0.045</td>\n",
       "      <td>12.0</td>\n",
       "      <td>88.0</td>\n",
       "      <td>0.99240</td>\n",
       "      <td>3.56</td>\n",
       "      <td>0.82</td>\n",
       "      <td>12.9</td>\n",
       "      <td>8</td>\n",
       "    </tr>\n",
       "    <tr>\n",
       "      <th>1061</th>\n",
       "      <td>9.1</td>\n",
       "      <td>0.40</td>\n",
       "      <td>0.50</td>\n",
       "      <td>1.8</td>\n",
       "      <td>0.071</td>\n",
       "      <td>7.0</td>\n",
       "      <td>16.0</td>\n",
       "      <td>0.99462</td>\n",
       "      <td>3.21</td>\n",
       "      <td>0.69</td>\n",
       "      <td>12.5</td>\n",
       "      <td>8</td>\n",
       "    </tr>\n",
       "    <tr>\n",
       "      <th>1202</th>\n",
       "      <td>8.6</td>\n",
       "      <td>0.42</td>\n",
       "      <td>0.39</td>\n",
       "      <td>1.8</td>\n",
       "      <td>0.068</td>\n",
       "      <td>6.0</td>\n",
       "      <td>12.0</td>\n",
       "      <td>0.99516</td>\n",
       "      <td>3.35</td>\n",
       "      <td>0.69</td>\n",
       "      <td>11.7</td>\n",
       "      <td>8</td>\n",
       "    </tr>\n",
       "  </tbody>\n",
       "</table>\n",
       "</div>"
      ],
      "text/plain": [
       "      fixed acidity  volatile acidity  citric acid  residual sugar  chlorides  \\\n",
       "495            10.7              0.35         0.53             2.6      0.070   \n",
       "1403            7.2              0.33         0.33             1.7      0.061   \n",
       "390             5.6              0.85         0.05             1.4      0.045   \n",
       "1061            9.1              0.40         0.50             1.8      0.071   \n",
       "1202            8.6              0.42         0.39             1.8      0.068   \n",
       "\n",
       "      free sulfur dioxide  total sulfur dioxide  density    pH  sulphates  \\\n",
       "495                   5.0                  16.0  0.99720  3.15       0.65   \n",
       "1403                  3.0                  13.0  0.99600  3.23       1.10   \n",
       "390                  12.0                  88.0  0.99240  3.56       0.82   \n",
       "1061                  7.0                  16.0  0.99462  3.21       0.69   \n",
       "1202                  6.0                  12.0  0.99516  3.35       0.69   \n",
       "\n",
       "      alcohol  quality  \n",
       "495      11.0        8  \n",
       "1403     10.0        8  \n",
       "390      12.9        8  \n",
       "1061     12.5        8  \n",
       "1202     11.7        8  "
      ]
     },
     "execution_count": 4,
     "metadata": {},
     "output_type": "execute_result"
    }
   ],
   "source": [
    "df.head()"
   ]
  },
  {
   "cell_type": "markdown",
   "metadata": {},
   "source": [
    "# Exploratory Data Analysis"
   ]
  },
  {
   "cell_type": "code",
   "execution_count": 5,
   "metadata": {},
   "outputs": [
    {
     "data": {
      "text/plain": [
       "['fixed acidity',\n",
       " 'volatile acidity',\n",
       " 'citric acid',\n",
       " 'residual sugar',\n",
       " 'chlorides',\n",
       " 'free sulfur dioxide',\n",
       " 'total sulfur dioxide',\n",
       " 'density',\n",
       " 'pH',\n",
       " 'sulphates',\n",
       " 'alcohol',\n",
       " 'quality']"
      ]
     },
     "execution_count": 5,
     "metadata": {},
     "output_type": "execute_result"
    }
   ],
   "source": [
    "list_of_columns = df.columns.values.tolist()\n",
    "list_of_columns"
   ]
  },
  {
   "cell_type": "markdown",
   "metadata": {},
   "source": [
    "### Splitting the quality of wines into 3 groups (Low, Medium, & High) ----> pd.qcut ( )"
   ]
  },
  {
   "cell_type": "code",
   "execution_count": 6,
   "metadata": {},
   "outputs": [],
   "source": [
    "wine_quality_groups = pd.qcut(df['quality'], 3, labels = ['Low', 'Medium', 'High'])"
   ]
  },
  {
   "cell_type": "code",
   "execution_count": 7,
   "metadata": {},
   "outputs": [],
   "source": [
    "df_quartile = df.copy(deep = True)"
   ]
  },
  {
   "cell_type": "code",
   "execution_count": 8,
   "metadata": {},
   "outputs": [
    {
     "data": {
      "text/html": [
       "<div>\n",
       "<style scoped>\n",
       "    .dataframe tbody tr th:only-of-type {\n",
       "        vertical-align: middle;\n",
       "    }\n",
       "\n",
       "    .dataframe tbody tr th {\n",
       "        vertical-align: top;\n",
       "    }\n",
       "\n",
       "    .dataframe thead th {\n",
       "        text-align: right;\n",
       "    }\n",
       "</style>\n",
       "<table border=\"1\" class=\"dataframe\">\n",
       "  <thead>\n",
       "    <tr style=\"text-align: right;\">\n",
       "      <th></th>\n",
       "      <th>fixed acidity</th>\n",
       "      <th>volatile acidity</th>\n",
       "      <th>citric acid</th>\n",
       "      <th>residual sugar</th>\n",
       "      <th>chlorides</th>\n",
       "      <th>free sulfur dioxide</th>\n",
       "      <th>total sulfur dioxide</th>\n",
       "      <th>density</th>\n",
       "      <th>pH</th>\n",
       "      <th>sulphates</th>\n",
       "      <th>alcohol</th>\n",
       "      <th>quality</th>\n",
       "    </tr>\n",
       "  </thead>\n",
       "  <tbody>\n",
       "    <tr>\n",
       "      <th>495</th>\n",
       "      <td>10.7</td>\n",
       "      <td>0.35</td>\n",
       "      <td>0.53</td>\n",
       "      <td>2.6</td>\n",
       "      <td>0.070</td>\n",
       "      <td>5.0</td>\n",
       "      <td>16.0</td>\n",
       "      <td>0.99720</td>\n",
       "      <td>3.15</td>\n",
       "      <td>0.65</td>\n",
       "      <td>11.0</td>\n",
       "      <td>8</td>\n",
       "    </tr>\n",
       "    <tr>\n",
       "      <th>1403</th>\n",
       "      <td>7.2</td>\n",
       "      <td>0.33</td>\n",
       "      <td>0.33</td>\n",
       "      <td>1.7</td>\n",
       "      <td>0.061</td>\n",
       "      <td>3.0</td>\n",
       "      <td>13.0</td>\n",
       "      <td>0.99600</td>\n",
       "      <td>3.23</td>\n",
       "      <td>1.10</td>\n",
       "      <td>10.0</td>\n",
       "      <td>8</td>\n",
       "    </tr>\n",
       "    <tr>\n",
       "      <th>390</th>\n",
       "      <td>5.6</td>\n",
       "      <td>0.85</td>\n",
       "      <td>0.05</td>\n",
       "      <td>1.4</td>\n",
       "      <td>0.045</td>\n",
       "      <td>12.0</td>\n",
       "      <td>88.0</td>\n",
       "      <td>0.99240</td>\n",
       "      <td>3.56</td>\n",
       "      <td>0.82</td>\n",
       "      <td>12.9</td>\n",
       "      <td>8</td>\n",
       "    </tr>\n",
       "    <tr>\n",
       "      <th>1061</th>\n",
       "      <td>9.1</td>\n",
       "      <td>0.40</td>\n",
       "      <td>0.50</td>\n",
       "      <td>1.8</td>\n",
       "      <td>0.071</td>\n",
       "      <td>7.0</td>\n",
       "      <td>16.0</td>\n",
       "      <td>0.99462</td>\n",
       "      <td>3.21</td>\n",
       "      <td>0.69</td>\n",
       "      <td>12.5</td>\n",
       "      <td>8</td>\n",
       "    </tr>\n",
       "    <tr>\n",
       "      <th>1202</th>\n",
       "      <td>8.6</td>\n",
       "      <td>0.42</td>\n",
       "      <td>0.39</td>\n",
       "      <td>1.8</td>\n",
       "      <td>0.068</td>\n",
       "      <td>6.0</td>\n",
       "      <td>12.0</td>\n",
       "      <td>0.99516</td>\n",
       "      <td>3.35</td>\n",
       "      <td>0.69</td>\n",
       "      <td>11.7</td>\n",
       "      <td>8</td>\n",
       "    </tr>\n",
       "  </tbody>\n",
       "</table>\n",
       "</div>"
      ],
      "text/plain": [
       "      fixed acidity  volatile acidity  citric acid  residual sugar  chlorides  \\\n",
       "495            10.7              0.35         0.53             2.6      0.070   \n",
       "1403            7.2              0.33         0.33             1.7      0.061   \n",
       "390             5.6              0.85         0.05             1.4      0.045   \n",
       "1061            9.1              0.40         0.50             1.8      0.071   \n",
       "1202            8.6              0.42         0.39             1.8      0.068   \n",
       "\n",
       "      free sulfur dioxide  total sulfur dioxide  density    pH  sulphates  \\\n",
       "495                   5.0                  16.0  0.99720  3.15       0.65   \n",
       "1403                  3.0                  13.0  0.99600  3.23       1.10   \n",
       "390                  12.0                  88.0  0.99240  3.56       0.82   \n",
       "1061                  7.0                  16.0  0.99462  3.21       0.69   \n",
       "1202                  6.0                  12.0  0.99516  3.35       0.69   \n",
       "\n",
       "      alcohol  quality  \n",
       "495      11.0        8  \n",
       "1403     10.0        8  \n",
       "390      12.9        8  \n",
       "1061     12.5        8  \n",
       "1202     11.7        8  "
      ]
     },
     "execution_count": 8,
     "metadata": {},
     "output_type": "execute_result"
    }
   ],
   "source": [
    "df_quartile.head()"
   ]
  },
  {
   "cell_type": "code",
   "execution_count": 9,
   "metadata": {},
   "outputs": [
    {
     "data": {
      "text/html": [
       "<div>\n",
       "<style scoped>\n",
       "    .dataframe tbody tr th:only-of-type {\n",
       "        vertical-align: middle;\n",
       "    }\n",
       "\n",
       "    .dataframe tbody tr th {\n",
       "        vertical-align: top;\n",
       "    }\n",
       "\n",
       "    .dataframe thead th {\n",
       "        text-align: right;\n",
       "    }\n",
       "</style>\n",
       "<table border=\"1\" class=\"dataframe\">\n",
       "  <thead>\n",
       "    <tr style=\"text-align: right;\">\n",
       "      <th></th>\n",
       "      <th>quality</th>\n",
       "      <th>Quality Quartile</th>\n",
       "    </tr>\n",
       "  </thead>\n",
       "  <tbody>\n",
       "    <tr>\n",
       "      <th>495</th>\n",
       "      <td>8</td>\n",
       "      <td>High</td>\n",
       "    </tr>\n",
       "    <tr>\n",
       "      <th>1403</th>\n",
       "      <td>8</td>\n",
       "      <td>High</td>\n",
       "    </tr>\n",
       "    <tr>\n",
       "      <th>390</th>\n",
       "      <td>8</td>\n",
       "      <td>High</td>\n",
       "    </tr>\n",
       "    <tr>\n",
       "      <th>1061</th>\n",
       "      <td>8</td>\n",
       "      <td>High</td>\n",
       "    </tr>\n",
       "    <tr>\n",
       "      <th>1202</th>\n",
       "      <td>8</td>\n",
       "      <td>High</td>\n",
       "    </tr>\n",
       "    <tr>\n",
       "      <th>828</th>\n",
       "      <td>8</td>\n",
       "      <td>High</td>\n",
       "    </tr>\n",
       "    <tr>\n",
       "      <th>481</th>\n",
       "      <td>8</td>\n",
       "      <td>High</td>\n",
       "    </tr>\n",
       "    <tr>\n",
       "      <th>455</th>\n",
       "      <td>8</td>\n",
       "      <td>High</td>\n",
       "    </tr>\n",
       "    <tr>\n",
       "      <th>1449</th>\n",
       "      <td>8</td>\n",
       "      <td>High</td>\n",
       "    </tr>\n",
       "    <tr>\n",
       "      <th>440</th>\n",
       "      <td>8</td>\n",
       "      <td>High</td>\n",
       "    </tr>\n",
       "  </tbody>\n",
       "</table>\n",
       "</div>"
      ],
      "text/plain": [
       "      quality Quality Quartile\n",
       "495         8             High\n",
       "1403        8             High\n",
       "390         8             High\n",
       "1061        8             High\n",
       "1202        8             High\n",
       "828         8             High\n",
       "481         8             High\n",
       "455         8             High\n",
       "1449        8             High\n",
       "440         8             High"
      ]
     },
     "execution_count": 9,
     "metadata": {},
     "output_type": "execute_result"
    }
   ],
   "source": [
    "df_quartile['Quality Quartile'] = wine_quality_groups\n",
    "df_quartile[['quality', 'Quality Quartile']].iloc[:10]"
   ]
  },
  {
   "cell_type": "code",
   "execution_count": 10,
   "metadata": {},
   "outputs": [
    {
     "data": {
      "text/plain": [
       "5    681\n",
       "6    638\n",
       "7    199\n",
       "4     53\n",
       "8     18\n",
       "3     10\n",
       "Name: quality, dtype: int64"
      ]
     },
     "execution_count": 10,
     "metadata": {},
     "output_type": "execute_result"
    }
   ],
   "source": [
    "df_quartile['quality'].value_counts()"
   ]
  },
  {
   "cell_type": "code",
   "execution_count": 11,
   "metadata": {},
   "outputs": [
    {
     "data": {
      "text/plain": [
       "Low       744\n",
       "Medium    638\n",
       "High      217\n",
       "Name: Quality Quartile, dtype: int64"
      ]
     },
     "execution_count": 11,
     "metadata": {},
     "output_type": "execute_result"
    }
   ],
   "source": [
    "value_counts = df_quartile['Quality Quartile'].value_counts()\n",
    "value_counts"
   ]
  },
  {
   "cell_type": "markdown",
   "metadata": {},
   "source": [
    "### Examining the fractions of Low, Medium, and High quality wines"
   ]
  },
  {
   "cell_type": "code",
   "execution_count": 12,
   "metadata": {},
   "outputs": [
    {
     "data": {
      "text/plain": [
       "0.4652908067542214"
      ]
     },
     "execution_count": 12,
     "metadata": {},
     "output_type": "execute_result"
    }
   ],
   "source": [
    "## Low Quality Wines\n",
    "\n",
    "value_counts[0] / value_counts.sum()"
   ]
  },
  {
   "cell_type": "code",
   "execution_count": 13,
   "metadata": {},
   "outputs": [
    {
     "data": {
      "text/plain": [
       "0.3989993746091307"
      ]
     },
     "execution_count": 13,
     "metadata": {},
     "output_type": "execute_result"
    }
   ],
   "source": [
    "## Medium Quality Wines\n",
    "\n",
    "value_counts[1] / value_counts.sum()"
   ]
  },
  {
   "cell_type": "code",
   "execution_count": 14,
   "metadata": {},
   "outputs": [
    {
     "data": {
      "text/plain": [
       "0.1357098186366479"
      ]
     },
     "execution_count": 14,
     "metadata": {},
     "output_type": "execute_result"
    }
   ],
   "source": [
    "## High Quality Wines\n",
    "\n",
    "value_counts[2] / value_counts.sum()"
   ]
  },
  {
   "cell_type": "markdown",
   "metadata": {},
   "source": [
    "### Looking at the average predictor values for 'Low', 'Medium', and 'High' quality wines defined by pd.qcut"
   ]
  },
  {
   "cell_type": "code",
   "execution_count": 15,
   "metadata": {},
   "outputs": [
    {
     "data": {
      "text/html": [
       "<div>\n",
       "<style scoped>\n",
       "    .dataframe tbody tr th:only-of-type {\n",
       "        vertical-align: middle;\n",
       "    }\n",
       "\n",
       "    .dataframe tbody tr th {\n",
       "        vertical-align: top;\n",
       "    }\n",
       "\n",
       "    .dataframe thead th {\n",
       "        text-align: right;\n",
       "    }\n",
       "</style>\n",
       "<table border=\"1\" class=\"dataframe\">\n",
       "  <thead>\n",
       "    <tr style=\"text-align: right;\">\n",
       "      <th></th>\n",
       "      <th>alcohol</th>\n",
       "      <th>chlorides</th>\n",
       "      <th>citric acid</th>\n",
       "      <th>density</th>\n",
       "      <th>fixed acidity</th>\n",
       "      <th>free sulfur dioxide</th>\n",
       "      <th>pH</th>\n",
       "      <th>quality</th>\n",
       "      <th>residual sugar</th>\n",
       "      <th>sulphates</th>\n",
       "      <th>total sulfur dioxide</th>\n",
       "      <th>volatile acidity</th>\n",
       "    </tr>\n",
       "    <tr>\n",
       "      <th>Quality Quartile</th>\n",
       "      <th></th>\n",
       "      <th></th>\n",
       "      <th></th>\n",
       "      <th></th>\n",
       "      <th></th>\n",
       "      <th></th>\n",
       "      <th></th>\n",
       "      <th></th>\n",
       "      <th></th>\n",
       "      <th></th>\n",
       "      <th></th>\n",
       "      <th></th>\n",
       "    </tr>\n",
       "  </thead>\n",
       "  <tbody>\n",
       "    <tr>\n",
       "      <th>Low</th>\n",
       "      <td>9.7</td>\n",
       "      <td>0.081</td>\n",
       "      <td>0.22</td>\n",
       "      <td>0.996935</td>\n",
       "      <td>7.8</td>\n",
       "      <td>14.0</td>\n",
       "      <td>3.31</td>\n",
       "      <td>5</td>\n",
       "      <td>2.2</td>\n",
       "      <td>0.58</td>\n",
       "      <td>45.0</td>\n",
       "      <td>0.59</td>\n",
       "    </tr>\n",
       "    <tr>\n",
       "      <th>Medium</th>\n",
       "      <td>10.5</td>\n",
       "      <td>0.078</td>\n",
       "      <td>0.26</td>\n",
       "      <td>0.996560</td>\n",
       "      <td>7.9</td>\n",
       "      <td>14.0</td>\n",
       "      <td>3.32</td>\n",
       "      <td>6</td>\n",
       "      <td>2.2</td>\n",
       "      <td>0.64</td>\n",
       "      <td>35.0</td>\n",
       "      <td>0.49</td>\n",
       "    </tr>\n",
       "    <tr>\n",
       "      <th>High</th>\n",
       "      <td>11.6</td>\n",
       "      <td>0.073</td>\n",
       "      <td>0.40</td>\n",
       "      <td>0.995720</td>\n",
       "      <td>8.7</td>\n",
       "      <td>11.0</td>\n",
       "      <td>3.27</td>\n",
       "      <td>7</td>\n",
       "      <td>2.3</td>\n",
       "      <td>0.74</td>\n",
       "      <td>27.0</td>\n",
       "      <td>0.37</td>\n",
       "    </tr>\n",
       "  </tbody>\n",
       "</table>\n",
       "</div>"
      ],
      "text/plain": [
       "                  alcohol  chlorides  citric acid   density  fixed acidity  \\\n",
       "Quality Quartile                                                             \n",
       "Low                   9.7      0.081         0.22  0.996935            7.8   \n",
       "Medium               10.5      0.078         0.26  0.996560            7.9   \n",
       "High                 11.6      0.073         0.40  0.995720            8.7   \n",
       "\n",
       "                  free sulfur dioxide    pH  quality  residual sugar  \\\n",
       "Quality Quartile                                                       \n",
       "Low                              14.0  3.31        5             2.2   \n",
       "Medium                           14.0  3.32        6             2.2   \n",
       "High                             11.0  3.27        7             2.3   \n",
       "\n",
       "                  sulphates  total sulfur dioxide  volatile acidity  \n",
       "Quality Quartile                                                     \n",
       "Low                    0.58                  45.0              0.59  \n",
       "Medium                 0.64                  35.0              0.49  \n",
       "High                   0.74                  27.0              0.37  "
      ]
     },
     "execution_count": 15,
     "metadata": {},
     "output_type": "execute_result"
    }
   ],
   "source": [
    "pivoted_quartile = pd.pivot_table(df_quartile, index = 'Quality Quartile', values = list_of_columns, aggfunc = median)\n",
    "pivoted_quartile"
   ]
  },
  {
   "cell_type": "markdown",
   "metadata": {},
   "source": [
    "### Plotting the top 5 most common 'citric acid' values from our data set -------> value_counts ( )"
   ]
  },
  {
   "cell_type": "code",
   "execution_count": 16,
   "metadata": {},
   "outputs": [
    {
     "data": {
      "image/png": "[encoded data removed]",
      "text/plain": [
       "<Figure size 432x288 with 1 Axes>"
      ]
     },
     "metadata": {
      "needs_background": "light"
     },
     "output_type": "display_data"
    }
   ],
   "source": [
    "## plotting the top 5 most common citric acid values from our data set\n",
    "top_citric_acid = df_quartile['citric acid'].value_counts().iloc[:5,].plot(kind = 'bar')"
   ]
  },
  {
   "cell_type": "markdown",
   "metadata": {},
   "source": [
    "### Plotting the top 5 most common 'alcohol' values from our data set"
   ]
  },
  {
   "cell_type": "code",
   "execution_count": 17,
   "metadata": {},
   "outputs": [
    {
     "data": {
      "image/png": "[encoded data removed]",
      "text/plain": [
       "<Figure size 432x288 with 1 Axes>"
      ]
     },
     "metadata": {
      "needs_background": "light"
     },
     "output_type": "display_data"
    }
   ],
   "source": [
    "top_citric_acid = df_quartile['alcohol'].value_counts().iloc[:5,].plot(kind = 'bar')"
   ]
  },
  {
   "cell_type": "markdown",
   "metadata": {},
   "source": [
    "### Box plots for each of the predictors"
   ]
  },
  {
   "cell_type": "code",
   "execution_count": 18,
   "metadata": {},
   "outputs": [
    {
     "data": {
      "image/png": "[encoded data removed]",
      "text/plain": [
       "<Figure size 432x288 with 1 Axes>"
      ]
     },
     "metadata": {
      "needs_background": "light"
     },
     "output_type": "display_data"
    },
    {
     "data": {
      "image/png": "[encoded data removed]",
      "text/plain": [
       "<Figure size 432x288 with 1 Axes>"
      ]
     },
     "metadata": {
      "needs_background": "light"
     },
     "output_type": "display_data"
    },
    {
     "data": {
      "image/png": "[encoded data removed]",
      "text/plain": [
       "<Figure size 432x288 with 1 Axes>"
      ]
     },
     "metadata": {
      "needs_background": "light"
     },
     "output_type": "display_data"
    },
    {
     "data": {
      "image/png": "[encoded data removed]",
      "text/plain": [
       "<Figure size 432x288 with 1 Axes>"
      ]
     },
     "metadata": {
      "needs_background": "light"
     },
     "output_type": "display_data"
    },
    {
     "data": {
      "image/png": "[encoded data removed]",
      "text/plain": [
       "<Figure size 432x288 with 1 Axes>"
      ]
     },
     "metadata": {
      "needs_background": "light"
     },
     "output_type": "display_data"
    },
    {
     "data": {
      "image/png": "[encoded data removed]",
      "text/plain": [
       "<Figure size 432x288 with 1 Axes>"
      ]
     },
     "metadata": {
      "needs_background": "light"
     },
     "output_type": "display_data"
    },
    {
     "data": {
      "image/png": "[encoded data removed]",
      "text/plain": [
       "<Figure size 432x288 with 1 Axes>"
      ]
     },
     "metadata": {
      "needs_background": "light"
     },
     "output_type": "display_data"
    },
    {
     "data": {
      "image/png": "[encoded data removed]",
      "text/plain": [
       "<Figure size 432x288 with 1 Axes>"
      ]
     },
     "metadata": {
      "needs_background": "light"
     },
     "output_type": "display_data"
    },
    {
     "data": {
      "image/png": "[encoded data removed]",
      "text/plain": [
       "<Figure size 432x288 with 1 Axes>"
      ]
     },
     "metadata": {
      "needs_background": "light"
     },
     "output_type": "display_data"
    },
    {
     "data": {
      "image/png": "[encoded data removed]",
      "text/plain": [
       "<Figure size 432x288 with 1 Axes>"
      ]
     },
     "metadata": {
      "needs_background": "light"
     },
     "output_type": "display_data"
    },
    {
     "data": {
      "image/png": "[encoded data removed]",
      "text/plain": [
       "<Figure size 432x288 with 1 Axes>"
      ]
     },
     "metadata": {
      "needs_background": "light"
     },
     "output_type": "display_data"
    },
    {
     "data": {
      "image/png": "[encoded data removed]",
      "text/plain": [
       "<Figure size 432x288 with 1 Axes>"
      ]
     },
     "metadata": {
      "needs_background": "light"
     },
     "output_type": "display_data"
    }
   ],
   "source": [
    "for predictor in list_of_columns:\n",
    "    df_quartile.boxplot(column = predictor)\n",
    "    show()"
   ]
  },
  {
   "cell_type": "markdown",
   "metadata": {},
   "source": [
    "###  Median predictor values for each wine quality ------> pd.pivot_table ( )"
   ]
  },
  {
   "cell_type": "code",
   "execution_count": 19,
   "metadata": {},
   "outputs": [
    {
     "data": {
      "text/html": [
       "<div>\n",
       "<style scoped>\n",
       "    .dataframe tbody tr th:only-of-type {\n",
       "        vertical-align: middle;\n",
       "    }\n",
       "\n",
       "    .dataframe tbody tr th {\n",
       "        vertical-align: top;\n",
       "    }\n",
       "\n",
       "    .dataframe thead th {\n",
       "        text-align: right;\n",
       "    }\n",
       "</style>\n",
       "<table border=\"1\" class=\"dataframe\">\n",
       "  <thead>\n",
       "    <tr style=\"text-align: right;\">\n",
       "      <th></th>\n",
       "      <th>alcohol</th>\n",
       "      <th>chlorides</th>\n",
       "      <th>citric acid</th>\n",
       "      <th>density</th>\n",
       "      <th>fixed acidity</th>\n",
       "      <th>free sulfur dioxide</th>\n",
       "      <th>pH</th>\n",
       "      <th>residual sugar</th>\n",
       "      <th>sulphates</th>\n",
       "      <th>total sulfur dioxide</th>\n",
       "      <th>volatile acidity</th>\n",
       "    </tr>\n",
       "    <tr>\n",
       "      <th>quality</th>\n",
       "      <th></th>\n",
       "      <th></th>\n",
       "      <th></th>\n",
       "      <th></th>\n",
       "      <th></th>\n",
       "      <th></th>\n",
       "      <th></th>\n",
       "      <th></th>\n",
       "      <th></th>\n",
       "      <th></th>\n",
       "      <th></th>\n",
       "    </tr>\n",
       "  </thead>\n",
       "  <tbody>\n",
       "    <tr>\n",
       "      <th>3</th>\n",
       "      <td>9.925</td>\n",
       "      <td>0.0905</td>\n",
       "      <td>0.035</td>\n",
       "      <td>0.997565</td>\n",
       "      <td>7.50</td>\n",
       "      <td>6.0</td>\n",
       "      <td>3.39</td>\n",
       "      <td>2.1</td>\n",
       "      <td>0.545</td>\n",
       "      <td>15.0</td>\n",
       "      <td>0.845</td>\n",
       "    </tr>\n",
       "    <tr>\n",
       "      <th>4</th>\n",
       "      <td>10.000</td>\n",
       "      <td>0.0800</td>\n",
       "      <td>0.090</td>\n",
       "      <td>0.996500</td>\n",
       "      <td>7.50</td>\n",
       "      <td>11.0</td>\n",
       "      <td>3.37</td>\n",
       "      <td>2.1</td>\n",
       "      <td>0.560</td>\n",
       "      <td>26.0</td>\n",
       "      <td>0.670</td>\n",
       "    </tr>\n",
       "    <tr>\n",
       "      <th>5</th>\n",
       "      <td>9.700</td>\n",
       "      <td>0.0810</td>\n",
       "      <td>0.230</td>\n",
       "      <td>0.997000</td>\n",
       "      <td>7.80</td>\n",
       "      <td>15.0</td>\n",
       "      <td>3.30</td>\n",
       "      <td>2.2</td>\n",
       "      <td>0.580</td>\n",
       "      <td>47.0</td>\n",
       "      <td>0.580</td>\n",
       "    </tr>\n",
       "    <tr>\n",
       "      <th>6</th>\n",
       "      <td>10.500</td>\n",
       "      <td>0.0780</td>\n",
       "      <td>0.260</td>\n",
       "      <td>0.996560</td>\n",
       "      <td>7.90</td>\n",
       "      <td>14.0</td>\n",
       "      <td>3.32</td>\n",
       "      <td>2.2</td>\n",
       "      <td>0.640</td>\n",
       "      <td>35.0</td>\n",
       "      <td>0.490</td>\n",
       "    </tr>\n",
       "    <tr>\n",
       "      <th>7</th>\n",
       "      <td>11.500</td>\n",
       "      <td>0.0730</td>\n",
       "      <td>0.400</td>\n",
       "      <td>0.995770</td>\n",
       "      <td>8.80</td>\n",
       "      <td>11.0</td>\n",
       "      <td>3.28</td>\n",
       "      <td>2.3</td>\n",
       "      <td>0.740</td>\n",
       "      <td>27.0</td>\n",
       "      <td>0.370</td>\n",
       "    </tr>\n",
       "    <tr>\n",
       "      <th>8</th>\n",
       "      <td>12.150</td>\n",
       "      <td>0.0705</td>\n",
       "      <td>0.420</td>\n",
       "      <td>0.994940</td>\n",
       "      <td>8.25</td>\n",
       "      <td>7.5</td>\n",
       "      <td>3.23</td>\n",
       "      <td>2.1</td>\n",
       "      <td>0.740</td>\n",
       "      <td>21.5</td>\n",
       "      <td>0.370</td>\n",
       "    </tr>\n",
       "  </tbody>\n",
       "</table>\n",
       "</div>"
      ],
      "text/plain": [
       "         alcohol  chlorides  citric acid   density  fixed acidity  \\\n",
       "quality                                                             \n",
       "3          9.925     0.0905        0.035  0.997565           7.50   \n",
       "4         10.000     0.0800        0.090  0.996500           7.50   \n",
       "5          9.700     0.0810        0.230  0.997000           7.80   \n",
       "6         10.500     0.0780        0.260  0.996560           7.90   \n",
       "7         11.500     0.0730        0.400  0.995770           8.80   \n",
       "8         12.150     0.0705        0.420  0.994940           8.25   \n",
       "\n",
       "         free sulfur dioxide    pH  residual sugar  sulphates  \\\n",
       "quality                                                         \n",
       "3                        6.0  3.39             2.1      0.545   \n",
       "4                       11.0  3.37             2.1      0.560   \n",
       "5                       15.0  3.30             2.2      0.580   \n",
       "6                       14.0  3.32             2.2      0.640   \n",
       "7                       11.0  3.28             2.3      0.740   \n",
       "8                        7.5  3.23             2.1      0.740   \n",
       "\n",
       "         total sulfur dioxide  volatile acidity  \n",
       "quality                                          \n",
       "3                        15.0             0.845  \n",
       "4                        26.0             0.670  \n",
       "5                        47.0             0.580  \n",
       "6                        35.0             0.490  \n",
       "7                        27.0             0.370  \n",
       "8                        21.5             0.370  "
      ]
     },
     "execution_count": 19,
     "metadata": {},
     "output_type": "execute_result"
    }
   ],
   "source": [
    "## the average predictor values for each wine quality\n",
    "pivoted_median = pd.pivot_table(df_quartile, index = 'quality', values = list_of_columns, aggfunc = median)\n",
    "pivoted_median.iloc[:20, :11]"
   ]
  },
  {
   "cell_type": "markdown",
   "metadata": {},
   "source": [
    "### Examining the relationships between the predictor variables (**median values) and the wine quality"
   ]
  },
  {
   "cell_type": "code",
   "execution_count": 20,
   "metadata": {},
   "outputs": [
    {
     "data": {
      "image/png": "[encoded data removed]",
      "text/plain": [
       "<Figure size 432x288 with 1 Axes>"
      ]
     },
     "metadata": {
      "needs_background": "light"
     },
     "output_type": "display_data"
    },
    {
     "data": {
      "image/png": "[encoded data removed]",
      "text/plain": [
       "<Figure size 432x288 with 1 Axes>"
      ]
     },
     "metadata": {
      "needs_background": "light"
     },
     "output_type": "display_data"
    },
    {
     "data": {
      "image/png": "[encoded data removed]",
      "text/plain": [
       "<Figure size 432x288 with 1 Axes>"
      ]
     },
     "metadata": {
      "needs_background": "light"
     },
     "output_type": "display_data"
    },
    {
     "data": {
      "image/png": "[encoded data removed]",
      "text/plain": [
       "<Figure size 432x288 with 1 Axes>"
      ]
     },
     "metadata": {
      "needs_background": "light"
     },
     "output_type": "display_data"
    },
    {
     "data": {
      "image/png": "[encoded data removed]",
      "text/plain": [
       "<Figure size 432x288 with 1 Axes>"
      ]
     },
     "metadata": {
      "needs_background": "light"
     },
     "output_type": "display_data"
    },
    {
     "data": {
      "image/png": "[encoded data removed]",
      "text/plain": [
       "<Figure size 432x288 with 1 Axes>"
      ]
     },
     "metadata": {
      "needs_background": "light"
     },
     "output_type": "display_data"
    },
    {
     "data": {
      "image/png": "[encoded data removed]",
      "text/plain": [
       "<Figure size 432x288 with 1 Axes>"
      ]
     },
     "metadata": {
      "needs_background": "light"
     },
     "output_type": "display_data"
    },
    {
     "data": {
      "image/png": "[encoded data removed]",
      "text/plain": [
       "<Figure size 432x288 with 1 Axes>"
      ]
     },
     "metadata": {
      "needs_background": "light"
     },
     "output_type": "display_data"
    },
    {
     "data": {
      "image/png": "[encoded data removed]",
      "text/plain": [
       "<Figure size 432x288 with 1 Axes>"
      ]
     },
     "metadata": {
      "needs_background": "light"
     },
     "output_type": "display_data"
    },
    {
     "data": {
      "image/png": "[encoded data removed]",
      "text/plain": [
       "<Figure size 432x288 with 1 Axes>"
      ]
     },
     "metadata": {
      "needs_background": "light"
     },
     "output_type": "display_data"
    },
    {
     "data": {
      "image/png": "[encoded data removed]",
      "text/plain": [
       "<Figure size 432x288 with 1 Axes>"
      ]
     },
     "metadata": {
      "needs_background": "light"
     },
     "output_type": "display_data"
    }
   ],
   "source": [
    "for predictor in list_of_columns[:-1]:\n",
    "    pivoted_median[predictor].plot(kind = 'bar')\n",
    "    xlabel('Quality')\n",
    "    ylabel(predictor)\n",
    "    show()"
   ]
  },
  {
   "cell_type": "markdown",
   "metadata": {},
   "source": [
    "*The bar charts plotted above indicate that \"volatile acidity\" and \"citric acid\" have the strongest correlations with wine quality, \n",
    "\n",
    "*whereas \"residual sugar\", \"density\", \"pH\" have the weakest correlations with wine quality.\n",
    "\n",
    "*Additionally, it seems that \"total sulfur dioxide\" and \"free sulfur dioxide\" have normal distributions relating to wine quality"
   ]
  },
  {
   "cell_type": "markdown",
   "metadata": {},
   "source": [
    "### Minimum predictor values for each wine quality"
   ]
  },
  {
   "cell_type": "code",
   "execution_count": 21,
   "metadata": {},
   "outputs": [
    {
     "data": {
      "text/html": [
       "<div>\n",
       "<style scoped>\n",
       "    .dataframe tbody tr th:only-of-type {\n",
       "        vertical-align: middle;\n",
       "    }\n",
       "\n",
       "    .dataframe tbody tr th {\n",
       "        vertical-align: top;\n",
       "    }\n",
       "\n",
       "    .dataframe thead th {\n",
       "        text-align: right;\n",
       "    }\n",
       "</style>\n",
       "<table border=\"1\" class=\"dataframe\">\n",
       "  <thead>\n",
       "    <tr style=\"text-align: right;\">\n",
       "      <th></th>\n",
       "      <th>Quality Quartile</th>\n",
       "      <th>alcohol</th>\n",
       "      <th>chlorides</th>\n",
       "      <th>citric acid</th>\n",
       "      <th>density</th>\n",
       "      <th>fixed acidity</th>\n",
       "      <th>free sulfur dioxide</th>\n",
       "      <th>pH</th>\n",
       "      <th>residual sugar</th>\n",
       "      <th>sulphates</th>\n",
       "      <th>total sulfur dioxide</th>\n",
       "    </tr>\n",
       "    <tr>\n",
       "      <th>quality</th>\n",
       "      <th></th>\n",
       "      <th></th>\n",
       "      <th></th>\n",
       "      <th></th>\n",
       "      <th></th>\n",
       "      <th></th>\n",
       "      <th></th>\n",
       "      <th></th>\n",
       "      <th></th>\n",
       "      <th></th>\n",
       "      <th></th>\n",
       "    </tr>\n",
       "  </thead>\n",
       "  <tbody>\n",
       "    <tr>\n",
       "      <th>3</th>\n",
       "      <td>Low</td>\n",
       "      <td>8.4</td>\n",
       "      <td>0.061</td>\n",
       "      <td>0.00</td>\n",
       "      <td>0.99471</td>\n",
       "      <td>6.7</td>\n",
       "      <td>3.0</td>\n",
       "      <td>3.16</td>\n",
       "      <td>1.2</td>\n",
       "      <td>0.40</td>\n",
       "      <td>9.0</td>\n",
       "    </tr>\n",
       "    <tr>\n",
       "      <th>4</th>\n",
       "      <td>Low</td>\n",
       "      <td>9.0</td>\n",
       "      <td>0.045</td>\n",
       "      <td>0.00</td>\n",
       "      <td>0.99340</td>\n",
       "      <td>4.6</td>\n",
       "      <td>3.0</td>\n",
       "      <td>2.74</td>\n",
       "      <td>1.3</td>\n",
       "      <td>0.33</td>\n",
       "      <td>7.0</td>\n",
       "    </tr>\n",
       "    <tr>\n",
       "      <th>5</th>\n",
       "      <td>Low</td>\n",
       "      <td>8.5</td>\n",
       "      <td>0.039</td>\n",
       "      <td>0.00</td>\n",
       "      <td>0.99256</td>\n",
       "      <td>5.0</td>\n",
       "      <td>3.0</td>\n",
       "      <td>2.88</td>\n",
       "      <td>1.2</td>\n",
       "      <td>0.37</td>\n",
       "      <td>6.0</td>\n",
       "    </tr>\n",
       "    <tr>\n",
       "      <th>6</th>\n",
       "      <td>Medium</td>\n",
       "      <td>8.4</td>\n",
       "      <td>0.034</td>\n",
       "      <td>0.00</td>\n",
       "      <td>0.99007</td>\n",
       "      <td>4.7</td>\n",
       "      <td>1.0</td>\n",
       "      <td>2.86</td>\n",
       "      <td>0.9</td>\n",
       "      <td>0.40</td>\n",
       "      <td>6.0</td>\n",
       "    </tr>\n",
       "    <tr>\n",
       "      <th>7</th>\n",
       "      <td>High</td>\n",
       "      <td>9.2</td>\n",
       "      <td>0.012</td>\n",
       "      <td>0.00</td>\n",
       "      <td>0.99064</td>\n",
       "      <td>4.9</td>\n",
       "      <td>3.0</td>\n",
       "      <td>2.92</td>\n",
       "      <td>1.2</td>\n",
       "      <td>0.39</td>\n",
       "      <td>7.0</td>\n",
       "    </tr>\n",
       "    <tr>\n",
       "      <th>8</th>\n",
       "      <td>High</td>\n",
       "      <td>9.8</td>\n",
       "      <td>0.044</td>\n",
       "      <td>0.03</td>\n",
       "      <td>0.99080</td>\n",
       "      <td>5.0</td>\n",
       "      <td>3.0</td>\n",
       "      <td>2.88</td>\n",
       "      <td>1.4</td>\n",
       "      <td>0.63</td>\n",
       "      <td>12.0</td>\n",
       "    </tr>\n",
       "  </tbody>\n",
       "</table>\n",
       "</div>"
      ],
      "text/plain": [
       "        Quality Quartile  alcohol  chlorides  citric acid  density  \\\n",
       "quality                                                              \n",
       "3                    Low      8.4      0.061         0.00  0.99471   \n",
       "4                    Low      9.0      0.045         0.00  0.99340   \n",
       "5                    Low      8.5      0.039         0.00  0.99256   \n",
       "6                 Medium      8.4      0.034         0.00  0.99007   \n",
       "7                   High      9.2      0.012         0.00  0.99064   \n",
       "8                   High      9.8      0.044         0.03  0.99080   \n",
       "\n",
       "         fixed acidity  free sulfur dioxide    pH  residual sugar  sulphates  \\\n",
       "quality                                                                        \n",
       "3                  6.7                  3.0  3.16             1.2       0.40   \n",
       "4                  4.6                  3.0  2.74             1.3       0.33   \n",
       "5                  5.0                  3.0  2.88             1.2       0.37   \n",
       "6                  4.7                  1.0  2.86             0.9       0.40   \n",
       "7                  4.9                  3.0  2.92             1.2       0.39   \n",
       "8                  5.0                  3.0  2.88             1.4       0.63   \n",
       "\n",
       "         total sulfur dioxide  \n",
       "quality                        \n",
       "3                         9.0  \n",
       "4                         7.0  \n",
       "5                         6.0  \n",
       "6                         6.0  \n",
       "7                         7.0  \n",
       "8                        12.0  "
      ]
     },
     "execution_count": 21,
     "metadata": {},
     "output_type": "execute_result"
    }
   ],
   "source": [
    "## the minimum predictor values for each wine quality\n",
    "pivoted_mins = pd.pivot_table(df_quartile, index = 'quality', values = list_of_columns, aggfunc = min)\n",
    "pivoted_mins.iloc[:20, :11]"
   ]
  },
  {
   "cell_type": "markdown",
   "metadata": {},
   "source": [
    "### Maximum predictor values for each wine quality"
   ]
  },
  {
   "cell_type": "code",
   "execution_count": 22,
   "metadata": {},
   "outputs": [
    {
     "data": {
      "text/html": [
       "<div>\n",
       "<style scoped>\n",
       "    .dataframe tbody tr th:only-of-type {\n",
       "        vertical-align: middle;\n",
       "    }\n",
       "\n",
       "    .dataframe tbody tr th {\n",
       "        vertical-align: top;\n",
       "    }\n",
       "\n",
       "    .dataframe thead th {\n",
       "        text-align: right;\n",
       "    }\n",
       "</style>\n",
       "<table border=\"1\" class=\"dataframe\">\n",
       "  <thead>\n",
       "    <tr style=\"text-align: right;\">\n",
       "      <th></th>\n",
       "      <th>Quality Quartile</th>\n",
       "      <th>alcohol</th>\n",
       "      <th>chlorides</th>\n",
       "      <th>citric acid</th>\n",
       "      <th>density</th>\n",
       "      <th>fixed acidity</th>\n",
       "      <th>free sulfur dioxide</th>\n",
       "      <th>pH</th>\n",
       "      <th>residual sugar</th>\n",
       "      <th>sulphates</th>\n",
       "      <th>total sulfur dioxide</th>\n",
       "    </tr>\n",
       "    <tr>\n",
       "      <th>quality</th>\n",
       "      <th></th>\n",
       "      <th></th>\n",
       "      <th></th>\n",
       "      <th></th>\n",
       "      <th></th>\n",
       "      <th></th>\n",
       "      <th></th>\n",
       "      <th></th>\n",
       "      <th></th>\n",
       "      <th></th>\n",
       "      <th></th>\n",
       "    </tr>\n",
       "  </thead>\n",
       "  <tbody>\n",
       "    <tr>\n",
       "      <th>3</th>\n",
       "      <td>Low</td>\n",
       "      <td>11.0</td>\n",
       "      <td>0.267</td>\n",
       "      <td>0.66</td>\n",
       "      <td>1.00080</td>\n",
       "      <td>11.6</td>\n",
       "      <td>34.0</td>\n",
       "      <td>3.63</td>\n",
       "      <td>5.7</td>\n",
       "      <td>0.86</td>\n",
       "      <td>49.0</td>\n",
       "    </tr>\n",
       "    <tr>\n",
       "      <th>4</th>\n",
       "      <td>Low</td>\n",
       "      <td>13.1</td>\n",
       "      <td>0.610</td>\n",
       "      <td>1.00</td>\n",
       "      <td>1.00100</td>\n",
       "      <td>12.5</td>\n",
       "      <td>41.0</td>\n",
       "      <td>3.90</td>\n",
       "      <td>12.9</td>\n",
       "      <td>2.00</td>\n",
       "      <td>119.0</td>\n",
       "    </tr>\n",
       "    <tr>\n",
       "      <th>5</th>\n",
       "      <td>Low</td>\n",
       "      <td>14.9</td>\n",
       "      <td>0.611</td>\n",
       "      <td>0.79</td>\n",
       "      <td>1.00315</td>\n",
       "      <td>15.9</td>\n",
       "      <td>68.0</td>\n",
       "      <td>3.74</td>\n",
       "      <td>15.5</td>\n",
       "      <td>1.98</td>\n",
       "      <td>155.0</td>\n",
       "    </tr>\n",
       "    <tr>\n",
       "      <th>6</th>\n",
       "      <td>Medium</td>\n",
       "      <td>14.0</td>\n",
       "      <td>0.415</td>\n",
       "      <td>0.78</td>\n",
       "      <td>1.00369</td>\n",
       "      <td>14.3</td>\n",
       "      <td>72.0</td>\n",
       "      <td>4.01</td>\n",
       "      <td>15.4</td>\n",
       "      <td>1.95</td>\n",
       "      <td>165.0</td>\n",
       "    </tr>\n",
       "    <tr>\n",
       "      <th>7</th>\n",
       "      <td>High</td>\n",
       "      <td>14.0</td>\n",
       "      <td>0.358</td>\n",
       "      <td>0.76</td>\n",
       "      <td>1.00320</td>\n",
       "      <td>15.6</td>\n",
       "      <td>54.0</td>\n",
       "      <td>3.78</td>\n",
       "      <td>8.9</td>\n",
       "      <td>1.36</td>\n",
       "      <td>289.0</td>\n",
       "    </tr>\n",
       "    <tr>\n",
       "      <th>8</th>\n",
       "      <td>High</td>\n",
       "      <td>14.0</td>\n",
       "      <td>0.086</td>\n",
       "      <td>0.72</td>\n",
       "      <td>0.99880</td>\n",
       "      <td>12.6</td>\n",
       "      <td>42.0</td>\n",
       "      <td>3.72</td>\n",
       "      <td>6.4</td>\n",
       "      <td>1.10</td>\n",
       "      <td>88.0</td>\n",
       "    </tr>\n",
       "  </tbody>\n",
       "</table>\n",
       "</div>"
      ],
      "text/plain": [
       "        Quality Quartile  alcohol  chlorides  citric acid  density  \\\n",
       "quality                                                              \n",
       "3                    Low     11.0      0.267         0.66  1.00080   \n",
       "4                    Low     13.1      0.610         1.00  1.00100   \n",
       "5                    Low     14.9      0.611         0.79  1.00315   \n",
       "6                 Medium     14.0      0.415         0.78  1.00369   \n",
       "7                   High     14.0      0.358         0.76  1.00320   \n",
       "8                   High     14.0      0.086         0.72  0.99880   \n",
       "\n",
       "         fixed acidity  free sulfur dioxide    pH  residual sugar  sulphates  \\\n",
       "quality                                                                        \n",
       "3                 11.6                 34.0  3.63             5.7       0.86   \n",
       "4                 12.5                 41.0  3.90            12.9       2.00   \n",
       "5                 15.9                 68.0  3.74            15.5       1.98   \n",
       "6                 14.3                 72.0  4.01            15.4       1.95   \n",
       "7                 15.6                 54.0  3.78             8.9       1.36   \n",
       "8                 12.6                 42.0  3.72             6.4       1.10   \n",
       "\n",
       "         total sulfur dioxide  \n",
       "quality                        \n",
       "3                        49.0  \n",
       "4                       119.0  \n",
       "5                       155.0  \n",
       "6                       165.0  \n",
       "7                       289.0  \n",
       "8                        88.0  "
      ]
     },
     "execution_count": 22,
     "metadata": {},
     "output_type": "execute_result"
    }
   ],
   "source": [
    "## the maximum predictor values for each wine quality\n",
    "pivoted_mins = pd.pivot_table(df_quartile, index = 'quality', values = list_of_columns, aggfunc = max)\n",
    "pivoted_mins.iloc[:20, :11]"
   ]
  },
  {
   "cell_type": "code",
   "execution_count": 23,
   "metadata": {},
   "outputs": [
    {
     "data": {
      "image/png": "[encoded data removed]",
      "text/plain": [
       "<Figure size 432x288 with 1 Axes>"
      ]
     },
     "metadata": {
      "needs_background": "light"
     },
     "output_type": "display_data"
    },
    {
     "data": {
      "image/png": "[encoded data removed]",
      "text/plain": [
       "<Figure size 432x288 with 1 Axes>"
      ]
     },
     "metadata": {
      "needs_background": "light"
     },
     "output_type": "display_data"
    },
    {
     "data": {
      "image/png": "[encoded data removed]",
      "text/plain": [
       "<Figure size 432x288 with 1 Axes>"
      ]
     },
     "metadata": {
      "needs_background": "light"
     },
     "output_type": "display_data"
    },
    {
     "data": {
      "image/png": "[encoded data removed]",
      "text/plain": [
       "<Figure size 432x288 with 1 Axes>"
      ]
     },
     "metadata": {
      "needs_background": "light"
     },
     "output_type": "display_data"
    },
    {
     "data": {
      "image/png": "[encoded data removed]",
      "text/plain": [
       "<Figure size 432x288 with 1 Axes>"
      ]
     },
     "metadata": {
      "needs_background": "light"
     },
     "output_type": "display_data"
    },
    {
     "data": {
      "image/png": "[encoded data removed]",
      "text/plain": [
       "<Figure size 432x288 with 1 Axes>"
      ]
     },
     "metadata": {
      "needs_background": "light"
     },
     "output_type": "display_data"
    },
    {
     "data": {
      "image/png": "[encoded data removed]",
      "text/plain": [
       "<Figure size 432x288 with 1 Axes>"
      ]
     },
     "metadata": {
      "needs_background": "light"
     },
     "output_type": "display_data"
    },
    {
     "data": {
      "image/png": "[encoded data removed]",
      "text/plain": [
       "<Figure size 432x288 with 1 Axes>"
      ]
     },
     "metadata": {
      "needs_background": "light"
     },
     "output_type": "display_data"
    },
    {
     "data": {
      "image/png": "[encoded data removed]",
      "text/plain": [
       "<Figure size 432x288 with 1 Axes>"
      ]
     },
     "metadata": {
      "needs_background": "light"
     },
     "output_type": "display_data"
    },
    {
     "data": {
      "image/png": "[encoded data removed]",
      "text/plain": [
       "<Figure size 432x288 with 1 Axes>"
      ]
     },
     "metadata": {
      "needs_background": "light"
     },
     "output_type": "display_data"
    },
    {
     "data": {
      "image/png": "[encoded data removed]",
      "text/plain": [
       "<Figure size 432x288 with 1 Axes>"
      ]
     },
     "metadata": {
      "needs_background": "light"
     },
     "output_type": "display_data"
    }
   ],
   "source": [
    "for predictor in df.columns.values[:-1]:\n",
    "    plot(df[predictor], df['quality'], marker = 'o', color = 'blue', linestyle = 'None')\n",
    "    xlabel(predictor)\n",
    "    ylabel('Wine Quality')\n",
    "    title('Wine Quality vs',)\n",
    "    show()"
   ]
  },
  {
   "cell_type": "markdown",
   "metadata": {},
   "source": [
    "# Linear Regression (big fat L)"
   ]
  },
  {
   "cell_type": "code",
   "execution_count": 24,
   "metadata": {},
   "outputs": [],
   "source": [
    "import statsmodels.api as sm\n",
    "from patsy import dmatrices"
   ]
  },
  {
   "cell_type": "code",
   "execution_count": 25,
   "metadata": {},
   "outputs": [
    {
     "data": {
      "text/html": [
       "<div>\n",
       "<style scoped>\n",
       "    .dataframe tbody tr th:only-of-type {\n",
       "        vertical-align: middle;\n",
       "    }\n",
       "\n",
       "    .dataframe tbody tr th {\n",
       "        vertical-align: top;\n",
       "    }\n",
       "\n",
       "    .dataframe thead th {\n",
       "        text-align: right;\n",
       "    }\n",
       "</style>\n",
       "<table border=\"1\" class=\"dataframe\">\n",
       "  <thead>\n",
       "    <tr style=\"text-align: right;\">\n",
       "      <th></th>\n",
       "      <th>quality</th>\n",
       "    </tr>\n",
       "  </thead>\n",
       "  <tbody>\n",
       "    <tr>\n",
       "      <th>495</th>\n",
       "      <td>8.0</td>\n",
       "    </tr>\n",
       "    <tr>\n",
       "      <th>1403</th>\n",
       "      <td>8.0</td>\n",
       "    </tr>\n",
       "    <tr>\n",
       "      <th>390</th>\n",
       "      <td>8.0</td>\n",
       "    </tr>\n",
       "  </tbody>\n",
       "</table>\n",
       "</div>"
      ],
      "text/plain": [
       "      quality\n",
       "495       8.0\n",
       "1403      8.0\n",
       "390       8.0"
      ]
     },
     "execution_count": 25,
     "metadata": {},
     "output_type": "execute_result"
    }
   ],
   "source": [
    "y, X = dmatrices('quality ~ alcohol + Q(\"fixed acidity\")', data = df, return_type = 'dataframe')\n",
    "y[:3]"
   ]
  },
  {
   "cell_type": "code",
   "execution_count": 26,
   "metadata": {},
   "outputs": [],
   "source": [
    "# Step 1 : Create the design matrices\n",
    "y, X = dmatrices('quality ~ alcohol + Q(\"fixed acidity\") + Q(\"volatile acidity\") + Q(\"citric acid\") + Q(\"residual sugar\") \\\n",
    "                 + chlorides + Q(\"free sulfur dioxide\") + Q(\"total sulfur dioxide\") + density + pH + sulphates', \n",
    "                 data = df, return_type='dataframe')"
   ]
  },
  {
   "cell_type": "code",
   "execution_count": 27,
   "metadata": {
    "scrolled": true
   },
   "outputs": [
    {
     "name": "stdout",
     "output_type": "stream",
     "text": [
      "                            OLS Regression Results                            \n",
      "==============================================================================\n",
      "Dep. Variable:                quality   R-squared:                       0.361\n",
      "Model:                            OLS   Adj. R-squared:                  0.356\n",
      "Method:                 Least Squares   F-statistic:                     81.35\n",
      "Date:                Sun, 08 Aug 2021   Prob (F-statistic):          1.79e-145\n",
      "Time:                        20:07:43   Log-Likelihood:                -1569.1\n",
      "No. Observations:                1599   AIC:                             3162.\n",
      "Df Residuals:                    1587   BIC:                             3227.\n",
      "Df Model:                          11                                         \n",
      "Covariance Type:            nonrobust                                         \n",
      "=============================================================================================\n",
      "                                coef    std err          t      P>|t|      [0.025      0.975]\n",
      "---------------------------------------------------------------------------------------------\n",
      "Intercept                    21.9652     21.195      1.036      0.300     -19.607      63.538\n",
      "alcohol                       0.2762      0.026     10.429      0.000       0.224       0.328\n",
      "Q(\"fixed acidity\")            0.0250      0.026      0.963      0.336      -0.026       0.076\n",
      "Q(\"volatile acidity\")        -1.0836      0.121     -8.948      0.000      -1.321      -0.846\n",
      "Q(\"citric acid\")             -0.1826      0.147     -1.240      0.215      -0.471       0.106\n",
      "Q(\"residual sugar\")           0.0163      0.015      1.089      0.276      -0.013       0.046\n",
      "chlorides                    -1.8742      0.419     -4.470      0.000      -2.697      -1.052\n",
      "Q(\"free sulfur dioxide\")      0.0044      0.002      2.009      0.045       0.000       0.009\n",
      "Q(\"total sulfur dioxide\")    -0.0033      0.001     -4.480      0.000      -0.005      -0.002\n",
      "density                     -17.8812     21.633     -0.827      0.409     -60.314      24.551\n",
      "pH                           -0.4137      0.192     -2.159      0.031      -0.789      -0.038\n",
      "sulphates                     0.9163      0.114      8.014      0.000       0.692       1.141\n",
      "==============================================================================\n",
      "Omnibus:                       27.376   Durbin-Watson:                   0.585\n",
      "Prob(Omnibus):                  0.000   Jarque-Bera (JB):               40.965\n",
      "Skew:                          -0.168   Prob(JB):                     1.27e-09\n",
      "Kurtosis:                       3.708   Cond. No.                     1.13e+05\n",
      "==============================================================================\n",
      "\n",
      "Notes:\n",
      "[1] Standard Errors assume that the covariance matrix of the errors is correctly specified.\n",
      "[2] The condition number is large, 1.13e+05. This might indicate that there are\n",
      "strong multicollinearity or other numerical problems.\n"
     ]
    }
   ],
   "source": [
    "model = sm.OLS(y, X)       # Set up the model\n",
    "result = model.fit()       # Fit model (find the intercept and slopes)\n",
    "print(result.summary())"
   ]
  },
  {
   "cell_type": "markdown",
   "metadata": {},
   "source": [
    "quality = 0.2762*'alcohol' + 0.0250*'fixed acidity' - 1.0836*'volatile acidity' - 0.1826*'citric acid' \\\n",
    "+ 0.0163*'residual sugar' - 1.8742*'chlorides' + 0.0044*'free sulfur dioxide' - 0.0033*'total sulfur dioxide' \\\n",
    "- 17.8812*'density' - 0.4137*'pH' + 0.9163*'sulphates' + 21.9652"
   ]
  },
  {
   "cell_type": "code",
   "execution_count": 28,
   "metadata": {},
   "outputs": [
    {
     "data": {
      "text/plain": [
       "fixed acidity           10.7000\n",
       "volatile acidity         0.3500\n",
       "citric acid              0.5300\n",
       "residual sugar           2.6000\n",
       "chlorides                0.0700\n",
       "free sulfur dioxide      5.0000\n",
       "total sulfur dioxide    16.0000\n",
       "density                  0.9972\n",
       "pH                       3.1500\n",
       "sulphates                0.6500\n",
       "alcohol                 11.0000\n",
       "quality                  8.0000\n",
       "Name: 495, dtype: float64"
      ]
     },
     "execution_count": 28,
     "metadata": {},
     "output_type": "execute_result"
    }
   ],
   "source": [
    "df.iloc[0]"
   ]
  },
  {
   "cell_type": "code",
   "execution_count": 29,
   "metadata": {},
   "outputs": [
    {
     "data": {
      "text/plain": [
       "1599"
      ]
     },
     "execution_count": 29,
     "metadata": {},
     "output_type": "execute_result"
    }
   ],
   "source": [
    "len(df)"
   ]
  },
  {
   "cell_type": "markdown",
   "metadata": {},
   "source": [
    "#quality = 0.2762*'alcohol' + 0.0250*'fixed acidity' - 1.0836*'volatile acidity' - 0.1826*'citric acid' \\\n",
    "#+ 0.0163*'residual sugar' - 1.8742*'chlorides' + 0.0044*'free sulfur dioxide' - 0.0033*'total sulfur dioxide' \\\n",
    "#- 17.8812*'density' - 0.4137*'pH' + 0.9163*'sulphates'\n",
    "\n",
    "y = 600\n",
    "while y < 700:\n",
    "    x = 0\n",
    "    while x < (len(df.iloc[y]) - 2):\n",
    "        quality = 0.025*df.iloc[y][x] - 1.0836*df.iloc[y][x+1] - 0.1826*df.iloc[y][x+2] + 0.0163*df.iloc[y][x+3] \\\n",
    "        - 1.87428*df.iloc[y][x+4] + 0.0044*df.iloc[y][x+5] - 0.0033*df.iloc[y][x+6] - 17.8812*df.iloc[y][x+7] \\\n",
    "        - 0.4137*df.iloc[y][x+8] + 0.9163*df.iloc[y][x+9] + 0.2762*df.iloc[y][x+10] + 21.9652\n",
    "        print(\"quality is\", quality, \"for observation number\", y+1)\n",
    "        x = 20\n",
    "    y += 1"
   ]
  },
  {
   "cell_type": "markdown",
   "metadata": {},
   "source": [
    "x = 0\n",
    "while x < (len(df.iloc[0]) - 2):\n",
    "    quality = 0.025*df.iloc[0][x] - 1.0836*df.iloc[0][x+1] - 0.1826*df.iloc[0][x+2] + 0.0163*df.iloc[0][x+3] \\\n",
    "    - 1.87428*df.iloc[0][x+4] + 0.0044*df.iloc[0][x+5] - 0.0033*df.iloc[0][x+6] - 17.8812*df.iloc[0][x+7] \\\n",
    "    - 0.4137*df.iloc[0][x+8] + 0.9163*df.iloc[0][x+9] + 0.2762*df.iloc[0][x+10] + 21.9652\n",
    "    print(\"quality is\", quality, \"for observation number\", x+1)\n",
    "    x = 20"
   ]
  },
  {
   "cell_type": "markdown",
   "metadata": {},
   "source": [
    "# Logistic Regression"
   ]
  },
  {
   "cell_type": "code",
   "execution_count": 30,
   "metadata": {},
   "outputs": [
    {
     "name": "stderr",
     "output_type": "stream",
     "text": [
      "<ipython-input-30-903af0d0a850>:2: SettingWithCopyWarning: \n",
      "A value is trying to be set on a copy of a slice from a DataFrame\n",
      "\n",
      "See the caveats in the documentation: https://pandas.pydata.org/pandas-docs/stable/user_guide/indexing.html#returning-a-view-versus-a-copy\n",
      "  df['target'][df['quality'] > 5] = 1.0\n"
     ]
    },
    {
     "data": {
      "text/plain": [
       "1.0    855\n",
       "0.0    744\n",
       "Name: target, dtype: int64"
      ]
     },
     "execution_count": 30,
     "metadata": {},
     "output_type": "execute_result"
    }
   ],
   "source": [
    "df['target'] = 0.0\n",
    "df['target'][df['quality'] > 5] = 1.0\n",
    "df['target'].value_counts()"
   ]
  },
  {
   "cell_type": "code",
   "execution_count": 31,
   "metadata": {},
   "outputs": [],
   "source": [
    "formula = 'target ~ 0 + alcohol + Q(\"fixed acidity\") + Q(\"volatile acidity\") + Q(\"citric acid\") + Q(\"residual sugar\") \\\n",
    "                 + chlorides + Q(\"free sulfur dioxide\") + Q(\"total sulfur dioxide\") + density + pH + sulphates'"
   ]
  },
  {
   "cell_type": "code",
   "execution_count": 32,
   "metadata": {},
   "outputs": [],
   "source": [
    "Y, X = dmatrices(formula, df, return_type='dataframe')\n",
    "y = Y['target'].values"
   ]
  },
  {
   "cell_type": "code",
   "execution_count": 33,
   "metadata": {},
   "outputs": [],
   "source": [
    "from sklearn.model_selection import train_test_split\n",
    "X_train, X_test, y_train, y_test = train_test_split(X, y, test_size=0.3, random_state=1)"
   ]
  },
  {
   "cell_type": "code",
   "execution_count": 34,
   "metadata": {},
   "outputs": [
    {
     "name": "stderr",
     "output_type": "stream",
     "text": [
      "/Users/junsu/opt/anaconda3/lib/python3.8/site-packages/sklearn/linear_model/_logistic.py:762: ConvergenceWarning: lbfgs failed to converge (status=1):\n",
      "STOP: TOTAL NO. of ITERATIONS REACHED LIMIT.\n",
      "\n",
      "Increase the number of iterations (max_iter) or scale the data as shown in:\n",
      "    https://scikit-learn.org/stable/modules/preprocessing.html\n",
      "Please also refer to the documentation for alternative solver options:\n",
      "    https://scikit-learn.org/stable/modules/linear_model.html#logistic-regression\n",
      "  n_iter_i = _check_optimize_result(\n"
     ]
    }
   ],
   "source": [
    "from sklearn.linear_model import LogisticRegression\n",
    "model = LogisticRegression()\n",
    "result = model.fit(X_train, y_train)"
   ]
  },
  {
   "cell_type": "code",
   "execution_count": 35,
   "metadata": {},
   "outputs": [
    {
     "name": "stdout",
     "output_type": "stream",
     "text": [
      "0.7578194816800715\n"
     ]
    }
   ],
   "source": [
    "from sklearn import metrics\n",
    "\n",
    "prediction_train = model.predict(X_train)\n",
    "print(metrics.accuracy_score(y_train, prediction_train))"
   ]
  },
  {
   "cell_type": "code",
   "execution_count": 36,
   "metadata": {},
   "outputs": [
    {
     "name": "stdout",
     "output_type": "stream",
     "text": [
      "0.7145833333333333\n"
     ]
    }
   ],
   "source": [
    "prediction = model.predict(X_test)\n",
    "print(metrics.accuracy_score(y_test, prediction))"
   ]
  },
  {
   "cell_type": "code",
   "execution_count": 37,
   "metadata": {},
   "outputs": [
    {
     "name": "stdout",
     "output_type": "stream",
     "text": [
      "Number of positive examples = 606\n",
      "Number of negative examples = 513\n"
     ]
    }
   ],
   "source": [
    "print('Number of positive examples =', len(y_train[y_train==1]))\n",
    "print('Number of negative examples =', len(y_train[y_train==0]))"
   ]
  },
  {
   "cell_type": "code",
   "execution_count": 38,
   "metadata": {},
   "outputs": [
    {
     "data": {
      "text/plain": [
       "array([[ 0.91445287, -0.0271319 , -3.18516846, -0.73765978,  0.11956873,\n",
       "        -1.0821825 ,  0.02876483, -0.02008184, -1.04314456, -1.70228709,\n",
       "         1.8598514 ]])"
      ]
     },
     "execution_count": 38,
     "metadata": {},
     "output_type": "execute_result"
    }
   ],
   "source": [
    "model.coef_"
   ]
  },
  {
   "cell_type": "code",
   "execution_count": 39,
   "metadata": {},
   "outputs": [
    {
     "data": {
      "text/plain": [
       "Q(\"volatile acidity\")       -3.185168\n",
       "pH                          -1.702287\n",
       "chlorides                   -1.082183\n",
       "density                     -1.043145\n",
       "Q(\"citric acid\")            -0.737660\n",
       "Q(\"fixed acidity\")          -0.027132\n",
       "Q(\"total sulfur dioxide\")   -0.020082\n",
       "Q(\"free sulfur dioxide\")     0.028765\n",
       "Q(\"residual sugar\")          0.119569\n",
       "alcohol                      0.914453\n",
       "sulphates                    1.859851\n",
       "dtype: float64"
      ]
     },
     "execution_count": 39,
     "metadata": {},
     "output_type": "execute_result"
    }
   ],
   "source": [
    "weights = Series(model.coef_[0],\n",
    "                 index=X.columns.values)\n",
    "weights.sort_values()"
   ]
  },
  {
   "cell_type": "markdown",
   "metadata": {},
   "source": [
    "*The bar charts plotted above indicate that \"volatile acidity\" and \"citric acid\" have the strongest correlations with wine quality, \n",
    "\n",
    "*whereas \"residual sugar\", \"density\", \"pH\" have the weakest correlations with wine quality.\n",
    "\n",
    "*Additionally, it seems that \"total sulfur dioxide\" and \"free sulfur dioxide\" have normal distributions relating to wine quality"
   ]
  },
  {
   "cell_type": "code",
   "execution_count": 42,
   "metadata": {},
   "outputs": [],
   "source": [
    "formula2 = 'target ~ 0 + alcohol + Q(\"fixed acidity\") + Q(\"volatile acidity\") + Q(\"citric acid\") + \\\n",
    "                 chlorides + Q(\"free sulfur dioxide\") + Q(\"total sulfur dioxide\") + sulphates'"
   ]
  },
  {
   "cell_type": "code",
   "execution_count": 43,
   "metadata": {},
   "outputs": [],
   "source": [
    "Y2, X2 = dmatrices(formula2, df, return_type='dataframe')\n",
    "y2 = Y2['target'].values"
   ]
  },
  {
   "cell_type": "code",
   "execution_count": 44,
   "metadata": {},
   "outputs": [],
   "source": [
    "from sklearn.model_selection import train_test_split\n",
    "X_train2, X_test2, y_train2, y_test2 = train_test_split(X2, y2, test_size=0.3, random_state=1)"
   ]
  },
  {
   "cell_type": "code",
   "execution_count": 45,
   "metadata": {},
   "outputs": [
    {
     "name": "stderr",
     "output_type": "stream",
     "text": [
      "/Users/junsu/opt/anaconda3/lib/python3.8/site-packages/sklearn/linear_model/_logistic.py:762: ConvergenceWarning: lbfgs failed to converge (status=1):\n",
      "STOP: TOTAL NO. of ITERATIONS REACHED LIMIT.\n",
      "\n",
      "Increase the number of iterations (max_iter) or scale the data as shown in:\n",
      "    https://scikit-learn.org/stable/modules/preprocessing.html\n",
      "Please also refer to the documentation for alternative solver options:\n",
      "    https://scikit-learn.org/stable/modules/linear_model.html#logistic-regression\n",
      "  n_iter_i = _check_optimize_result(\n"
     ]
    }
   ],
   "source": [
    "from sklearn.linear_model import LogisticRegression\n",
    "model2 = LogisticRegression()\n",
    "result2 = model2.fit(X_train2, y_train2)"
   ]
  },
  {
   "cell_type": "code",
   "execution_count": 46,
   "metadata": {},
   "outputs": [
    {
     "name": "stdout",
     "output_type": "stream",
     "text": [
      "0.7578194816800715\n"
     ]
    }
   ],
   "source": [
    "from sklearn import metrics\n",
    "\n",
    "prediction_train2 = model2.predict(X_train2)\n",
    "print(metrics.accuracy_score(y_train2, prediction_train2))"
   ]
  },
  {
   "cell_type": "code",
   "execution_count": 47,
   "metadata": {},
   "outputs": [
    {
     "name": "stdout",
     "output_type": "stream",
     "text": [
      "0.7208333333333333\n"
     ]
    }
   ],
   "source": [
    "prediction2 = model2.predict(X_test2)\n",
    "print(metrics.accuracy_score(y_test2, prediction2))"
   ]
  },
  {
   "cell_type": "code",
   "execution_count": 48,
   "metadata": {},
   "outputs": [
    {
     "name": "stdout",
     "output_type": "stream",
     "text": [
      "Number of positive examples = 606\n",
      "Number of negative examples = 513\n"
     ]
    }
   ],
   "source": [
    "print('Number of positive examples =', len(y_train2[y_train2==1]))\n",
    "print('Number of negative examples =', len(y_train2[y_train2==0]))"
   ]
  },
  {
   "cell_type": "code",
   "execution_count": 49,
   "metadata": {},
   "outputs": [
    {
     "data": {
      "text/plain": [
       "array([[ 0.95645734,  0.09568928, -2.86229815, -0.44133545, -1.20537065,\n",
       "         0.0313856 , -0.01771144,  2.05053805]])"
      ]
     },
     "execution_count": 49,
     "metadata": {},
     "output_type": "execute_result"
    }
   ],
   "source": [
    "model2.coef_"
   ]
  },
  {
   "cell_type": "code",
   "execution_count": 50,
   "metadata": {},
   "outputs": [
    {
     "data": {
      "text/plain": [
       "Q(\"volatile acidity\")       -2.862298\n",
       "chlorides                   -1.205371\n",
       "Q(\"citric acid\")            -0.441335\n",
       "Q(\"total sulfur dioxide\")   -0.017711\n",
       "Q(\"free sulfur dioxide\")     0.031386\n",
       "Q(\"fixed acidity\")           0.095689\n",
       "alcohol                      0.956457\n",
       "sulphates                    2.050538\n",
       "dtype: float64"
      ]
     },
     "execution_count": 50,
     "metadata": {},
     "output_type": "execute_result"
    }
   ],
   "source": [
    "weights2 = Series(model2.coef_[0],\n",
    "                 index=X2.columns.values)\n",
    "weights2.sort_values()"
   ]
  },
  {
   "cell_type": "code",
   "execution_count": 51,
   "metadata": {},
   "outputs": [
    {
     "data": {
      "text/plain": [
       "Q(\"volatile acidity\")       -3.185168\n",
       "pH                          -1.702287\n",
       "chlorides                   -1.082183\n",
       "density                     -1.043145\n",
       "Q(\"citric acid\")            -0.737660\n",
       "Q(\"fixed acidity\")          -0.027132\n",
       "Q(\"total sulfur dioxide\")   -0.020082\n",
       "Q(\"free sulfur dioxide\")     0.028765\n",
       "Q(\"residual sugar\")          0.119569\n",
       "alcohol                      0.914453\n",
       "sulphates                    1.859851\n",
       "dtype: float64"
      ]
     },
     "execution_count": 51,
     "metadata": {},
     "output_type": "execute_result"
    }
   ],
   "source": [
    "weights.sort_values()"
   ]
  },
  {
   "cell_type": "code",
   "execution_count": 52,
   "metadata": {},
   "outputs": [],
   "source": [
    "formula3 = 'target ~ 0 + Q(\"volatile acidity\") + Q(\"citric acid\")'"
   ]
  },
  {
   "cell_type": "code",
   "execution_count": 53,
   "metadata": {},
   "outputs": [],
   "source": [
    "Y3, X3 = dmatrices(formula3, df, return_type='dataframe')\n",
    "y3 = Y3['target'].values"
   ]
  },
  {
   "cell_type": "code",
   "execution_count": 54,
   "metadata": {},
   "outputs": [],
   "source": [
    "from sklearn.model_selection import train_test_split\n",
    "X_train3, X_test3, y_train3, y_test3 = train_test_split(X3, y3, test_size=0.3, random_state=1)"
   ]
  },
  {
   "cell_type": "code",
   "execution_count": 55,
   "metadata": {},
   "outputs": [],
   "source": [
    "from sklearn.linear_model import LogisticRegression\n",
    "model3 = LogisticRegression()\n",
    "result3 = model3.fit(X_train3, y_train3)"
   ]
  },
  {
   "cell_type": "code",
   "execution_count": 56,
   "metadata": {},
   "outputs": [
    {
     "name": "stdout",
     "output_type": "stream",
     "text": [
      "0.6568364611260054\n"
     ]
    }
   ],
   "source": [
    "from sklearn import metrics\n",
    "\n",
    "prediction_train3 = model3.predict(X_train3)\n",
    "print(metrics.accuracy_score(y_train3, prediction_train3))"
   ]
  },
  {
   "cell_type": "code",
   "execution_count": 57,
   "metadata": {},
   "outputs": [
    {
     "name": "stdout",
     "output_type": "stream",
     "text": [
      "0.6166666666666667\n"
     ]
    }
   ],
   "source": [
    "prediction3 = model3.predict(X_test3)\n",
    "print(metrics.accuracy_score(y_test3, prediction3))"
   ]
  },
  {
   "cell_type": "code",
   "execution_count": 58,
   "metadata": {},
   "outputs": [
    {
     "name": "stdout",
     "output_type": "stream",
     "text": [
      "Number of positive examples = 606\n",
      "Number of negative examples = 513\n"
     ]
    }
   ],
   "source": [
    "print('Number of positive examples =', len(y_train3[y_train3==1]))\n",
    "print('Number of negative examples =', len(y_train3[y_train3==0]))"
   ]
  },
  {
   "cell_type": "code",
   "execution_count": 59,
   "metadata": {},
   "outputs": [
    {
     "data": {
      "text/plain": [
       "array([[-3.82520649, -0.16763594]])"
      ]
     },
     "execution_count": 59,
     "metadata": {},
     "output_type": "execute_result"
    }
   ],
   "source": [
    "model3.coef_"
   ]
  },
  {
   "cell_type": "code",
   "execution_count": 60,
   "metadata": {},
   "outputs": [
    {
     "data": {
      "text/plain": [
       "Q(\"volatile acidity\")   -3.825206\n",
       "Q(\"citric acid\")        -0.167636\n",
       "dtype: float64"
      ]
     },
     "execution_count": 60,
     "metadata": {},
     "output_type": "execute_result"
    }
   ],
   "source": [
    "weights3 = Series(model3.coef_[0],\n",
    "                 index=X3.columns.values)\n",
    "weights3.sort_values()"
   ]
  },
  {
   "cell_type": "markdown",
   "metadata": {},
   "source": [
    "## Attempt to increase test accuracy"
   ]
  },
  {
   "cell_type": "code",
   "execution_count": 5,
   "metadata": {},
   "outputs": [],
   "source": [
    "#accuracy with the top 4 variables with the highest abs coef will be the highest\n",
    "#deleting other variables or adding them only increase by a little bit \n",
    "formula4 = 'target ~ 0 + alcohol + Q(\"volatile acidity\") + Q(\"citric acid\")\\\n",
    "                 + chlorides + sulphates'"
   ]
  },
  {
   "cell_type": "code",
   "execution_count": 8,
   "metadata": {},
   "outputs": [],
   "source": [
    "Y4, X4 = dmatrices(formula4, df, return_type='dataframe')\n",
    "y4 = Y4['target'].values"
   ]
  },
  {
   "cell_type": "code",
   "execution_count": 9,
   "metadata": {},
   "outputs": [],
   "source": [
    "from sklearn.model_selection import train_test_split\n",
    "X_train4, X_test4, y_train4, y_test4 = train_test_split(X4, y4, test_size=0.3, random_state=1)"
   ]
  },
  {
   "cell_type": "code",
   "execution_count": 10,
   "metadata": {},
   "outputs": [],
   "source": [
    "from sklearn.linear_model import LogisticRegression\n",
    "model4 = LogisticRegression()\n",
    "result4 = model4.fit(X_train4, y_train4)"
   ]
  },
  {
   "cell_type": "code",
   "execution_count": 11,
   "metadata": {},
   "outputs": [
    {
     "name": "stdout",
     "output_type": "stream",
     "text": [
      "0.7479892761394102\n"
     ]
    }
   ],
   "source": [
    "from sklearn import metrics\n",
    "prediction_train4 = model4.predict(X_train4)\n",
    "print(metrics.accuracy_score(y_train4, prediction_train4))"
   ]
  },
  {
   "cell_type": "code",
   "execution_count": 12,
   "metadata": {},
   "outputs": [
    {
     "name": "stdout",
     "output_type": "stream",
     "text": [
      "0.7145833333333333\n"
     ]
    }
   ],
   "source": [
    "prediction4 = model4.predict(X_test4)\n",
    "print(metrics.accuracy_score(y_test4, prediction4))"
   ]
  },
  {
   "cell_type": "code",
   "execution_count": 13,
   "metadata": {},
   "outputs": [
    {
     "data": {
      "text/plain": [
       "Q(\"volatile acidity\")   -3.268813\n",
       "chlorides               -0.912384\n",
       "Q(\"citric acid\")        -0.434455\n",
       "alcohol                  1.027102\n",
       "sulphates                1.943149\n",
       "dtype: float64"
      ]
     },
     "execution_count": 13,
     "metadata": {},
     "output_type": "execute_result"
    }
   ],
   "source": [
    "weights4 = Series(model4.coef_[0],\n",
    "                 index=X4.columns.values)\n",
    "weights4.sort_values()"
   ]
  },
  {
   "cell_type": "code",
   "execution_count": null,
   "metadata": {},
   "outputs": [],
   "source": []
  }
 ],
 "metadata": {
  "kernelspec": {
   "display_name": "Python 3",
   "language": "python",
   "name": "python3"
  },
  "language_info": {
   "codemirror_mode": {
    "name": "ipython",
    "version": 3
   },
   "file_extension": ".py",
   "mimetype": "text/x-python",
   "name": "python",
   "nbconvert_exporter": "python",
   "pygments_lexer": "ipython3",
   "version": "3.8.5"
  }
 },
 "nbformat": 4,
 "nbformat_minor": 4
}
