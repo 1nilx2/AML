{
 "cells": [
  {
   "cell_type": "code",
   "execution_count": 61,
   "id": "2ec8142d",
   "metadata": {},
   "outputs": [],
   "source": [
    "import pandas as pd\n",
    "import numpy as np\n",
    "import gurobipy as gp\n",
    "import matplotlib.pyplot as plt\n",
    "from sklearn.linear_model import LassoCV\n",
    "from sklearn import linear_model\n",
    "from sklearn.metrics import mean_squared_error\n",
    "from matplotlib.pyplot import figure\n",
    "import seaborn as sns"
   ]
  },
  {
   "cell_type": "code",
   "execution_count": 3,
   "id": "d6a9e827",
   "metadata": {},
   "outputs": [],
   "source": [
    "# Time limit for optimization function and M value for Big M constraint\n",
    "time = 500\n",
    "M = 200"
   ]
  },
  {
   "cell_type": "code",
   "execution_count": 4,
   "id": "0f8334cd",
   "metadata": {},
   "outputs": [],
   "source": [
    "# Reading in train and test files \n",
    "df= pd.read_csv('training_data.csv')\n",
    "df_test = pd.read_csv('test_data.csv')"
   ]
  },
  {
   "cell_type": "code",
   "execution_count": 5,
   "id": "28f0ab61",
   "metadata": {},
   "outputs": [],
   "source": [
    "# Creating X and y matrix for test data  -- used in question 3\n",
    "y_test = df_test['y']\n",
    "X_test = df_test.drop(columns='y', axis=1) \n",
    "\n",
    "y_test_matrix =np.array(y_test)\n",
    "\n",
    "# X_test_matrix also accounts for the column of ones, so total columns are 51 -- use this for all future calculations\n",
    "X_test_matrix = np.array(X_test)\n",
    "X_test_matrix = np.c_[np.ones((len(X_test),1)),X_test_matrix]"
   ]
  },
  {
   "cell_type": "markdown",
   "id": "797ec5d1",
   "metadata": {},
   "source": [
    "## Cross-validation - Question 2"
   ]
  },
  {
   "cell_type": "code",
   "execution_count": 6,
   "id": "1902a2fa",
   "metadata": {},
   "outputs": [],
   "source": [
    "# Write function to create 10 random folds from df\n",
    "def cross_validation_func (cvfolds, df):\n",
    "    for f in range(1,cvfolds+1):\n",
    "        np.random.seed(0)\n",
    "        indexes = np.random.choice(len(df),int(len(df)/cvfolds), replace= False)\n",
    "    return indexes   "
   ]
  },
  {
   "cell_type": "code",
   "execution_count": 7,
   "id": "8c862de4",
   "metadata": {},
   "outputs": [],
   "source": [
    "# Write function for optimization that runs the k-fold cross validation and returns SSE values for different values of k\n",
    "def optimization_func (df, k, cvfolds, M):\n",
    "    mean_squared_error=[] # initialize list to store SSE\n",
    "\n",
    "    for value in k:\n",
    "        squared_error=[] # stores 10 error values for 10 folds at each k everytime time loop is run \n",
    "        for x in range(cvfolds):\n",
    "            indexes = cross_validation_func(cvfolds,df) # call cross validation function to create random indexes\n",
    "            \n",
    "            # create matrix for validation set \n",
    "            validation_set = df.iloc[indexes]\n",
    "            validation_set = validation_set.drop(columns='y', axis=1)\n",
    "            validation_matrix = np.array(validation_set)\n",
    "            validation_matrix= np.c_[np.ones((len(validation_set),1)),validation_set]\n",
    "            \n",
    "            validation_y = df['y'].iloc[indexes]\n",
    "            validation_y = list(validation_y)\n",
    "            \n",
    "            # create matrix for training set \n",
    "            training_set = df.drop(indexes, axis=0)\n",
    "            training_set = training_set.drop(columns='y', axis=1)\n",
    "            training_y = df['y'].drop(indexes, axis=0)\n",
    "            training_y = list(training_y)\n",
    "            \n",
    "\n",
    "            m = len(training_set.columns)\n",
    "            \n",
    "            # Following is the optimization section of the function\n",
    "            # Creating the X and y matrix \n",
    "            y= np.array(training_y)\n",
    "            X= np.array(training_set)\n",
    "            X= np.c_[np.ones((len(training_set),1)),training_set]\n",
    "\n",
    "            X_T = X.transpose()\n",
    "            y_T= y.transpose()\n",
    "\n",
    "            Q = np.zeros([(2*m+1),(2*m+1)])\n",
    "\n",
    "\n",
    "            XT_X = X_T @ X\n",
    "\n",
    "            # Inserting XT_X into top left corner of Q\n",
    "            for i in range(51):\n",
    "                for j in range(51):\n",
    "                    Q[i,j]= XT_X[i,j] # This creates the quadratic part of the objective\n",
    "                    \n",
    "            # Writing the linear part of the objective\n",
    "            linear_obj = -2*y_T @ X \n",
    "            obj = np.zeros((2*m+1))\n",
    "            obj[0: m+1] = linear_obj\n",
    "            \n",
    "            # Initialize the constraint matrix A\n",
    "            A=np.zeros((2*m+1,2*m+1))\n",
    "            A[0,m+1:2*m+1] = [1]*m  # Constraint for picking the number of betas\n",
    "\n",
    "            # Filling A[1:50]\n",
    "            for i in range(1,m+1):\n",
    "                A[i,i] = 1\n",
    "                A[i, i+m] = M  # Constraint for setting upper limit on betas \n",
    "\n",
    "\n",
    "            # Filling A[51:100]\n",
    "            for i in range(m+1,2*m+1):\n",
    "                A[i,i-m] = 1\n",
    "                A[i, i] = -M # Constraint for setting lower limit on betas \n",
    "\n",
    "            # Create the b vector\n",
    "            b= np.zeros(2*m+1)\n",
    "            b[0] = value\n",
    "\n",
    "            sense = ['<']+['>']*m + ['<']*m # specify the signs on the constraints \n",
    "            vtype=['C']*(m+1) + ['B']*m  # specify the type of variable -- all betas are continuous variables, all z are binary\n",
    "            lb = -M  # set lower limit on betas as gurobi automatically takes that as 0\n",
    "            \n",
    "            # Set up the optimization model\n",
    "            olsMod = gp.Model()\n",
    "            olsMod_x = olsMod.addMVar(len(obj), vtype=vtype, lb=lb)\n",
    "            olsMod_con = olsMod.addMConstrs(A, olsMod_x, sense, b)\n",
    "            olsMod.setMObjective(Q,obj,0,sense=gp.GRB.MINIMIZE)\n",
    "\n",
    "            olsMod.Params.OutputFlag = 0 \n",
    "            olsMod.Params.timelimit = time # time is specified at top of the notebook\n",
    "\n",
    "            olsMod.optimize()\n",
    "            \n",
    "            betas= olsMod_x.x # store beta values in a list\n",
    "            \n",
    "            # Take dot product of beta values with the x values in validation matrix to get predicted y\n",
    "            y_pred = np.dot(validation_matrix, betas[:51]) \n",
    "            \n",
    "            # Get sum of squared error  \n",
    "            error_sq = sum((y_pred - validation_y)**2)\n",
    "            \n",
    "            squared_error.append(error_sq)\n",
    "        mean_squared_error.append(sum(squared_error)) \n",
    "    # return average SSE for each value of k\n",
    "    return mean_squared_error \n",
    "            \n",
    " "
   ]
  },
  {
   "cell_type": "code",
   "execution_count": 8,
   "id": "94e41b9e",
   "metadata": {},
   "outputs": [],
   "source": [
    "# We want to run k-fold cross validation for k values = 5,10,15,20,25,30,35,40,45,50\n",
    "k= list(range(5,51,5))"
   ]
  },
  {
   "cell_type": "code",
   "execution_count": 9,
   "id": "444dcfa1",
   "metadata": {},
   "outputs": [
    {
     "name": "stdout",
     "output_type": "stream",
     "text": [
      "Academic license - for non-commercial use only - expires 2022-09-15\n",
      "Using license file C:\\Users\\mehra\\gurobi.lic\n"
     ]
    },
    {
     "name": "stderr",
     "output_type": "stream",
     "text": [
      "<ipython-input-9-041b644c55a8>:2: DeprecationWarning: Deprecated, use Model.addMConstr() instead\n",
      "  returned_vals = optimization_func(df, k, 10, 200)\n"
     ]
    }
   ],
   "source": [
    "# call optimization function, specify df, k, cvfolds=10, M=200\n",
    "returned_vals = optimization_func(df, k, 10, 200)"
   ]
  },
  {
   "cell_type": "code",
   "execution_count": 10,
   "id": "c954c015",
   "metadata": {},
   "outputs": [],
   "source": [
    "# Create df to store SSE values for each k\n",
    "columns = ['k-value', 'SSE']\n",
    "sse_df = pd.DataFrame(zip(k,returned_vals), columns=columns)\n",
    "sse_df = sse_df.set_index('k-value')"
   ]
  },
  {
   "cell_type": "code",
   "execution_count": 11,
   "id": "284a4290",
   "metadata": {},
   "outputs": [
    {
     "data": {
      "text/html": [
       "<div>\n",
       "<style scoped>\n",
       "    .dataframe tbody tr th:only-of-type {\n",
       "        vertical-align: middle;\n",
       "    }\n",
       "\n",
       "    .dataframe tbody tr th {\n",
       "        vertical-align: top;\n",
       "    }\n",
       "\n",
       "    .dataframe thead th {\n",
       "        text-align: right;\n",
       "    }\n",
       "</style>\n",
       "<table border=\"1\" class=\"dataframe\">\n",
       "  <thead>\n",
       "    <tr style=\"text-align: right;\">\n",
       "      <th></th>\n",
       "      <th>SSE</th>\n",
       "    </tr>\n",
       "    <tr>\n",
       "      <th>k-value</th>\n",
       "      <th></th>\n",
       "    </tr>\n",
       "  </thead>\n",
       "  <tbody>\n",
       "    <tr>\n",
       "      <th>5</th>\n",
       "      <td>755.692655</td>\n",
       "    </tr>\n",
       "    <tr>\n",
       "      <th>10</th>\n",
       "      <td>619.053973</td>\n",
       "    </tr>\n",
       "    <tr>\n",
       "      <th>15</th>\n",
       "      <td>720.317538</td>\n",
       "    </tr>\n",
       "    <tr>\n",
       "      <th>20</th>\n",
       "      <td>797.972161</td>\n",
       "    </tr>\n",
       "    <tr>\n",
       "      <th>25</th>\n",
       "      <td>856.995553</td>\n",
       "    </tr>\n",
       "    <tr>\n",
       "      <th>30</th>\n",
       "      <td>861.232576</td>\n",
       "    </tr>\n",
       "    <tr>\n",
       "      <th>35</th>\n",
       "      <td>937.382219</td>\n",
       "    </tr>\n",
       "    <tr>\n",
       "      <th>40</th>\n",
       "      <td>939.414678</td>\n",
       "    </tr>\n",
       "    <tr>\n",
       "      <th>45</th>\n",
       "      <td>941.679342</td>\n",
       "    </tr>\n",
       "    <tr>\n",
       "      <th>50</th>\n",
       "      <td>944.593865</td>\n",
       "    </tr>\n",
       "  </tbody>\n",
       "</table>\n",
       "</div>"
      ],
      "text/plain": [
       "                SSE\n",
       "k-value            \n",
       "5        755.692655\n",
       "10       619.053973\n",
       "15       720.317538\n",
       "20       797.972161\n",
       "25       856.995553\n",
       "30       861.232576\n",
       "35       937.382219\n",
       "40       939.414678\n",
       "45       941.679342\n",
       "50       944.593865"
      ]
     },
     "execution_count": 11,
     "metadata": {},
     "output_type": "execute_result"
    }
   ],
   "source": [
    "sse_df"
   ]
  },
  {
   "cell_type": "code",
   "execution_count": 12,
   "id": "dcc6c84e",
   "metadata": {},
   "outputs": [
    {
     "data": {
      "text/plain": [
       "Text(0, 0.5, 'SSE')"
      ]
     },
     "execution_count": 12,
     "metadata": {},
     "output_type": "execute_result"
    },
    {
     "data": {
      "image/png": "[encoded data removed]",
      "text/plain": [
       "<Figure size 432x288 with 1 Axes>"
      ]
     },
     "metadata": {
      "needs_background": "light"
     },
     "output_type": "display_data"
    }
   ],
   "source": [
    "plt.plot(k, sse_df['SSE'])\n",
    "plt.xlabel('K-Value')\n",
    "plt.ylabel('SSE')"
   ]
  },
  {
   "cell_type": "markdown",
   "id": "0765a0a9",
   "metadata": {},
   "source": [
    "From the graph, we can clearly see that k=10 has the least SSE. Therefore, the best value of **k = 10**"
   ]
  },
  {
   "cell_type": "code",
   "execution_count": 13,
   "id": "4463402c",
   "metadata": {},
   "outputs": [],
   "source": [
    "best_k = sse_df['SSE'].idxmin()"
   ]
  },
  {
   "cell_type": "code",
   "execution_count": 14,
   "id": "1b772e61",
   "metadata": {},
   "outputs": [
    {
     "data": {
      "text/plain": [
       "10"
      ]
     },
     "execution_count": 14,
     "metadata": {},
     "output_type": "execute_result"
    }
   ],
   "source": [
    "best_k"
   ]
  },
  {
   "cell_type": "markdown",
   "id": "bde19abb",
   "metadata": {},
   "source": [
    "## Question 3"
   ]
  },
  {
   "cell_type": "markdown",
   "id": "3b95cee1",
   "metadata": {},
   "source": [
    "Use training data with the best value of k to train the model, then use the beta values to predict on the test set"
   ]
  },
  {
   "cell_type": "code",
   "execution_count": 15,
   "id": "40aee5d5",
   "metadata": {},
   "outputs": [],
   "source": [
    "# Creating the X and y matrix for train data \n",
    "y= np.array(df['y'])\n",
    "X= np.array(df.drop(columns='y'))\n",
    "X=np.c_[np.ones((len(df),1)),X]\n",
    "\n",
    "X_T = X.transpose()\n",
    "y_T= y.transpose()\n",
    "\n",
    "\n",
    "XT_X = X_T @ X\n",
    "\n",
    "m = len(df.drop(columns='y').columns)\n",
    "\n",
    "\n",
    "# Filling Q matrix with XT_X\n",
    "\n",
    "Q = np.zeros([2*len(df.drop(columns='y').columns)+1,2*len(df.drop(columns='y').columns)+1])\n",
    "Q[0:51,0:51]= XT_X\n",
    "\n",
    "\n",
    "linear_obj = -2*y_T @ X \n",
    "obj = np.zeros((2*m+1))\n",
    "obj[0: m+1] = linear_obj"
   ]
  },
  {
   "cell_type": "code",
   "execution_count": 16,
   "id": "4a854918",
   "metadata": {},
   "outputs": [],
   "source": [
    "A=np.zeros((2*m+1,2*m+1))\n",
    "A[0,m+1:2*m+1] = [1]*m\n",
    "\n",
    "# Filling A[1:50]\n",
    "for i in range(1,m+1):\n",
    "    A[i,i] = 1\n",
    "    A[i, i+m] = M\n",
    "\n",
    "    \n",
    "# Filling A[51:100]\n",
    "for i in range(m+1,2*m+1):\n",
    "    A[i,i-m] = 1\n",
    "    A[i, i] = -M\n",
    "\n",
    "b= np.zeros(2*m+1)\n",
    "b[0] = best_k ## INSERT HERE to try with another value of k\n",
    "\n",
    "sense = ['<']+['>']*m + ['<']*m\n",
    "vtype=['C']*(m+1) + ['B']*m\n",
    "lb = -M"
   ]
  },
  {
   "cell_type": "code",
   "execution_count": 17,
   "id": "59b6e7b7",
   "metadata": {},
   "outputs": [],
   "source": [
    "olsMod = gp.Model()\n",
    "olsMod_x = olsMod.addMVar(len(obj), vtype=vtype, lb=lb)\n",
    "olsMod_con = olsMod.addMConstrs(A, olsMod_x, sense, b)\n",
    "olsMod.setMObjective(Q,obj,0,sense=gp.GRB.MINIMIZE)\n",
    "\n",
    "olsMod.Params.OutputFlag = 0 \n",
    "\n",
    "olsMod.optimize()"
   ]
  },
  {
   "cell_type": "code",
   "execution_count": 18,
   "id": "a8415c99",
   "metadata": {},
   "outputs": [],
   "source": [
    "betas_training = olsMod_x.x"
   ]
  },
  {
   "cell_type": "code",
   "execution_count": 19,
   "id": "4c358529",
   "metadata": {},
   "outputs": [
    {
     "data": {
      "text/plain": [
       "array([ 0.97252408,  0.        ,  0.        ,  0.        ,  0.        ,\n",
       "        0.        ,  0.        ,  0.        ,  0.        , -2.30820726,\n",
       "        0.        ,  0.        ,  0.        ,  0.        ,  0.        ,\n",
       "       -0.51832612, -0.20416201,  0.        ,  0.        ,  0.        ,\n",
       "        0.        ,  0.        ,  0.        , -1.55914318,  0.86697336,\n",
       "        0.        , -1.31191942,  0.        ,  0.        ,  0.        ,\n",
       "        0.        ,  0.        ,  0.        ,  0.        ,  0.4081653 ,\n",
       "        0.        ,  0.        ,  0.        ,  0.        ,  0.        ,\n",
       "        0.        ,  0.        ,  0.        ,  0.        ,  0.        ,\n",
       "        1.78147489,  0.        ,  0.88738292, -0.28229213,  0.        ,\n",
       "        0.        , -0.        ,  0.        , -0.        , -0.        ,\n",
       "       -0.        , -0.        , -0.        , -0.        ,  1.        ,\n",
       "       -0.        , -0.        , -0.        , -0.        , -0.        ,\n",
       "        1.        ,  1.        , -0.        , -0.        , -0.        ,\n",
       "       -0.        , -0.        ,  0.        ,  1.        ,  1.        ,\n",
       "       -0.        ,  1.        , -0.        , -0.        , -0.        ,\n",
       "        0.        , -0.        , -0.        , -0.        ,  1.        ,\n",
       "       -0.        , -0.        , -0.        , -0.        , -0.        ,\n",
       "       -0.        , -0.        , -0.        , -0.        ,  0.        ,\n",
       "        1.        , -0.        ,  1.        ,  1.        , -0.        ,\n",
       "        0.        ])"
      ]
     },
     "execution_count": 19,
     "metadata": {},
     "output_type": "execute_result"
    }
   ],
   "source": [
    "betas_training"
   ]
  },
  {
   "cell_type": "code",
   "execution_count": 52,
   "id": "f3776ce3",
   "metadata": {},
   "outputs": [
    {
     "data": {
      "text/html": [
       "<div>\n",
       "<style scoped>\n",
       "    .dataframe tbody tr th:only-of-type {\n",
       "        vertical-align: middle;\n",
       "    }\n",
       "\n",
       "    .dataframe tbody tr th {\n",
       "        vertical-align: top;\n",
       "    }\n",
       "\n",
       "    .dataframe thead th {\n",
       "        text-align: right;\n",
       "    }\n",
       "</style>\n",
       "<table border=\"1\" class=\"dataframe\">\n",
       "  <thead>\n",
       "    <tr style=\"text-align: right;\">\n",
       "      <th></th>\n",
       "      <th>X</th>\n",
       "      <th>beta</th>\n",
       "    </tr>\n",
       "  </thead>\n",
       "  <tbody>\n",
       "    <tr>\n",
       "      <th>0</th>\n",
       "      <td>X0</td>\n",
       "      <td>0.972524</td>\n",
       "    </tr>\n",
       "    <tr>\n",
       "      <th>9</th>\n",
       "      <td>X9</td>\n",
       "      <td>-2.308207</td>\n",
       "    </tr>\n",
       "    <tr>\n",
       "      <th>15</th>\n",
       "      <td>X15</td>\n",
       "      <td>-0.518326</td>\n",
       "    </tr>\n",
       "    <tr>\n",
       "      <th>16</th>\n",
       "      <td>X16</td>\n",
       "      <td>-0.204162</td>\n",
       "    </tr>\n",
       "    <tr>\n",
       "      <th>23</th>\n",
       "      <td>X23</td>\n",
       "      <td>-1.559143</td>\n",
       "    </tr>\n",
       "    <tr>\n",
       "      <th>24</th>\n",
       "      <td>X24</td>\n",
       "      <td>0.866973</td>\n",
       "    </tr>\n",
       "    <tr>\n",
       "      <th>26</th>\n",
       "      <td>X26</td>\n",
       "      <td>-1.311919</td>\n",
       "    </tr>\n",
       "    <tr>\n",
       "      <th>34</th>\n",
       "      <td>X34</td>\n",
       "      <td>0.408165</td>\n",
       "    </tr>\n",
       "    <tr>\n",
       "      <th>45</th>\n",
       "      <td>X45</td>\n",
       "      <td>1.781475</td>\n",
       "    </tr>\n",
       "    <tr>\n",
       "      <th>47</th>\n",
       "      <td>X47</td>\n",
       "      <td>0.887383</td>\n",
       "    </tr>\n",
       "    <tr>\n",
       "      <th>48</th>\n",
       "      <td>X48</td>\n",
       "      <td>-0.282292</td>\n",
       "    </tr>\n",
       "  </tbody>\n",
       "</table>\n",
       "</div>"
      ],
      "text/plain": [
       "      X      beta\n",
       "0    X0  0.972524\n",
       "9    X9 -2.308207\n",
       "15  X15 -0.518326\n",
       "16  X16 -0.204162\n",
       "23  X23 -1.559143\n",
       "24  X24  0.866973\n",
       "26  X26 -1.311919\n",
       "34  X34  0.408165\n",
       "45  X45  1.781475\n",
       "47  X47  0.887383\n",
       "48  X48 -0.282292"
      ]
     },
     "execution_count": 52,
     "metadata": {},
     "output_type": "execute_result"
    }
   ],
   "source": [
    "betas_list = ['X0'] + list(df.drop(columns='y').columns)\n",
    "# betas_list\n",
    "betas_df=pd.DataFrame(zip(betas_list, betas_training),columns=['X','beta'])\n",
    "betas_df = betas_df[betas_df['beta'] != 0]\n",
    "betas_df"
   ]
  },
  {
   "cell_type": "code",
   "execution_count": 76,
   "id": "146faa0c",
   "metadata": {},
   "outputs": [
    {
     "name": "stderr",
     "output_type": "stream",
     "text": [
      "C:\\Users\\mehra\\anaconda3\\lib\\site-packages\\seaborn\\_decorators.py:36: FutureWarning: Pass the following variables as keyword args: x, y. From version 0.12, the only valid positional argument will be `data`, and passing other arguments without an explicit keyword will result in an error or misinterpretation.\n",
      "  warnings.warn(\n"
     ]
    },
    {
     "data": {
      "text/plain": [
       "<AxesSubplot:xlabel='X', ylabel='beta'>"
      ]
     },
     "execution_count": 76,
     "metadata": {},
     "output_type": "execute_result"
    },
    {
     "data": {
      "image/png": "[encoded data removed]",
      "text/plain": [
       "<Figure size 1296x576 with 1 Axes>"
      ]
     },
     "metadata": {
      "needs_background": "light"
     },
     "output_type": "display_data"
    }
   ],
   "source": [
    "plt.figure(figsize=(18, 8))\n",
    "sns.barplot(betas_df['X'], betas_df['beta'], palette='crest')\n"
   ]
  },
  {
   "cell_type": "code",
   "execution_count": 20,
   "id": "b36d32d1",
   "metadata": {
    "scrolled": true
   },
   "outputs": [
    {
     "data": {
      "text/plain": [
       "array([ 6.17985878,  5.09524299,  3.28559532,  3.75848539, -0.33297526,\n",
       "       -5.14273683, -3.14454357, -1.23806288,  1.38511093, -0.44173854,\n",
       "       -1.69500225,  2.73035027,  0.74744903, -0.97192232, -0.68681528,\n",
       "        8.04522381, -7.94698471,  3.89063974, -4.58142919, -3.21992082,\n",
       "       -2.16211454,  3.21686318, -3.19810533,  0.19740731, -2.35988844,\n",
       "       -0.41999885, -1.9125216 , -3.32418587, -3.14170972, -3.55379324,\n",
       "       -1.80842543, -0.37134301,  1.8670808 ,  5.04927886, -1.80005614,\n",
       "        3.09427675,  4.38154309,  2.6988627 ,  1.6132886 ,  5.97584637,\n",
       "       -1.1973583 ,  5.2232542 , -5.84899891, -1.14461528,  4.51802998,\n",
       "        4.18774866,  4.12046008,  0.61483809,  1.95723246, -1.54904383])"
      ]
     },
     "execution_count": 20,
     "metadata": {},
     "output_type": "execute_result"
    }
   ],
   "source": [
    "# Use betas to predict y values on the test data\n",
    "y_pred_test = np.dot(X_test_matrix, betas_training[:51])\n",
    "y_pred_test"
   ]
  },
  {
   "cell_type": "code",
   "execution_count": 21,
   "id": "11a693f9",
   "metadata": {},
   "outputs": [
    {
     "name": "stdout",
     "output_type": "stream",
     "text": [
      "The SSE on the test data is:  116.827\n",
      "The MSE on the test data is:  2.337\n"
     ]
    }
   ],
   "source": [
    "error_sq = sum((y_pred_test - list(y_test_matrix))**2)\n",
    "cv_mse = mean_squared_error(y_pred_test, list(y_test_matrix))\n",
    "\n",
    "print('The SSE on the test data is: ', round(error_sq,3))\n",
    "print('The MSE on the test data is: ', round(cv_mse,3))"
   ]
  },
  {
   "cell_type": "markdown",
   "id": "b5b1f149",
   "metadata": {},
   "source": [
    "## Question 4 - LASSO CV"
   ]
  },
  {
   "cell_type": "code",
   "execution_count": 22,
   "id": "2f0e53a9",
   "metadata": {},
   "outputs": [],
   "source": [
    "# Use scikit learn to find best value of lambda using LassoCV\n",
    "reg = LassoCV(cv=10, random_state=0).fit(X,y)"
   ]
  },
  {
   "cell_type": "code",
   "execution_count": 23,
   "id": "d5322dfa",
   "metadata": {},
   "outputs": [
    {
     "name": "stdout",
     "output_type": "stream",
     "text": [
      "The amount of penalty from CV is:  0.07639\n"
     ]
    }
   ],
   "source": [
    "# keep the best hyper-parameter for the penalty, alpha\n",
    "alpha = reg.alpha_\n",
    "print('The amount of penalty from CV is: ', round(alpha,5) )"
   ]
  },
  {
   "cell_type": "code",
   "execution_count": 24,
   "id": "01055ae2",
   "metadata": {},
   "outputs": [
    {
     "data": {
      "text/plain": [
       "Lasso(alpha=0.07638765995113514)"
      ]
     },
     "execution_count": 24,
     "metadata": {},
     "output_type": "execute_result"
    }
   ],
   "source": [
    "# Now create Lasso model using the best value of alpha\n",
    "# Bring the alpha previously identified into a Lasso model\n",
    "\n",
    "clf = linear_model.Lasso(alpha=alpha)\n",
    "clf.fit(X,y)"
   ]
  },
  {
   "cell_type": "code",
   "execution_count": 25,
   "id": "d8cd7610",
   "metadata": {},
   "outputs": [],
   "source": [
    "# Predict using lasso model on the test set\n",
    "y_pred_lasso = clf.predict(X_test_matrix)"
   ]
  },
  {
   "cell_type": "code",
   "execution_count": 26,
   "id": "14d525af",
   "metadata": {},
   "outputs": [
    {
     "name": "stdout",
     "output_type": "stream",
     "text": [
      "The SSE on test data using lasso is:  117.482\n",
      "The MSE on test data using lasso is:  2.35\n"
     ]
    }
   ],
   "source": [
    "# Compute the SSE and MSE\n",
    "lasso_sse = sum((y_pred_lasso - list(y_test_matrix) )**2)\n",
    "MSE = mean_squared_error(y_pred_lasso, list(y_test_matrix))\n",
    "\n",
    "print('The SSE on test data using lasso is: ', round(lasso_sse,3))\n",
    "print('The MSE on test data using lasso is: ', round(MSE,3))"
   ]
  },
  {
   "cell_type": "code",
   "execution_count": 27,
   "id": "8137fca2",
   "metadata": {},
   "outputs": [
    {
     "data": {
      "text/html": [
       "<div>\n",
       "<style scoped>\n",
       "    .dataframe tbody tr th:only-of-type {\n",
       "        vertical-align: middle;\n",
       "    }\n",
       "\n",
       "    .dataframe tbody tr th {\n",
       "        vertical-align: top;\n",
       "    }\n",
       "\n",
       "    .dataframe thead th {\n",
       "        text-align: right;\n",
       "    }\n",
       "</style>\n",
       "<table border=\"1\" class=\"dataframe\">\n",
       "  <thead>\n",
       "    <tr style=\"text-align: right;\">\n",
       "      <th></th>\n",
       "      <th>SSE</th>\n",
       "    </tr>\n",
       "  </thead>\n",
       "  <tbody>\n",
       "    <tr>\n",
       "      <th>CV model</th>\n",
       "      <td>116.827198</td>\n",
       "    </tr>\n",
       "    <tr>\n",
       "      <th>LASSO model</th>\n",
       "      <td>117.481738</td>\n",
       "    </tr>\n",
       "  </tbody>\n",
       "</table>\n",
       "</div>"
      ],
      "text/plain": [
       "                    SSE\n",
       "CV model     116.827198\n",
       "LASSO model  117.481738"
      ]
     },
     "execution_count": 27,
     "metadata": {},
     "output_type": "execute_result"
    }
   ],
   "source": [
    "# Comparing LASSO CV and our cross validation function \n",
    "errors = [error_sq, lasso_sse]\n",
    "\n",
    "index= ['CV model', 'LASSO model']\n",
    "cols=['SSE']\n",
    "df2= pd.DataFrame(errors, index=index, columns= cols)\n",
    "df2"
   ]
  },
  {
   "cell_type": "markdown",
   "id": "1ea52c9e",
   "metadata": {},
   "source": [
    "Based on the errors in the table above, we can say that the CV model we wrote performed better than the LASSO model"
   ]
  }
 ],
 "metadata": {
  "kernelspec": {
   "display_name": "Python 3",
   "language": "python",
   "name": "python3"
  },
  "language_info": {
   "codemirror_mode": {
    "name": "ipython",
    "version": 3
   },
   "file_extension": ".py",
   "mimetype": "text/x-python",
   "name": "python",
   "nbconvert_exporter": "python",
   "pygments_lexer": "ipython3",
   "version": "3.8.8"
  }
 },
 "nbformat": 4,
 "nbformat_minor": 5
}
