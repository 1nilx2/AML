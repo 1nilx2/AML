{
 "cells": [
  {
   "cell_type": "code",
   "execution_count": 168,
   "metadata": {},
   "outputs": [],
   "source": [
    "import pandas as pd\n",
    "import numpy as np\n",
    "import copy\n",
    "import re\n",
    "\n",
    "tmp = pd.read_csv('beerreviews.csv')"
   ]
  },
  {
   "cell_type": "code",
   "execution_count": 169,
   "metadata": {},
   "outputs": [],
   "source": [
    "df = copy.deepcopy(tmp[['name','reviews']])\n",
    "df['clean_review'] = ''"
   ]
  },
  {
   "cell_type": "code",
   "execution_count": 190,
   "metadata": {},
   "outputs": [
    {
     "data": {
      "text/plain": [
       "0       Blend 3 august 2015\\n\\n\\n\\nGolden burnt orange...\n",
       "1       Blend 3 august 2015\\n\\n\\n\\nGolden burnt orange...\n",
       "2       Blend 3 august 2015\\n\\n\\n\\nGolden burnt orange...\n",
       "3       Blend 3 august 2015\\n\\n\\n\\nGolden burnt orange...\n",
       "4       Blend 3 august 2015\\n\\n\\n\\nGolden burnt orange...\n",
       "                              ...                        \n",
       "6214    Blend 3 august 2015\\n\\n\\n\\nGolden burnt orange...\n",
       "6215    Blend 3 august 2015\\n\\n\\n\\nGolden burnt orange...\n",
       "6216    Blend 3 august 2015\\n\\n\\n\\nGolden burnt orange...\n",
       "6217    Blend 3 august 2015\\n\\n\\n\\nGolden burnt orange...\n",
       "6218    Blend 3 august 2015\\n\\n\\n\\nGolden burnt orange...\n",
       "Name: clean_review, Length: 6219, dtype: object"
      ]
     },
     "execution_count": 190,
     "metadata": {},
     "output_type": "execute_result"
    }
   ],
   "source": [
    "for i in range(len(df)):\n",
    "    try:\n",
    "        df['clean_review'] = re.split(r'overall: \\d.*\\d*\\n\\n',df['reviews'][i])[1]\n",
    "    except:\n",
    "        df['clean_review'] = 'NaN'\n",
    "        \n",
    "df['clean_review']"
   ]
  },
  {
   "cell_type": "code",
   "execution_count": 196,
   "metadata": {},
   "outputs": [
    {
     "data": {
      "text/plain": [
       "0       Blend \n",
       "1       Blend \n",
       "2       Blend \n",
       "3       Blend \n",
       "4       Blend \n",
       "         ...  \n",
       "6214    Blend \n",
       "6215    Blend \n",
       "6216    Blend \n",
       "6217    Blend \n",
       "6218    Blend \n",
       "Name: clean_review, Length: 6219, dtype: object"
      ]
     },
     "execution_count": 196,
     "metadata": {},
     "output_type": "execute_result"
    }
   ],
   "source": [
    "for i in range(len(df)):\n",
    "    try:\n",
    "        df['clean_review'] = re.split('\\d.*\\d*\\n\\n', df['reviews'][i])[1]\n",
    "    except:\n",
    "        print(i)\n",
    "\n",
    "df['clean_review']"
   ]
  }
 ],
 "metadata": {
  "kernelspec": {
   "display_name": "Python 3 (ipykernel)",
   "language": "python",
   "name": "python3"
  },
  "language_info": {
   "codemirror_mode": {
    "name": "ipython",
    "version": 3
   },
   "file_extension": ".py",
   "mimetype": "text/x-python",
   "name": "python",
   "nbconvert_exporter": "python",
   "pygments_lexer": "ipython3",
   "version": "3.8.5"
  }
 },
 "nbformat": 4,
 "nbformat_minor": 4
}
