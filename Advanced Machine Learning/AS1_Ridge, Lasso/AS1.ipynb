{
 "cells": [
  {
   "cell_type": "markdown",
   "metadata": {
    "id": "evHVxwk2JA-3"
   },
   "source": [
    "# <p style=\"text-align: center;\">MIS 382N: Advanced Machine Learning</p>\n",
    "# <p style=\"text-align: center;\">Homework 1</p>\n",
    "## <p style=\"text-align: center;\">Total points: 55</p>\n",
    "## <p style=\"text-align: center;\">Due: Wednesday, **Sep 10** submitted via Canvas by 11:59 pm</p>\n",
    "\n",
    "Your homework should be written in a **Jupyter notebook**. Please make sure your code runs and the graphics (and anything else) are displayed in your notebook before submitting (%matplotlib inline). **This can be an individual assignment or group of 2. If you choose to do it as a group, please specify who you are working with (name and EID), then only one student should submit the homework.**\n",
    "\n",
    "**Note: Notebooks MUST have the images embedded in them. There will be no regrades if attached images do not render in the notebook. Please re download from canvas after submission and make sure all attached images render without errors. (Hint: Image module from IPython.display)**"
   ]
  },
  {
   "cell_type": "code",
   "execution_count": null,
   "metadata": {
    "id": "0eTfjKUv7_Yo"
   },
   "outputs": [],
   "source": []
  },
  {
   "cell_type": "markdown",
   "metadata": {
    "id": "TWWU_gOSLEEv"
   },
   "source": [
    "# Question 1: MLOps (10 pts)\n",
    "Read this [article](https://towardsdatascience.com/what-is-mlops-everything-you-must-know-to-get-started-523f2d0b8bd8) \"What is MLOps — Everything You Must Know to Get Started\", which gives a quick walkthrough of the machine learning development lifecycle and explains how MLOps come into play, or watch this [video](https://www.youtube.com/watch?v=06-AZXmwHjo) which you may find interesting.\n",
    "\n",
    "1. (**4 pts**) Use your own words to describe what MLOps is, and what challenges MLOps address. Limit your answer to one paragraph.\n",
    "\n",
    "2. (**6 pts**) Describe what the main phases in MLOps are. Your answer should be 2-3 paragraphs.\n",
    "\n",
    "\n",
    "## Answer:"
   ]
  },
  {
   "cell_type": "markdown",
   "metadata": {},
   "source": [
    "1. One of the important issue the ML confronts in the field the of application is that it has both code and data. This is significantly different characteristc compared to tradition Dev Ops which has code only. In modern life data has been countinuously being poured into pools, making handling this in timely manner important issue. MLOps has been arised to handle these kind of problems involving setting business objectives, acquiring data, developing models, and completing deployment setup.\n",
    "\n",
    "2. Structure your programming syntax based on the business problem. Once the business problem is successfully transformed into a ML structure, we should find appropriate data and build models with the data. Then, data should be prepared and processed including formatting, catching outliers, feature selecting etc. With the data prepared, we can train our data in order to fit our model. Although this can be started with many different models, as we progress based on the result from test set, few or the best one will be left. Now we can build ML pipelines, apply it, and monitor the performance after implementing initial system. Then, we can install the model in the real productions setting. This deployment can be divided into two types roughly, Static and Dynamic. Once ML model starts operating, we should keep monitoring the system, whlie trying to find additional bottleneck, unexpected bugs, or any other things can be revised to be better."
   ]
  },
  {
   "cell_type": "markdown",
   "metadata": {
    "id": "wusA9L1LmUMH"
   },
   "source": [
    "# Question 2: Applications of Machine Learning (5 pts)\n",
    "Read this [article](https://builtin.com/data-science/data-science-applications-examples) \"17 Data Science Applications & Examples\" and pick one of the data science systems used by various organizations according to this blog. \n",
    "\n",
    "For this system you have chosen, answer the following questions. Please limit your answer to one paragraph:\n",
    "\n",
    "1. What kind of machine learning problem is involved (e.g. classification, regression, clustering, outlier detection,...) in this system?\n",
    "2. Speculate on what kind of data may be needed and how the results can be useful to the organization.\n",
    "3. What do you think are the ethical implications of using machine learning in a domain like this?\n",
    "\n",
    "## Answer:"
   ]
  },
  {
   "cell_type": "markdown",
   "metadata": {},
   "source": [
    "I picked up \"IRS: EVADING TAX EVASION\" case.\n",
    "1) Kind of regression has been used to predict the amount of individual tax return based on some predictors. \n",
    "\n",
    "2) For the regression, public social media data, assorted metadata, emailing analysis, electronic payment patterns and more are needed. Any kinds of data which can contribute to predict the tax which is likely to be imposed can be included in the raw data such as the purchase amount and pattern. Based on the difference in the amount estimated and actually drawn, U.S. government can check and charge the unrightly given amount. \n",
    "\n",
    "3) As pointed in different implementation, individual privacy can be an issue as the case of preventing unallowed immigrants. From setting the model to collecting data from available source, right of any kind of citizen should be considered. For setting the model, even if the statistical figures point one group having higher probability over the other group, fully expressing this without considering social, economical context can produce less informative and offending result."
   ]
  },
  {
   "cell_type": "markdown",
   "metadata": {
    "id": "2w8za9lLmVO7"
   },
   "source": [
    "# Question 3: Simpson's Paradox (10 pts)\n",
    "A data scientist should be careful about drawing unwarranted conclusions about any data that is presented. One of the 'gotchas' that can happen even in apparently very simple tabular summaries, is called Simpson's paradox.\n",
    "\n",
    "Read this [article](https://www.covid-datascience.com/post/israeli-data-how-can-efficacy-vs-severe-disease-be-strong-when-60-of-hospitalized-are-vaccinated), which explains why the computed efficacy of the Pfizer vaccine is misleadingly low (67.5%) when you lump all people together, but once you stratify people by age (which is the right thing to do), you get much higher efficacy numbers.\n",
    "\n",
    "1.(**5 pts**) Explain in your own words what Simpson's paradox is, and how this 'paradox' can happen in real data.\n",
    "\n",
    "2.(**5 pts**) Find and mention another example of Simpson's paradox (but not any of the 3 examples given in the Wikipedia entry for 'Simpson's paradox'), state why the paradox appeared in your chosen example. Also give a reference (URL) to your source for the chosen example.\n",
    "\n",
    "## Answer:"
   ]
  },
  {
   "cell_type": "markdown",
   "metadata": {},
   "source": [
    "1. \n",
    "\n",
    " This can be told in some ways. The paradox can be a phenamenon that the seeming overall trend of a group of interest does not match with the direction or tendency of it's subgroup; The characteristic can be observed in a subset is not anymore able to be seen in the total set including the subset aforementioned.\n",
    "\n",
    " How this can happen in real world? Let's suppose there are two group X and Y. Relatively large proportion of X contributes to the relatively high proportional result with lower rate than Y's relatively small subgroup would show. Of course, the differecnes in rates (percentage) should not that be large to countervail the effect from the large group.\n",
    "\n",
    "2. \n",
    " I found a real-life example from a game company, NCSOFT. After implementing huge scale update on its main-business, It tried to know how the update affected the number of active user (AU), and their Average Revenue Per User (ARPU). The inspection revealed that While the AU had noticeably increased, the ARPU had dropped. One might think that while the total number of people playing the game increases, their concentration on the game and affection on it decreases, might requiring new strategies to turn the customers back. \n",
    " \n",
    " However, If we see more detailed picture, data from subgroups, we would reach little bit different conclusion. Instead of considering all the consumers to be in a bucket, they divided them into two groups: customers with fidelity and those with chance coming. While the ARPU of the light user (chance coming) was low, that of loyal user was not disappointing. As much part of the active user constituted light users at the time of inspection, the impact from their relatively lower amount of ARPU had been notable. \n",
    "\n",
    "Reference: https://blog.ncsoft.com/데이터-분석을-이용한-게임-고객-모델링-4/"
   ]
  },
  {
   "cell_type": "markdown",
   "metadata": {
    "id": "gth0D8jiMBSe"
   },
   "source": [
    "# Question 4: Ridge and Lasso Regression (30 pts)\n",
    "\n",
    "Download the dataset **Admission.csv** from Canvas and use the following codes to import the Admission dataset in Python. \n",
    "\n",
    "There are 7 features in the dataset:\n",
    "\n",
    "1. GRE score\n",
    "2. TOEFL score\n",
    "3. University Rating\n",
    "4. SOP(Statement of Purpose)\n",
    "5. LOR(Letter of Recommendation)\n",
    "6. CGPA\n",
    "7. Research\n",
    "\n",
    "And the target is **Chance of Admission**."
   ]
  },
  {
   "cell_type": "code",
   "execution_count": 12,
   "metadata": {
    "id": "QFazlpLgGpAa"
   },
   "outputs": [],
   "source": [
    "# Only use this code block if you are using Google Colab.\n",
    "# If you are using Jupyter Notebook, please ignore this code block. You can directly upload the file to your Jupyter Notebook file systems.\n",
    "#from google.colab import files\n",
    "\n",
    "## It will prompt you to select a local file. Click on “Choose Files” then select and upload the file. \n",
    "## Wait for the file to be 100% uploaded. You should see the name of the file once Colab has uploaded it.\n",
    "#uploaded = files.upload()"
   ]
  },
  {
   "cell_type": "code",
   "execution_count": 13,
   "metadata": {
    "id": "xsPaOOehGuU6"
   },
   "outputs": [],
   "source": [
    "# Codes below will work for both Google Colab and Jupyter Notebook.\n",
    "import numpy as np\n",
    "import pandas as pd\n",
    "import random\n",
    "from sklearn import linear_model\n",
    "from sklearn.metrics import mean_absolute_error, mean_squared_error\n",
    "from sklearn.linear_model import LinearRegression\n",
    "\n",
    "## Load the dataset into pandas DataFrame\n",
    "df = pd.read_csv('Admission.csv', index_col=0)\n",
    "df = df.replace([np.inf, -np.inf], np.nan) # \n",
    "df = df.fillna(0) # Replace all the NaN values with 0"
   ]
  },
  {
   "cell_type": "code",
   "execution_count": 14,
   "metadata": {
    "id": "PmMz72U6Gv-z"
   },
   "outputs": [
    {
     "data": {
      "text/plain": [
       "Index(['GRE_Score', 'TOEFL_Score', 'University_Rating', 'SOP', 'LOR ', 'CGPA',\n",
       "       'Research', 'Chance_of_Admit'],\n",
       "      dtype='object')"
      ]
     },
     "execution_count": 14,
     "metadata": {},
     "output_type": "execute_result"
    }
   ],
   "source": [
    "df.columns # Show you all the columns in this file"
   ]
  },
  {
   "cell_type": "code",
   "execution_count": 15,
   "metadata": {
    "id": "CyZN-yFfGxlt"
   },
   "outputs": [
    {
     "data": {
      "text/html": [
       "<div>\n",
       "<style scoped>\n",
       "    .dataframe tbody tr th:only-of-type {\n",
       "        vertical-align: middle;\n",
       "    }\n",
       "\n",
       "    .dataframe tbody tr th {\n",
       "        vertical-align: top;\n",
       "    }\n",
       "\n",
       "    .dataframe thead th {\n",
       "        text-align: right;\n",
       "    }\n",
       "</style>\n",
       "<table border=\"1\" class=\"dataframe\">\n",
       "  <thead>\n",
       "    <tr style=\"text-align: right;\">\n",
       "      <th></th>\n",
       "      <th>GRE_Score</th>\n",
       "      <th>TOEFL_Score</th>\n",
       "      <th>University_Rating</th>\n",
       "      <th>SOP</th>\n",
       "      <th>LOR</th>\n",
       "      <th>CGPA</th>\n",
       "      <th>Research</th>\n",
       "      <th>Chance_of_Admit</th>\n",
       "    </tr>\n",
       "    <tr>\n",
       "      <th>Serial No.</th>\n",
       "      <th></th>\n",
       "      <th></th>\n",
       "      <th></th>\n",
       "      <th></th>\n",
       "      <th></th>\n",
       "      <th></th>\n",
       "      <th></th>\n",
       "      <th></th>\n",
       "    </tr>\n",
       "  </thead>\n",
       "  <tbody>\n",
       "    <tr>\n",
       "      <th>1</th>\n",
       "      <td>337</td>\n",
       "      <td>118</td>\n",
       "      <td>4</td>\n",
       "      <td>4.5</td>\n",
       "      <td>4.5</td>\n",
       "      <td>9.65</td>\n",
       "      <td>1</td>\n",
       "      <td>0.92</td>\n",
       "    </tr>\n",
       "    <tr>\n",
       "      <th>2</th>\n",
       "      <td>324</td>\n",
       "      <td>107</td>\n",
       "      <td>4</td>\n",
       "      <td>4.0</td>\n",
       "      <td>4.5</td>\n",
       "      <td>8.87</td>\n",
       "      <td>1</td>\n",
       "      <td>0.76</td>\n",
       "    </tr>\n",
       "    <tr>\n",
       "      <th>3</th>\n",
       "      <td>316</td>\n",
       "      <td>104</td>\n",
       "      <td>3</td>\n",
       "      <td>3.0</td>\n",
       "      <td>3.5</td>\n",
       "      <td>8.00</td>\n",
       "      <td>1</td>\n",
       "      <td>0.72</td>\n",
       "    </tr>\n",
       "    <tr>\n",
       "      <th>4</th>\n",
       "      <td>322</td>\n",
       "      <td>110</td>\n",
       "      <td>3</td>\n",
       "      <td>3.5</td>\n",
       "      <td>2.5</td>\n",
       "      <td>8.67</td>\n",
       "      <td>1</td>\n",
       "      <td>0.80</td>\n",
       "    </tr>\n",
       "    <tr>\n",
       "      <th>5</th>\n",
       "      <td>314</td>\n",
       "      <td>103</td>\n",
       "      <td>2</td>\n",
       "      <td>2.0</td>\n",
       "      <td>3.0</td>\n",
       "      <td>8.21</td>\n",
       "      <td>0</td>\n",
       "      <td>0.65</td>\n",
       "    </tr>\n",
       "  </tbody>\n",
       "</table>\n",
       "</div>"
      ],
      "text/plain": [
       "            GRE_Score  TOEFL_Score  University_Rating  SOP  LOR   CGPA  \\\n",
       "Serial No.                                                               \n",
       "1                 337          118                  4  4.5   4.5  9.65   \n",
       "2                 324          107                  4  4.0   4.5  8.87   \n",
       "3                 316          104                  3  3.0   3.5  8.00   \n",
       "4                 322          110                  3  3.5   2.5  8.67   \n",
       "5                 314          103                  2  2.0   3.0  8.21   \n",
       "\n",
       "            Research  Chance_of_Admit  \n",
       "Serial No.                             \n",
       "1                  1             0.92  \n",
       "2                  1             0.76  \n",
       "3                  1             0.72  \n",
       "4                  1             0.80  \n",
       "5                  0             0.65  "
      ]
     },
     "execution_count": 15,
     "metadata": {},
     "output_type": "execute_result"
    }
   ],
   "source": [
    "df.head() # Show you the first 5 rows in this file"
   ]
  },
  {
   "cell_type": "code",
   "execution_count": 16,
   "metadata": {
    "id": "S3TfR0i4G2rO"
   },
   "outputs": [],
   "source": [
    "y = df['Chance_of_Admit'] # The column named Chance_of_Admit is used as the target, and we store it in y\n",
    "X = df.drop(['Chance_of_Admit'], axis=1) # We keep the remaining columns as the features, and store them in x"
   ]
  },
  {
   "cell_type": "markdown",
   "metadata": {
    "id": "pKq1KERxJw9y"
   },
   "source": [
    "1)(**2 pts**) Split the data into a training set(75% of data) and a test set(25% of data), using the [train_test_split](https://scikit-learn.org/stable/modules/generated/sklearn.model_selection.train_test_split.html) function with random_state = 50. Then scale the data (not including target) so that each of the independent variables would have zero mean and unit variance. You can use the [sklearn.preprocessing.scale](https://scikit-learn.org/stable/modules/generated/sklearn.preprocessing.scale.html) function for this. Print the first 5 rows of the training set after scaling.\n",
    "\n",
    "2)(**5 pts**) Use [sklearn.linear_model.Lasso](https://scikit-learn.org/stable/modules/generated/sklearn.linear_model.Lasso.html) and [sklearn.linear_model.Ridge](https://scikit-learn.org/stable/modules/generated/sklearn.linear_model.Ridge.html) classes to do a **5-fold** cross validation using sklearn's KFold. For the sweep of the regularization parameter, we will look at a grid of values ranging from α=10^10 to α=10^−6. In Python, you can consider this range of values as follows: alpha = 10**numpy.linspace(6,-6,100) \n",
    "so that you can generate 100 uniform values between -6 to 6 as power series.\n",
    "\n",
    "Fit the 2 regression models with scaled data and report the best chosen **α** based on cross validation as well as the corresponding scoring metric. The cross validation should happen on your training data using **MSE** as the scoring metric.\n",
    "\n",
    "3)(**5 pts**) Run ridge and lasso regression for all of the **α** specified above (on training data), and plot the coefficients learned for each of them - there should be one plot each for lasso and ridge, so a total of two plots; different features' weights of each model should be on the same plot with different colors (3pts). \n",
    "\n",
    "What do you qualitatively observe when the value of the regularization parameter changes (2pts)? \n",
    "\n",
    "4)(**3 pts**) Take the exponential of Y_train as the target, and fit the 2 regression models again. Report the best chosen **α** based on cross validation as well as the corresponding scoring metric. Compare the results of using the original target with the results of using the exponential of the target. What do you observe? \n",
    "\n",
    "5)(**5 pts**) Similarly, use [sklearn.linear_model.ElasticNet](https://scikit-learn.org/stable/modules/generated/sklearn.linear_model.ElasticNet.html) to do linear regression with different **α** values, and plot the coefficients learned for each of them (2pts). Observe the plot, then explain the pros and cons of ridge, lasso and Elastic Net models (3pts).\n",
    "\n",
    "\n",
    "6)(**5 pts**) Run the following three regression models with **MSE** loss on the training data: \n",
    "\n",
    "a. linear regression without regularization (1pts)\n",
    "\n",
    "b. linear regression with ridge regularization (2pts)\n",
    "\n",
    "c. linear regression with lasso regularization (2pts)\n",
    "\n",
    "For part (b) and (c), use only the best regularization parameters. Report the MSE and R<sup>2</sup> on the test data for each model.\n",
    "\n",
    "7)(**5 pts**) Train the 3 models and report the metrics with the original data without scaling (3pts). \n",
    "\n",
    "Why do we need to scale the data before regularization (2pts)? \n",
    "\n",
    "## Answer:\n"
   ]
  },
  {
   "cell_type": "markdown",
   "metadata": {},
   "source": [
    "## Part 1"
   ]
  },
  {
   "cell_type": "code",
   "execution_count": 17,
   "metadata": {
    "id": "pJwSM8ENCYWg"
   },
   "outputs": [
    {
     "data": {
      "text/plain": [
       "array([[ 1.52725374,  2.0917706 ,  1.61594354,  0.63150829,  1.72829095,\n",
       "         2.11370277,  0.90453403],\n",
       "       [ 0.74180896,  0.46308859, -0.9310778 , -0.35266047, -1.04140609,\n",
       "         0.29488827,  0.90453403],\n",
       "       [ 0.56726568,  0.13735218,  1.61594354,  0.63150829,  0.62041214,\n",
       "         0.26211684,  0.90453403],\n",
       "       [-0.39272239, -0.51412062, -0.08207069,  0.13942391,  0.62041214,\n",
       "        -0.80295471, -1.1055416 ],\n",
       "       [ 0.47999403,  0.78882499,  0.76693642,  1.12359267,  1.17435154,\n",
       "         1.11417408,  0.90453403]])"
      ]
     },
     "execution_count": 17,
     "metadata": {},
     "output_type": "execute_result"
    }
   ],
   "source": [
    "#1 \n",
    "import sklearn.model_selection\n",
    "import sklearn.preprocessing\n",
    "from sklearn.preprocessing import StandardScaler\n",
    "from sklearn.linear_model import Lasso\n",
    "from sklearn.linear_model import Ridge\n",
    "\n",
    "#Unscaled Data\n",
    "X_train_orig, X_test_orig, y_train_orig, y_test_orig \\\n",
    "= sklearn.model_selection.train_test_split(X,y, test_size = 0.25, random_state=50)\n",
    "\n",
    "#Scaled Data\n",
    "X_train, X_test, y_train, y_test = sklearn.model_selection.train_test_split(X,y, test_size = 0.25, random_state=50)\n",
    "X_train = sklearn.preprocessing.scale(X_train)\n",
    "X_test = sklearn.preprocessing.scale(X_test)\n",
    "\n",
    "#Tried to use other scaler.\n",
    "# train_scaler = StandardScaler(with_mean=True, with_std = True)\n",
    "# train_scaler.fit(X_train)\n",
    "# X_train = train_scaler.transform(X_train)\n",
    "\n",
    "# test_scaler = StandardScaler(with_mean=True, with_std = True)\n",
    "# test_scaler.fit(X_test)\n",
    "# X_test = test_scaler.transform(X_test)\n",
    "\n",
    "\n",
    "X_train[:5]"
   ]
  },
  {
   "cell_type": "markdown",
   "metadata": {},
   "source": [
    "y_train and y_test are series. \n",
    "This is not appropriate for the processing in Kfold. \n",
    "Let's convet them into array."
   ]
  },
  {
   "cell_type": "code",
   "execution_count": 18,
   "metadata": {},
   "outputs": [],
   "source": [
    "y_train = y_train.to_numpy()\n",
    "y_test = y_test.to_numpy()"
   ]
  },
  {
   "cell_type": "markdown",
   "metadata": {},
   "source": [
    "## Part 2 "
   ]
  },
  {
   "cell_type": "code",
   "execution_count": 19,
   "metadata": {},
   "outputs": [
    {
     "data": {
      "text/plain": [
       "KFold(n_splits=5, random_state=None, shuffle=False)"
      ]
     },
     "execution_count": 19,
     "metadata": {},
     "output_type": "execute_result"
    }
   ],
   "source": [
    "#K-fold\n",
    "\n",
    "import numpy as np\n",
    "from sklearn.model_selection import KFold\n",
    "\n",
    "kf = KFold(n_splits=5)\n",
    "\n",
    "#Showing the staus of Kfold\n",
    "kf"
   ]
  },
  {
   "cell_type": "code",
   "execution_count": 20,
   "metadata": {},
   "outputs": [],
   "source": [
    "import sklearn.model_selection\n",
    "from sklearn.linear_model import Lasso\n",
    "from sklearn.linear_model import Ridge"
   ]
  },
  {
   "cell_type": "code",
   "execution_count": 21,
   "metadata": {},
   "outputs": [
    {
     "name": "stdout",
     "output_type": "stream",
     "text": [
      "The best alpha having minimum lasso MSE is 0.001072267222010321 \n",
      "The minimum Lasso MSE through 5-fold cross validation is 0.00409842531805538\n"
     ]
    }
   ],
   "source": [
    "# #Part 2. Lasso\n",
    "\n",
    "# #kf.split(X,y)\n",
    "# #This one will generate training set indices and test set indices.\n",
    "\n",
    "# alpha = 10**np.linspace(6,-6,100)\n",
    "\n",
    "# mse_list = []\n",
    "# mse_lasso = []\n",
    "\n",
    "# #Loop our Lasso model with each alpha specified above, #100 \n",
    "# for a in alpha:\n",
    "    \n",
    "#     #Getting the index for training and test set\n",
    "#     for train_index, test_index in kf.split(X_train):\n",
    "        \n",
    "#         #With the indices, split the data set\n",
    "#         x_train, x_test = X_train[train_index], X_train[test_index]\n",
    "#         Y_train, Y_test = y_train[train_index], y_train[test_index]\n",
    "        \n",
    "#         #Find the parameter estimates with the alpha specified and the training observations\n",
    "#         model_Lasso = Lasso(alpha=a).fit(x_train, Y_train)\n",
    "        \n",
    "#         #Put the true target value(Y_test) and our expectation(Predict from Lasso)\n",
    "#         #And compare them to calculate Mean Squared Error of the Lasso regression.\n",
    "#         mse = mean_squared_error(Y_test, model_Lasso.predict(x_test))\n",
    "                \n",
    "#         mse_list.append(mse)\n",
    "\n",
    "# for i in range(100):\n",
    "#     j = i*5\n",
    "#     mse_lasso.append(sum(mse_list[j:j+5])/5)\n",
    "\n",
    "# # indices = [i for i, x in enumerate(mse_lasso) if x == min(mse_lasso)]\n",
    "# # indices\n",
    "\n",
    "# index = mse_lasso.index(min(mse_lasso))\n",
    "# b_alpha_Lasso = alpha[index]\n",
    "\n",
    "# print(\"The best alpha having minimum lasso MSE is\", alpha[index], \"\\n\" \n",
    "#       \"The minimum Lasso MSE through 5-fold cross validation is\", mse_lasso[index])"
   ]
  },
  {
   "cell_type": "code",
   "execution_count": 48,
   "metadata": {},
   "outputs": [
    {
     "name": "stdout",
     "output_type": "stream",
     "text": [
      "The best alpha having minimum lasso MSE is 0.001072267222010321 \n",
      "The minimum Lasso MSE through 5-fold cross validation is 0.00409842531805538\n"
     ]
    }
   ],
   "source": [
    "#Part 2. Lasso\n",
    "\n",
    "#kf.split(X,y)\n",
    "#This one will generate training set indices and test set indices.\n",
    "\n",
    "spacing = 100\n",
    "alpha = 10**np.linspace(6,-6,spacing)\n",
    "\n",
    "mse_list_Lasso = []\n",
    "mse_list_Ridge = []\n",
    "mse_lasso = []\n",
    "\n",
    "#Loop our Lasso model with each alpha specified above, #100 \n",
    "for a in alpha:\n",
    "    \n",
    "    #Getting the index for training and test set\n",
    "    for train_index, test_index in kf.split(X_train):\n",
    "        \n",
    "        #With the indices, split the data set\n",
    "        x_train, x_test = X_train[train_index], X_train[test_index]\n",
    "        Y_train, Y_test = y_train[train_index], y_train[test_index]\n",
    "        \n",
    "        #Find the parameter estimates with the alpha specified and the training observations\n",
    "        model_Lasso = Lasso(alpha=a).fit(x_train, Y_train)\n",
    "        model_Ridge = Ridge(alpha=a).fit(x_train, Y_train)\n",
    "        \n",
    "        #Put the true target value(Y_test) and our expectation(Predict from Lasso)\n",
    "        #And compare them to calculate Mean Squared Error of the Lasso regression.\n",
    "        mse_Lasso = mean_squared_error(Y_test, model_Lasso.predict(x_test))\n",
    "        mse_Ridge = mean_squared_error(Y_test, model_Ridge.predict(x_test))\n",
    "                \n",
    "        mse_list_Lasso.append(mse_Lasso)\n",
    "        mse_list_Ridge.append(mse_Ridge)\n",
    "\n",
    "mse_list = np.array(mse_list)\n",
    "\n",
    "for i in range(spacing):\n",
    "    mse_lasso.append(np.mean(mse_list[i*5:i*5+5]))\n",
    "\n",
    "# indices = [i for i, x in enumerate(mse_lasso) if x == min(mse_lasso)]\n",
    "\n",
    "index = mse_lasso.index(min(mse_lasso))\n",
    "b_alpha_Lasso = alpha[index]\n",
    "\n",
    "print(\"The best alpha having minimum lasso MSE is\", alpha[index], \"\\n\" \n",
    "      \"The minimum Lasso MSE through 5-fold cross validation is\", mse_lasso[index])"
   ]
  },
  {
   "cell_type": "code",
   "execution_count": 22,
   "metadata": {},
   "outputs": [
    {
     "name": "stdout",
     "output_type": "stream",
     "text": [
      "The best alpha having minimum Ridge MSE is 4.641588833612772 \n",
      "The minimum Ridge MSE through 5-fold cross validation is 0.0041180138842407095\n"
     ]
    }
   ],
   "source": [
    "#Part 2. Ridge\n",
    "\n",
    "#kf.split(X,y)\n",
    "#This one will generate training set indices and test set indices.\n",
    "\n",
    "alpha = 10**np.linspace(6,-6,100)\n",
    "\n",
    "mse_list = []\n",
    "mse_Ridge = []\n",
    "\n",
    "#Loop our Ridge model with each alpha specified above, #100 \n",
    "for a in alpha:\n",
    "    \n",
    "    #Getting the index for training and test set\n",
    "    for train_index, test_index in kf.split(X_train):\n",
    "        \n",
    "        #With the indices, split the data set\n",
    "        x_train, x_test = X_train[train_index], X_train[test_index]\n",
    "        Y_train, Y_test = y_train[train_index], y_train[test_index]\n",
    "        \n",
    "        #Find the parameter estimates with the alpha specified and the training observations\n",
    "        model_Ridge = Ridge(alpha=a).fit(x_train, Y_train)\n",
    "        \n",
    "        #Put the true target value(Y_test) and our expectation(Predict from Ridge)\n",
    "        #And compare them to calculate Mean Squared Error of the Ridge regression.\n",
    "        mse = mean_squared_error(Y_test, model_Ridge.predict(x_test))\n",
    "                \n",
    "        mse_list.append(mse)\n",
    "\n",
    "for i in range(100):\n",
    "    j = i*5\n",
    "    mse_Ridge.append(sum(mse_list[j:j+5])/5)\n",
    "\n",
    "index = mse_Ridge.index(min(mse_Ridge))\n",
    "b_alpha_Ridge = alpha[index]\n",
    "\n",
    "print(\"The best alpha having minimum Ridge MSE is\", alpha[index], \"\\n\" \n",
    "      \"The minimum Ridge MSE through 5-fold cross validation is\", mse_Ridge[index])"
   ]
  },
  {
   "cell_type": "markdown",
   "metadata": {},
   "source": [
    "## Part 3"
   ]
  },
  {
   "cell_type": "code",
   "execution_count": 23,
   "metadata": {},
   "outputs": [
    {
     "data": {
      "image/png": "[encoded data removed]",
      "text/plain": [
       "<Figure size 1440x432 with 2 Axes>"
      ]
     },
     "metadata": {
      "needs_background": "light"
     },
     "output_type": "display_data"
    }
   ],
   "source": [
    "#Part 3.\n",
    "#3 For Ridge\n",
    "import matplotlib.pyplot as plt\n",
    "\n",
    "clf = Ridge()\n",
    "coefs = []\n",
    "\n",
    "for a in alpha:\n",
    "    clf.set_params(alpha=a)\n",
    "    clf.fit(X_train, y_train)\n",
    "    coefs.append(clf.coef_)\n",
    "    \n",
    "plt.figure(figsize=(20,6))\n",
    "plt.subplot(121)\n",
    "ax = plt.gca()\n",
    "ax.plot(alpha, coefs)\n",
    "ax.set_xscale('log')\n",
    "plt.xlabel('alpha')\n",
    "plt.ylabel('weights')\n",
    "plt.title('Ridge coefficients as a function of the regularization')\n",
    "plt.axis('tight')\n",
    "\n",
    "#3 For Lasso\n",
    "\n",
    "clf2 = Lasso()\n",
    "coefs2 = []\n",
    "\n",
    "for a in alpha:\n",
    "    clf2.set_params(alpha=a)\n",
    "    clf2.fit(X_train, y_train)\n",
    "    coefs2.append(clf2.coef_)\n",
    "    \n",
    "plt.subplot(122)\n",
    "ax = plt.gca()\n",
    "ax.plot(alpha, coefs2)\n",
    "ax.set_xscale('log')\n",
    "plt.xlabel('alpha')\n",
    "plt.ylabel('weights')\n",
    "plt.title('Lasso coefficients as a function of the regularization')\n",
    "plt.axis('tight')\n",
    "\n",
    "plt.show()"
   ]
  },
  {
   "cell_type": "markdown",
   "metadata": {},
   "source": [
    " Both results from Ridge and Lasso seem to be toward zero at some point of alpha. However What different is that, in Ridge regression, the weights of features will not be zero. They converge to zero but not become zero. On the other hand, the features' weight of Lasso model actually became zero. What makes this difference? That comes from the error function. For the least square model, the error function was residual sum of square. For the ridge, the sum of the parameter estimates' square multiplied by tuning parameter is added. As the tuning parameter increases, the weights go close to zero so as to penaltize the betas. However, they will not be zero. In contrast, Lasso takes absolute beta as a coefficient of penalty term. This difference makes the trends of the graphs differed."
   ]
  },
  {
   "cell_type": "markdown",
   "metadata": {},
   "source": [
    "## Part 4"
   ]
  },
  {
   "cell_type": "code",
   "execution_count": 24,
   "metadata": {},
   "outputs": [
    {
     "name": "stdout",
     "output_type": "stream",
     "text": [
      "The best alpha having minimum lasso MSE is 0.0018738174228603867 \n",
      "The minimum Lasso MSE through 5-fold cross validation is 0.01476731964422993\n"
     ]
    }
   ],
   "source": [
    "#Part 4. Lasso with exponential\n",
    "\n",
    "y_train_exp = np.exp(y_train)\n",
    "\n",
    "mse_list = []\n",
    "mse_lasso = []\n",
    "\n",
    "#Loop our Lasso model with each alpha specified above, #100 \n",
    "for a in alpha:\n",
    "    \n",
    "    #Getting the index for training and test set\n",
    "    for train_index, test_index in kf.split(X_train):\n",
    "        \n",
    "        #With the indices, split the data set\n",
    "        x_train, x_test = X_train[train_index], X_train[test_index]\n",
    "        Y_train, Y_test = y_train_exp[train_index], y_train_exp[test_index]\n",
    "        \n",
    "        #Find the parameter estimates with the alpha specified and the training observations\n",
    "        model_Lasso_exp = Lasso(alpha=a).fit(x_train, Y_train)\n",
    "        \n",
    "        #Put the true target value(Y_test) and our expectation(Predict from Lasso)\n",
    "        #And compare them to calculate Mean Squared Error of the Lasso regression.\n",
    "        mse = mean_squared_error(Y_test, model_Lasso_exp.predict(x_test))\n",
    "                \n",
    "        mse_list.append(mse)\n",
    "\n",
    "for i in range(100):\n",
    "    j = i*5\n",
    "    #append average\n",
    "    mse_lasso.append(sum(mse_list[j:j+5])/5)\n",
    "\n",
    "index = mse_lasso.index(min(mse_lasso))\n",
    "\n",
    "print(\"The best alpha having minimum lasso MSE is\", alpha[index], \"\\n\" \n",
    "      \"The minimum Lasso MSE through 5-fold cross validation is\", mse_lasso[index])"
   ]
  },
  {
   "cell_type": "code",
   "execution_count": 25,
   "metadata": {},
   "outputs": [
    {
     "name": "stdout",
     "output_type": "stream",
     "text": [
      "The best alpha having minimum Ridge MSE with exponential target is 6.135907273413176 \n",
      "The minimum Ridge MSE with exp target through 5-fold cross validation is 0.08794271281738406\n"
     ]
    }
   ],
   "source": [
    "#Part 4. Ridge with exponential\n",
    "\n",
    "y_train_exp = np.exp(y_train)\n",
    "\n",
    "mse_list = []\n",
    "mse_Ridge = []\n",
    "\n",
    "#Loop our Ridge model with each alpha specified above, #100 \n",
    "for a in alpha:\n",
    "    \n",
    "    #Getting the index for training and test set\n",
    "    for train_index, test_index in kf.split(X_train):\n",
    "        \n",
    "        #With the indices, split the data set\n",
    "        x_train, x_test = X_train[train_index], X_train[test_index]\n",
    "        Y_train, Y_test = y_train_exp[train_index], y_train_exp[test_index]\n",
    "        \n",
    "        #Find the parameter estimates with the alpha specified and the training observations\n",
    "        model_Ridge_exp = Ridge(alpha=a).fit(x_train, Y_train)\n",
    "        \n",
    "        #Put the true target value(Y_test) and our expectation(Predict from Ridge)\n",
    "        #And compare them to calculate Mean Squared Error of the Ridge regression.\n",
    "        mse = mean_squared_error(Y_test, model_Ridge_exp.predict(x_test))\n",
    "                \n",
    "        mse_list.append(mse)\n",
    "\n",
    "for i in range(100):\n",
    "    j = i*5\n",
    "    #append average\n",
    "    mse_Ridge.append(sum(mse_list[j:j+5])/5)\n",
    "\n",
    "index = mse_Ridge.index(min(mse_Ridge))\n",
    "\n",
    "print(\"The best alpha having minimum Ridge MSE with exponential target is\", alpha[index], \"\\n\" \n",
    "      \"The minimum Ridge MSE with exp target through 5-fold cross validation is\", mse_lasso[index])"
   ]
  },
  {
   "cell_type": "markdown",
   "metadata": {},
   "source": [
    "Comparison of alpha\n",
    " Lasso with original target: 0.001\n",
    " Lasso with exp target     : 0.0018\n",
    " Ridge with original target: 4.642\n",
    " Ridge with exp target     : 6.136\n",
    "\n",
    "For both Ridge and Lasso, the alpha with exponential target has been captured as more large value. \n",
    "This means that using exponential target, here, find the best solution with more model complexity. \n",
    "In other words, as we increases model complexity, or degree of freedom, we might increase the variance, while we decrease the bias. Hence, with exponential target, both Ridge and Lasso conclude that the amount of reduced bias will exceed that of increasing variance, leading to less total error. "
   ]
  },
  {
   "cell_type": "markdown",
   "metadata": {},
   "source": [
    "## Part 5 "
   ]
  },
  {
   "cell_type": "code",
   "execution_count": 26,
   "metadata": {},
   "outputs": [
    {
     "data": {
      "image/png": "[encoded data removed]",
      "text/plain": [
       "<Figure size 1440x432 with 1 Axes>"
      ]
     },
     "metadata": {
      "needs_background": "light"
     },
     "output_type": "display_data"
    }
   ],
   "source": [
    "#Part 5. For Elastic Net Regression\n",
    "import matplotlib.pyplot as plt\n",
    "from sklearn.linear_model import ElasticNet\n",
    "\n",
    "clf3 = ElasticNet(random_state=0)\n",
    "coefs3 = []\n",
    "\n",
    "for a in alpha:\n",
    "    clf3.set_params(alpha=a)\n",
    "    clf3.fit(X_train, y_train)\n",
    "    coefs3.append(clf3.coef_)\n",
    "    \n",
    "plt.figure(figsize=(20,6))\n",
    "plt.subplot(121)\n",
    "ax2 = plt.gca()\n",
    "ax2.plot(alpha, coefs3)\n",
    "ax2.set_xscale('log')\n",
    "plt.xlabel('alpha')\n",
    "plt.ylabel('weights')\n",
    "plt.title('Elastic Net coefficients as a function of the regularization')\n",
    "plt.axis('tight')\n",
    "\n",
    "plt.show()"
   ]
  },
  {
   "cell_type": "markdown",
   "metadata": {},
   "source": [
    "### Explain Question 5"
   ]
  },
  {
   "cell_type": "markdown",
   "metadata": {},
   "source": [
    "<h4>I will choose three alphas reported best from the LassoCV; from the RidgeCV; and the mean value of them.\n",
    "\n",
    "The alpha with the model conducting 5 fold cross-validation without exponential target \n",
    "for Lasso is 0.001072267222010321.\n",
    "for Ridge is 4.641588833612772.\n",
    "\n",
    "The average value of them is 2.3213305504173913\n",
    "\n",
    "Basically, the Elastic Net is a sort of mixed method of Lasso and Ridge. \n",
    "Lasso adopts L1 regularizer, while Ridge do L2 regularizer. \n",
    "\n",
    "In other words, Ridge uses as penalty term, with the gamma given, the sum of squared estimated coefficients excepting the intercept term, while Lasso process similarily with the absolute value of coefficients.\n",
    "\n",
    "Each has its own attributes. Ridge tries to reduce the error reducing the coefficients, but it happens all parameters with same proportion. Thus with Ridge regression, we cannot select some features over the others considered to be less important. \n",
    "\n",
    "In contrast, Lasso is able to select some important features making the actual value of the coefficients zero. Adopting both penalty terms, Elastic Net tries to take the strength from both model. On pandas, we can choose the ratio bewteen each term, Let's see what happens"
   ]
  },
  {
   "cell_type": "markdown",
   "metadata": {},
   "source": [
    "## Part 6"
   ]
  },
  {
   "cell_type": "code",
   "execution_count": 27,
   "metadata": {},
   "outputs": [
    {
     "name": "stdout",
     "output_type": "stream",
     "text": [
      "The MSE of simple linear regression is 0.005200215496311309\n",
      "The R-squared value of simple linear regression is 0.6910288907914792\n",
      "The MSE of Ridge regression with the best alpha is 0.005145734926702879\n",
      "The R-squared value of Ridge regression with the best alpha is 0.6942658570353145\n",
      "The MSE of Lasso regression with the best alpha is 0.005169728551461909\n",
      "The R-squared value of Lasso regression with the best alpha is 0.6928402744107118\n"
     ]
    }
   ],
   "source": [
    "#6 For simple Linear Regression.\n",
    "model_Linear = LinearRegression().fit(X_train, y_train)\n",
    "y_pred_Linear = model_Linear.predict(X_test)\n",
    "R2_Linear = model_Linear.score(X_test, y_test)\n",
    "MSE_Linear = mean_squared_error(y_test, y_pred_Linear)\n",
    "\n",
    "print(\"The MSE of simple linear regression is\", MSE_Linear)\n",
    "print(\"The R-squared value of simple linear regression is\", R2_Linear)\n",
    "\n",
    "#6 For Ridge Regression.\n",
    "model_Ridge_balpha = Ridge(alpha = b_alpha_Ridge).fit(X_train, y_train)\n",
    "y_pred_Ridge_balpha = model_Ridge_balpha.predict(X_test)\n",
    "R2_Ridge_balpha = model_Ridge_balpha.score(X_test, y_test)\n",
    "MSE_Ridge_balpha = mean_squared_error(y_test, y_pred_Ridge_balpha)\n",
    "\n",
    "print(\"The MSE of Ridge regression with the best alpha is\", MSE_Ridge_balpha)\n",
    "print(\"The R-squared value of Ridge regression with the best alpha is\", R2_Ridge_balpha)\n",
    "\n",
    "#6 For Lasso Regression.\n",
    "model_Lasso_balpha = Lasso(alpha = b_alpha_Lasso).fit(X_train, y_train)\n",
    "y_pred_Lasso_balpha = model_Lasso_balpha.predict(X_test)\n",
    "R2_Lasso_balpha = model_Lasso_balpha.score(X_test, y_test)\n",
    "MSE_Lasso_balpha = mean_squared_error(y_test, y_pred_Lasso_balpha)\n",
    "\n",
    "print(\"The MSE of Lasso regression with the best alpha is\", MSE_Lasso_balpha)\n",
    "print(\"The R-squared value of Lasso regression with the best alpha is\", R2_Lasso_balpha)"
   ]
  },
  {
   "cell_type": "markdown",
   "metadata": {},
   "source": [
    "## Part 7"
   ]
  },
  {
   "cell_type": "code",
   "execution_count": 28,
   "metadata": {},
   "outputs": [
    {
     "name": "stdout",
     "output_type": "stream",
     "text": [
      "The MSE of simple linear regression is 0.00452631924220003\n",
      "The R-squared value of simple linear regression is 0.7310684763186411\n",
      "The MSE of Ridge regression with the best alpha and without scaling data is 0.0045196602397168245\n",
      "The R-squared value of Ridge regression with the best alpha and without scaling data is 0.7314641213423748\n",
      "The MSE of Lasso regression with the best alpha and without scaling data is 0.004581822521227286\n",
      "The R-squared value of Lasso regression with the best alpha and without scaling data is 0.7277707457346055\n"
     ]
    }
   ],
   "source": [
    "#7 For simple Linear Regression.\n",
    "model_Linear_orig = LinearRegression().fit(X_train_orig, y_train_orig)\n",
    "y_pred_Linear_orig = model_Linear_orig.predict(X_test_orig)\n",
    "R2_Linear_orig = model_Linear_orig.score(X_test_orig, y_test_orig)\n",
    "MSE_Linear_orig = mean_squared_error(y_test_orig, y_pred_Linear_orig)\n",
    "\n",
    "print(\"The MSE of simple linear regression is\", MSE_Linear_orig)\n",
    "print(\"The R-squared value of simple linear regression is\", R2_Linear_orig)\n",
    "\n",
    "#7 For Ridge Regression.\n",
    "model_Ridge_balpha_orig = Ridge(alpha = b_alpha_Ridge).fit(X_train_orig, y_train_orig)\n",
    "y_pred_Ridge_balpha_orig = model_Ridge_balpha_orig.predict(X_test_orig)\n",
    "R2_Ridge_balpha_orig = model_Ridge_balpha_orig.score(X_test_orig, y_test_orig)\n",
    "MSE_Ridge_balpha_orig = mean_squared_error(y_test_orig, y_pred_Ridge_balpha_orig)\n",
    "\n",
    "print(\"The MSE of Ridge regression with the best alpha and without scaling data is\", MSE_Ridge_balpha_orig)\n",
    "print(\"The R-squared value of Ridge regression with the best alpha and without scaling data is\", R2_Ridge_balpha_orig)\n",
    "\n",
    "#7 For Lasso Regression.\n",
    "model_Lasso_balpha_orig = Lasso(alpha = b_alpha_Lasso).fit(X_train_orig, y_train_orig)\n",
    "y_pred_Lasso_balpha_orig = model_Lasso_balpha_orig.predict(X_test_orig)\n",
    "R2_Lasso_balpha_orig = model_Lasso_balpha_orig.score(X_test_orig, y_test_orig)\n",
    "MSE_Lasso_balpha_orig = mean_squared_error(y_test_orig, y_pred_Lasso_balpha_orig)\n",
    "\n",
    "print(\"The MSE of Lasso regression with the best alpha and without scaling data is\", MSE_Lasso_balpha_orig)\n",
    "print(\"The R-squared value of Lasso regression with the best alpha and without scaling data is\", R2_Lasso_balpha_orig)"
   ]
  },
  {
   "cell_type": "markdown",
   "metadata": {},
   "source": [
    "### The reason of scaling\n",
    "\n",
    "    Compared to the least square method where multiplying a constant to a  X variable will not affect betai*Xi, the case of  coefficient estimates of ridge regression, for example, might be significantly influenced by the multiplication. Due to the sum of squared coefficients term is the error function in Ridge, multiplying 100 to a X variable will not simply cause the variable to change by a factor of 100. In conclusion, both the oversation's scale and tuning parameter have some impact on the sacle of the Xi*betai. That's why we need to scale before regularization so that the data set has unit variance. \n",
    "\n"
   ]
  }
 ],
 "metadata": {
  "colab": {
   "collapsed_sections": [],
   "name": "MIS 382N - HW1.ipynb",
   "provenance": []
  },
  "kernelspec": {
   "display_name": "Python 3 (ipykernel)",
   "language": "python",
   "name": "python3"
  },
  "language_info": {
   "codemirror_mode": {
    "name": "ipython",
    "version": 3
   },
   "file_extension": ".py",
   "mimetype": "text/x-python",
   "name": "python",
   "nbconvert_exporter": "python",
   "pygments_lexer": "ipython3",
   "version": "3.8.5"
  }
 },
 "nbformat": 4,
 "nbformat_minor": 1
}
